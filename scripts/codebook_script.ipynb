{
 "cells": [
  {
   "cell_type": "code",
   "execution_count": null,
   "id": "e77c600b",
   "metadata": {},
   "outputs": [],
   "source": [
    "import pandas as pd\n",
    "\n",
    "df = pd.read_csv('../data/population_dynamics_clean.csv')\n",
    "\n",
    "# Build the codebook\n",
    "codebook = pd.DataFrame({\n",
    "    'Variable': df.columns,\n",
    "    'Description': [\n",
    "        'Name of country',\n",
    "        'Year of the observation',\n",
    "        'Life expectancy, or the predicted number of years a newborn would live if current mortality rates continue to apply',\n",
    "        'Under-5 mortality rate, or the probability (per 1000 live births) that a child will die before reaching 5 years of age',\n",
    "        'Adolescent fertility rate, or the number of births per 1000 women from ages 15-19',\n",
    "        'Secondary school enrollment rate, or the ratio of total secondary school enrollment to the population of the secondary school age group'\n",
    "    ],\n",
    "    'Type': df.dtypes.values,\n",
    "    'Missing Values': df.isnull().sum().values,\n",
    "    'Unique Values': df.nunique().values,\n",
    "    'Mean': df.mean(numeric_only=True).reindex(df.columns).values,\n",
    "    'Standard Deviation': df.std(numeric_only=True).reindex(df.columns).values,\n",
    "    'Minimum': df.min(numeric_only=True).reindex(df.columns).values,\n",
    "    'Maximum': df.max(numeric_only=True).reindex(df.columns).values\n",
    "})\n",
    "\n",
    "# Save to CSV\n",
    "codebook.to_csv('../documentation/codebook.csv', index=False)"
   ]
  }
 ],
 "metadata": {
  "kernelspec": {
   "display_name": "base",
   "language": "python",
   "name": "python3"
  },
  "language_info": {
   "codemirror_mode": {
    "name": "ipython",
    "version": 3
   },
   "file_extension": ".py",
   "mimetype": "text/x-python",
   "name": "python",
   "nbconvert_exporter": "python",
   "pygments_lexer": "ipython3",
   "version": "3.12.2"
  }
 },
 "nbformat": 4,
 "nbformat_minor": 5
}
