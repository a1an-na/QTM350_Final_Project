{
 "cells": [
  {
   "cell_type": "code",
   "execution_count": 1,
   "id": "323be2c0",
   "metadata": {},
   "outputs": [],
   "source": [
    "import pandas as pd\n",
    "import plotly.express as px"
   ]
  },
  {
   "cell_type": "code",
   "execution_count": 2,
   "id": "23326177",
   "metadata": {},
   "outputs": [],
   "source": [
    "# Read the dataset\n",
    "df = pd.read_csv('../data/population_dynamics_clean.csv')"
   ]
  },
  {
   "cell_type": "code",
   "execution_count": 3,
   "id": "b65f9511",
   "metadata": {},
   "outputs": [],
   "source": [
    "# Normalize the life expectancy column to see clearer changes\n",
    "# 0.01 is added to avoid a minimum value of 0\n",
    "df['life_expectancy_norm'] = 0.01 + (df['life_expectancy'] - df['life_expectancy'].min()) / (df['life_expectancy'].max() - df['life_expectancy'].min())"
   ]
  },
  {
   "cell_type": "code",
   "execution_count": 8,
   "id": "a77f68d6",
   "metadata": {},
   "outputs": [
    {
     "data": {
      "application/vnd.plotly.v1+json": {
       "config": {
        "plotlyServerURL": "https://plot.ly"
       },
       "data": [
        {
         "hovertemplate": "<b>%{hovertext}</b><br><br>country=Afghanistan<br>year=2000<br>Under-5 Mortality Rate=%{x}<br>Adolescent Fertility Rate=%{y}<br>Life Expectancy (Normalized)=%{marker.size}<extra></extra>",
         "hovertext": [
          "Afghanistan"
         ],
         "ids": [
          "Afghanistan"
         ],
         "legendgroup": "Afghanistan",
         "marker": {
          "color": "#1f77b4",
          "size": [
           0.01
          ],
          "sizemode": "area",
          "sizeref": 0.00028055555555555554,
          "symbol": "circle"
         },
         "mode": "markers",
         "name": "Afghanistan",
         "orientation": "v",
         "showlegend": true,
         "type": "scatter",
         "x": [
          131.7
         ],
         "xaxis": "x",
         "y": [
          154.31
         ],
         "yaxis": "y"
        },
        {
         "hovertemplate": "<b>%{hovertext}</b><br><br>country=Brazil<br>year=2000<br>Under-5 Mortality Rate=%{x}<br>Adolescent Fertility Rate=%{y}<br>Life Expectancy (Normalized)=%{marker.size}<extra></extra>",
         "hovertext": [
          "Brazil"
         ],
         "ids": [
          "Brazil"
         ],
         "legendgroup": "Brazil",
         "marker": {
          "color": "#ff7f0e",
          "size": [
           0.5629863663570877
          ],
          "sizemode": "area",
          "sizeref": 0.00028055555555555554,
          "symbol": "circle"
         },
         "mode": "markers",
         "name": "Brazil",
         "orientation": "v",
         "showlegend": true,
         "type": "scatter",
         "x": [
          34.5
         ],
         "xaxis": "x",
         "y": [
          85.611
         ],
         "yaxis": "y"
        },
        {
         "hovertemplate": "<b>%{hovertext}</b><br><br>country=India<br>year=2000<br>Under-5 Mortality Rate=%{x}<br>Adolescent Fertility Rate=%{y}<br>Life Expectancy (Normalized)=%{marker.size}<extra></extra>",
         "hovertext": [
          "India"
         ],
         "ids": [
          "India"
         ],
         "legendgroup": "India",
         "marker": {
          "color": "green",
          "size": [
           0.3037325208223669
          ],
          "sizemode": "area",
          "sizeref": 0.00028055555555555554,
          "symbol": "circle"
         },
         "mode": "markers",
         "name": "India",
         "orientation": "v",
         "showlegend": true,
         "type": "scatter",
         "x": [
          91.6
         ],
         "xaxis": "x",
         "y": [
          114.352
         ],
         "yaxis": "y"
        },
        {
         "hovertemplate": "<b>%{hovertext}</b><br><br>country=Kenya<br>year=2000<br>Under-5 Mortality Rate=%{x}<br>Adolescent Fertility Rate=%{y}<br>Life Expectancy (Normalized)=%{marker.size}<extra></extra>",
         "hovertext": [
          "Kenya"
         ],
         "ids": [
          "Kenya"
         ],
         "legendgroup": "Kenya",
         "marker": {
          "color": "red",
          "size": [
           0.05092683238214541
          ],
          "sizemode": "area",
          "sizeref": 0.00028055555555555554,
          "symbol": "circle"
         },
         "mode": "markers",
         "name": "Kenya",
         "orientation": "v",
         "showlegend": true,
         "type": "scatter",
         "x": [
          96.3
         ],
         "xaxis": "x",
         "y": [
          121.104
         ],
         "yaxis": "y"
        },
        {
         "hovertemplate": "<b>%{hovertext}</b><br><br>country=United Kingdom<br>year=2000<br>Under-5 Mortality Rate=%{x}<br>Adolescent Fertility Rate=%{y}<br>Life Expectancy (Normalized)=%{marker.size}<extra></extra>",
         "hovertext": [
          "United Kingdom"
         ],
         "ids": [
          "United Kingdom"
         ],
         "legendgroup": "United Kingdom",
         "marker": {
          "color": "#9467bd",
          "size": [
           0.8724016933582156
          ],
          "sizemode": "area",
          "sizeref": 0.00028055555555555554,
          "symbol": "circle"
         },
         "mode": "markers",
         "name": "United Kingdom",
         "orientation": "v",
         "showlegend": true,
         "type": "scatter",
         "x": [
          6.5
         ],
         "xaxis": "x",
         "y": [
          28.732
         ],
         "yaxis": "y"
        }
       ],
       "frames": [
        {
         "data": [
          {
           "hovertemplate": "<b>%{hovertext}</b><br><br>country=Afghanistan<br>year=2000<br>Under-5 Mortality Rate=%{x}<br>Adolescent Fertility Rate=%{y}<br>Life Expectancy (Normalized)=%{marker.size}<extra></extra>",
           "hovertext": [
            "Afghanistan"
           ],
           "ids": [
            "Afghanistan"
           ],
           "legendgroup": "Afghanistan",
           "marker": {
            "color": "#1f77b4",
            "size": [
             0.01
            ],
            "sizemode": "area",
            "sizeref": 0.00028055555555555554,
            "symbol": "circle"
           },
           "mode": "markers",
           "name": "Afghanistan",
           "orientation": "v",
           "showlegend": true,
           "type": "scatter",
           "x": [
            131.7
           ],
           "xaxis": "x",
           "y": [
            154.31
           ],
           "yaxis": "y"
          },
          {
           "hovertemplate": "<b>%{hovertext}</b><br><br>country=Brazil<br>year=2000<br>Under-5 Mortality Rate=%{x}<br>Adolescent Fertility Rate=%{y}<br>Life Expectancy (Normalized)=%{marker.size}<extra></extra>",
           "hovertext": [
            "Brazil"
           ],
           "ids": [
            "Brazil"
           ],
           "legendgroup": "Brazil",
           "marker": {
            "color": "#ff7f0e",
            "size": [
             0.5629863663570877
            ],
            "sizemode": "area",
            "sizeref": 0.00028055555555555554,
            "symbol": "circle"
           },
           "mode": "markers",
           "name": "Brazil",
           "orientation": "v",
           "showlegend": true,
           "type": "scatter",
           "x": [
            34.5
           ],
           "xaxis": "x",
           "y": [
            85.611
           ],
           "yaxis": "y"
          },
          {
           "hovertemplate": "<b>%{hovertext}</b><br><br>country=India<br>year=2000<br>Under-5 Mortality Rate=%{x}<br>Adolescent Fertility Rate=%{y}<br>Life Expectancy (Normalized)=%{marker.size}<extra></extra>",
           "hovertext": [
            "India"
           ],
           "ids": [
            "India"
           ],
           "legendgroup": "India",
           "marker": {
            "color": "green",
            "size": [
             0.3037325208223669
            ],
            "sizemode": "area",
            "sizeref": 0.00028055555555555554,
            "symbol": "circle"
           },
           "mode": "markers",
           "name": "India",
           "orientation": "v",
           "showlegend": true,
           "type": "scatter",
           "x": [
            91.6
           ],
           "xaxis": "x",
           "y": [
            114.352
           ],
           "yaxis": "y"
          },
          {
           "hovertemplate": "<b>%{hovertext}</b><br><br>country=Kenya<br>year=2000<br>Under-5 Mortality Rate=%{x}<br>Adolescent Fertility Rate=%{y}<br>Life Expectancy (Normalized)=%{marker.size}<extra></extra>",
           "hovertext": [
            "Kenya"
           ],
           "ids": [
            "Kenya"
           ],
           "legendgroup": "Kenya",
           "marker": {
            "color": "red",
            "size": [
             0.05092683238214541
            ],
            "sizemode": "area",
            "sizeref": 0.00028055555555555554,
            "symbol": "circle"
           },
           "mode": "markers",
           "name": "Kenya",
           "orientation": "v",
           "showlegend": true,
           "type": "scatter",
           "x": [
            96.3
           ],
           "xaxis": "x",
           "y": [
            121.104
           ],
           "yaxis": "y"
          },
          {
           "hovertemplate": "<b>%{hovertext}</b><br><br>country=United Kingdom<br>year=2000<br>Under-5 Mortality Rate=%{x}<br>Adolescent Fertility Rate=%{y}<br>Life Expectancy (Normalized)=%{marker.size}<extra></extra>",
           "hovertext": [
            "United Kingdom"
           ],
           "ids": [
            "United Kingdom"
           ],
           "legendgroup": "United Kingdom",
           "marker": {
            "color": "#9467bd",
            "size": [
             0.8724016933582156
            ],
            "sizemode": "area",
            "sizeref": 0.00028055555555555554,
            "symbol": "circle"
           },
           "mode": "markers",
           "name": "United Kingdom",
           "orientation": "v",
           "showlegend": true,
           "type": "scatter",
           "x": [
            6.5
           ],
           "xaxis": "x",
           "y": [
            28.732
           ],
           "yaxis": "y"
          }
         ],
         "name": "2000"
        },
        {
         "data": [
          {
           "hovertemplate": "<b>%{hovertext}</b><br><br>country=Afghanistan<br>year=2001<br>Under-5 Mortality Rate=%{x}<br>Adolescent Fertility Rate=%{y}<br>Life Expectancy (Normalized)=%{marker.size}<extra></extra>",
           "hovertext": [
            "Afghanistan"
           ],
           "ids": [
            "Afghanistan"
           ],
           "legendgroup": "Afghanistan",
           "marker": {
            "color": "#1f77b4",
            "size": [
             0.029192749940097844
            ],
            "sizemode": "area",
            "sizeref": 0.00028055555555555554,
            "symbol": "circle"
           },
           "mode": "markers",
           "name": "Afghanistan",
           "orientation": "v",
           "showlegend": true,
           "type": "scatter",
           "x": [
            127.4
           ],
           "xaxis": "x",
           "y": [
            152.471
           ],
           "yaxis": "y"
          },
          {
           "hovertemplate": "<b>%{hovertext}</b><br><br>country=Brazil<br>year=2001<br>Under-5 Mortality Rate=%{x}<br>Adolescent Fertility Rate=%{y}<br>Life Expectancy (Normalized)=%{marker.size}<extra></extra>",
           "hovertext": [
            "Brazil"
           ],
           "ids": [
            "Brazil"
           ],
           "legendgroup": "Brazil",
           "marker": {
            "color": "#ff7f0e",
            "size": [
             0.578006779353686
            ],
            "sizemode": "area",
            "sizeref": 0.00028055555555555554,
            "symbol": "circle"
           },
           "mode": "markers",
           "name": "Brazil",
           "orientation": "v",
           "showlegend": true,
           "type": "scatter",
           "x": [
            32.2
           ],
           "xaxis": "x",
           "y": [
            84.155
           ],
           "yaxis": "y"
          },
          {
           "hovertemplate": "<b>%{hovertext}</b><br><br>country=India<br>year=2001<br>Under-5 Mortality Rate=%{x}<br>Adolescent Fertility Rate=%{y}<br>Life Expectancy (Normalized)=%{marker.size}<extra></extra>",
           "hovertext": [
            "India"
           ],
           "ids": [
            "India"
           ],
           "legendgroup": "India",
           "marker": {
            "color": "green",
            "size": [
             0.3192460281850151
            ],
            "sizemode": "area",
            "sizeref": 0.00028055555555555554,
            "symbol": "circle"
           },
           "mode": "markers",
           "name": "India",
           "orientation": "v",
           "showlegend": true,
           "type": "scatter",
           "x": [
            88
           ],
           "xaxis": "x",
           "y": [
            112.043
           ],
           "yaxis": "y"
          },
          {
           "hovertemplate": "<b>%{hovertext}</b><br><br>country=Kenya<br>year=2001<br>Under-5 Mortality Rate=%{x}<br>Adolescent Fertility Rate=%{y}<br>Life Expectancy (Normalized)=%{marker.size}<extra></extra>",
           "hovertext": [
            "Kenya"
           ],
           "ids": [
            "Kenya"
           ],
           "legendgroup": "Kenya",
           "marker": {
            "color": "red",
            "size": [
             0.06674378243159342
            ],
            "sizemode": "area",
            "sizeref": 0.00028055555555555554,
            "symbol": "circle"
           },
           "mode": "markers",
           "name": "Kenya",
           "orientation": "v",
           "showlegend": true,
           "type": "scatter",
           "x": [
            91.6
           ],
           "xaxis": "x",
           "y": [
            123.253
           ],
           "yaxis": "y"
          },
          {
           "hovertemplate": "<b>%{hovertext}</b><br><br>country=United Kingdom<br>year=2001<br>Under-5 Mortality Rate=%{x}<br>Adolescent Fertility Rate=%{y}<br>Life Expectancy (Normalized)=%{marker.size}<extra></extra>",
           "hovertext": [
            "United Kingdom"
           ],
           "ids": [
            "United Kingdom"
           ],
           "legendgroup": "United Kingdom",
           "marker": {
            "color": "#9467bd",
            "size": [
             0.881930533827848
            ],
            "sizemode": "area",
            "sizeref": 0.00028055555555555554,
            "symbol": "circle"
           },
           "mode": "markers",
           "name": "United Kingdom",
           "orientation": "v",
           "showlegend": true,
           "type": "scatter",
           "x": [
            6.4
           ],
           "xaxis": "x",
           "y": [
            27.051
           ],
           "yaxis": "y"
          }
         ],
         "name": "2001"
        },
        {
         "data": [
          {
           "hovertemplate": "<b>%{hovertext}</b><br><br>country=Afghanistan<br>year=2002<br>Under-5 Mortality Rate=%{x}<br>Adolescent Fertility Rate=%{y}<br>Life Expectancy (Normalized)=%{marker.size}<extra></extra>",
           "hovertext": [
            "Afghanistan"
           ],
           "ids": [
            "Afghanistan"
           ],
           "legendgroup": "Afghanistan",
           "marker": {
            "color": "#1f77b4",
            "size": [
             0.056275009736994744
            ],
            "sizemode": "area",
            "sizeref": 0.00028055555555555554,
            "symbol": "circle"
           },
           "mode": "markers",
           "name": "Afghanistan",
           "orientation": "v",
           "showlegend": true,
           "type": "scatter",
           "x": [
            123.1
           ],
           "xaxis": "x",
           "y": [
            150.161
           ],
           "yaxis": "y"
          },
          {
           "hovertemplate": "<b>%{hovertext}</b><br><br>country=Brazil<br>year=2002<br>Under-5 Mortality Rate=%{x}<br>Adolescent Fertility Rate=%{y}<br>Life Expectancy (Normalized)=%{marker.size}<extra></extra>",
           "hovertext": [
            "Brazil"
           ],
           "ids": [
            "Brazil"
           ],
           "legendgroup": "Brazil",
           "marker": {
            "color": "#ff7f0e",
            "size": [
             0.5937857990672841
            ],
            "sizemode": "area",
            "sizeref": 0.00028055555555555554,
            "symbol": "circle"
           },
           "mode": "markers",
           "name": "Brazil",
           "orientation": "v",
           "showlegend": true,
           "type": "scatter",
           "x": [
            30.1
           ],
           "xaxis": "x",
           "y": [
            81.131
           ],
           "yaxis": "y"
          },
          {
           "hovertemplate": "<b>%{hovertext}</b><br><br>country=India<br>year=2002<br>Under-5 Mortality Rate=%{x}<br>Adolescent Fertility Rate=%{y}<br>Life Expectancy (Normalized)=%{marker.size}<extra></extra>",
           "hovertext": [
            "India"
           ],
           "ids": [
            "India"
           ],
           "legendgroup": "India",
           "marker": {
            "color": "green",
            "size": [
             0.33786982308736296
            ],
            "sizemode": "area",
            "sizeref": 0.00028055555555555554,
            "symbol": "circle"
           },
           "mode": "markers",
           "name": "India",
           "orientation": "v",
           "showlegend": true,
           "type": "scatter",
           "x": [
            84.5
           ],
           "xaxis": "x",
           "y": [
            105.119
           ],
           "yaxis": "y"
          },
          {
           "hovertemplate": "<b>%{hovertext}</b><br><br>country=Kenya<br>year=2002<br>Under-5 Mortality Rate=%{x}<br>Adolescent Fertility Rate=%{y}<br>Life Expectancy (Normalized)=%{marker.size}<extra></extra>",
           "hovertext": [
            "Kenya"
           ],
           "ids": [
            "Kenya"
           ],
           "legendgroup": "Kenya",
           "marker": {
            "color": "red",
            "size": [
             0.07652980908089241
            ],
            "sizemode": "area",
            "sizeref": 0.00028055555555555554,
            "symbol": "circle"
           },
           "mode": "markers",
           "name": "Kenya",
           "orientation": "v",
           "showlegend": true,
           "type": "scatter",
           "x": [
            86.6
           ],
           "xaxis": "x",
           "y": [
            120.567
           ],
           "yaxis": "y"
          },
          {
           "hovertemplate": "<b>%{hovertext}</b><br><br>country=United Kingdom<br>year=2002<br>Under-5 Mortality Rate=%{x}<br>Adolescent Fertility Rate=%{y}<br>Life Expectancy (Normalized)=%{marker.size}<extra></extra>",
           "hovertext": [
            "United Kingdom"
           ],
           "ids": [
            "United Kingdom"
           ],
           "legendgroup": "United Kingdom",
           "marker": {
            "color": "#9467bd",
            "size": [
             0.8876663407124806
            ],
            "sizemode": "area",
            "sizeref": 0.00028055555555555554,
            "symbol": "circle"
           },
           "mode": "markers",
           "name": "United Kingdom",
           "orientation": "v",
           "showlegend": true,
           "type": "scatter",
           "x": [
            6.3
           ],
           "xaxis": "x",
           "y": [
            26.242
           ],
           "yaxis": "y"
          }
         ],
         "name": "2002"
        },
        {
         "data": [
          {
           "hovertemplate": "<b>%{hovertext}</b><br><br>country=Afghanistan<br>year=2003<br>Under-5 Mortality Rate=%{x}<br>Adolescent Fertility Rate=%{y}<br>Life Expectancy (Normalized)=%{marker.size}<extra></extra>",
           "hovertext": [
            "Afghanistan"
           ],
           "ids": [
            "Afghanistan"
           ],
           "legendgroup": "Afghanistan",
           "marker": {
            "color": "#1f77b4",
            "size": [
             0.09215710745109061
            ],
            "sizemode": "area",
            "sizeref": 0.00028055555555555554,
            "symbol": "circle"
           },
           "mode": "markers",
           "name": "Afghanistan",
           "orientation": "v",
           "showlegend": true,
           "type": "scatter",
           "x": [
            118.7
           ],
           "xaxis": "x",
           "y": [
            143.75
           ],
           "yaxis": "y"
          },
          {
           "hovertemplate": "<b>%{hovertext}</b><br><br>country=Brazil<br>year=2003<br>Under-5 Mortality Rate=%{x}<br>Adolescent Fertility Rate=%{y}<br>Life Expectancy (Normalized)=%{marker.size}<extra></extra>",
           "hovertext": [
            "Brazil"
           ],
           "ids": [
            "Brazil"
           ],
           "legendgroup": "Brazil",
           "marker": {
            "color": "#ff7f0e",
            "size": [
             0.612295802962082
            ],
            "sizemode": "area",
            "sizeref": 0.00028055555555555554,
            "symbol": "circle"
           },
           "mode": "markers",
           "name": "Brazil",
           "orientation": "v",
           "showlegend": true,
           "type": "scatter",
           "x": [
            28.1
           ],
           "xaxis": "x",
           "y": [
            78.025
           ],
           "yaxis": "y"
          },
          {
           "hovertemplate": "<b>%{hovertext}</b><br><br>country=India<br>year=2003<br>Under-5 Mortality Rate=%{x}<br>Adolescent Fertility Rate=%{y}<br>Life Expectancy (Normalized)=%{marker.size}<extra></extra>",
           "hovertext": [
            "India"
           ],
           "ids": [
            "India"
           ],
           "legendgroup": "India",
           "marker": {
            "color": "green",
            "size": [
             0.354445379853811
            ],
            "sizemode": "area",
            "sizeref": 0.00028055555555555554,
            "symbol": "circle"
           },
           "mode": "markers",
           "name": "India",
           "orientation": "v",
           "showlegend": true,
           "type": "scatter",
           "x": [
            81.1
           ],
           "xaxis": "x",
           "y": [
            97.366
           ],
           "yaxis": "y"
          },
          {
           "hovertemplate": "<b>%{hovertext}</b><br><br>country=Kenya<br>year=2003<br>Under-5 Mortality Rate=%{x}<br>Adolescent Fertility Rate=%{y}<br>Life Expectancy (Normalized)=%{marker.size}<extra></extra>",
           "hovertext": [
            "Kenya"
           ],
           "ids": [
            "Kenya"
           ],
           "legendgroup": "Kenya",
           "marker": {
            "color": "red",
            "size": [
             0.09966731394938978
            ],
            "sizemode": "area",
            "sizeref": 0.00028055555555555554,
            "symbol": "circle"
           },
           "mode": "markers",
           "name": "Kenya",
           "orientation": "v",
           "showlegend": true,
           "type": "scatter",
           "x": [
            81.6
           ],
           "xaxis": "x",
           "y": [
            119.028
           ],
           "yaxis": "y"
          },
          {
           "hovertemplate": "<b>%{hovertext}</b><br><br>country=United Kingdom<br>year=2003<br>Under-5 Mortality Rate=%{x}<br>Adolescent Fertility Rate=%{y}<br>Life Expectancy (Normalized)=%{marker.size}<extra></extra>",
           "hovertext": [
            "United Kingdom"
           ],
           "ids": [
            "United Kingdom"
           ],
           "legendgroup": "United Kingdom",
           "marker": {
            "color": "#9467bd",
            "size": [
             0.8991379544817458
            ],
            "sizemode": "area",
            "sizeref": 0.00028055555555555554,
            "symbol": "circle"
           },
           "mode": "markers",
           "name": "United Kingdom",
           "orientation": "v",
           "showlegend": true,
           "type": "scatter",
           "x": [
            6.3
           ],
           "xaxis": "x",
           "y": [
            26.859
           ],
           "yaxis": "y"
          }
         ],
         "name": "2003"
        },
        {
         "data": [
          {
           "hovertemplate": "<b>%{hovertext}</b><br><br>country=Afghanistan<br>year=2004<br>Under-5 Mortality Rate=%{x}<br>Adolescent Fertility Rate=%{y}<br>Life Expectancy (Normalized)=%{marker.size}<extra></extra>",
           "hovertext": [
            "Afghanistan"
           ],
           "ids": [
            "Afghanistan"
           ],
           "legendgroup": "Afghanistan",
           "marker": {
            "color": "#1f77b4",
            "size": [
             0.11639459205923798
            ],
            "sizemode": "area",
            "sizeref": 0.00028055555555555554,
            "symbol": "circle"
           },
           "mode": "markers",
           "name": "Afghanistan",
           "orientation": "v",
           "showlegend": true,
           "type": "scatter",
           "x": [
            114.2
           ],
           "xaxis": "x",
           "y": [
            136.93
           ],
           "yaxis": "y"
          },
          {
           "hovertemplate": "<b>%{hovertext}</b><br><br>country=Brazil<br>year=2004<br>Under-5 Mortality Rate=%{x}<br>Adolescent Fertility Rate=%{y}<br>Life Expectancy (Normalized)=%{marker.size}<extra></extra>",
           "hovertext": [
            "Brazil"
           ],
           "ids": [
            "Brazil"
           ],
           "legendgroup": "Brazil",
           "marker": {
            "color": "#ff7f0e",
            "size": [
             0.6303885731625302
            ],
            "sizemode": "area",
            "sizeref": 0.00028055555555555554,
            "symbol": "circle"
           },
           "mode": "markers",
           "name": "Brazil",
           "orientation": "v",
           "showlegend": true,
           "type": "scatter",
           "x": [
            26.3
           ],
           "xaxis": "x",
           "y": [
            76.9
           ],
           "yaxis": "y"
          },
          {
           "hovertemplate": "<b>%{hovertext}</b><br><br>country=India<br>year=2004<br>Under-5 Mortality Rate=%{x}<br>Adolescent Fertility Rate=%{y}<br>Life Expectancy (Normalized)=%{marker.size}<extra></extra>",
           "hovertext": [
            "India"
           ],
           "ids": [
            "India"
           ],
           "legendgroup": "India",
           "marker": {
            "color": "green",
            "size": [
             0.36954165352210916
            ],
            "sizemode": "area",
            "sizeref": 0.00028055555555555554,
            "symbol": "circle"
           },
           "mode": "markers",
           "name": "India",
           "orientation": "v",
           "showlegend": true,
           "type": "scatter",
           "x": [
            77.7
           ],
           "xaxis": "x",
           "y": [
            83.5
           ],
           "yaxis": "y"
          },
          {
           "hovertemplate": "<b>%{hovertext}</b><br><br>country=Kenya<br>year=2004<br>Under-5 Mortality Rate=%{x}<br>Adolescent Fertility Rate=%{y}<br>Life Expectancy (Normalized)=%{marker.size}<extra></extra>",
           "hovertext": [
            "Kenya"
           ],
           "ids": [
            "Kenya"
           ],
           "legendgroup": "Kenya",
           "marker": {
            "color": "red",
            "size": [
             0.12159104807068742
            ],
            "sizemode": "area",
            "sizeref": 0.00028055555555555554,
            "symbol": "circle"
           },
           "mode": "markers",
           "name": "Kenya",
           "orientation": "v",
           "showlegend": true,
           "type": "scatter",
           "x": [
            76.6
           ],
           "xaxis": "x",
           "y": [
            118.167
           ],
           "yaxis": "y"
          },
          {
           "hovertemplate": "<b>%{hovertext}</b><br><br>country=United Kingdom<br>year=2004<br>Under-5 Mortality Rate=%{x}<br>Adolescent Fertility Rate=%{y}<br>Life Expectancy (Normalized)=%{marker.size}<extra></extra>",
           "hovertext": [
            "United Kingdom"
           ],
           "ids": [
            "United Kingdom"
           ],
           "legendgroup": "United Kingdom",
           "marker": {
            "color": "#9467bd",
            "size": [
             0.9105170552367444
            ],
            "sizemode": "area",
            "sizeref": 0.00028055555555555554,
            "symbol": "circle"
           },
           "mode": "markers",
           "name": "United Kingdom",
           "orientation": "v",
           "showlegend": true,
           "type": "scatter",
           "x": [
            6.1
           ],
           "xaxis": "x",
           "y": [
            27.278
           ],
           "yaxis": "y"
          }
         ],
         "name": "2004"
        },
        {
         "data": [
          {
           "hovertemplate": "<b>%{hovertext}</b><br><br>country=Afghanistan<br>year=2005<br>Under-5 Mortality Rate=%{x}<br>Adolescent Fertility Rate=%{y}<br>Life Expectancy (Normalized)=%{marker.size}<extra></extra>",
           "hovertext": [
            "Afghanistan"
           ],
           "ids": [
            "Afghanistan"
           ],
           "legendgroup": "Afghanistan",
           "marker": {
            "color": "#1f77b4",
            "size": [
             0.13297014882568603
            ],
            "sizemode": "area",
            "sizeref": 0.00028055555555555554,
            "symbol": "circle"
           },
           "mode": "markers",
           "name": "Afghanistan",
           "orientation": "v",
           "showlegend": true,
           "type": "scatter",
           "x": [
            109.7
           ],
           "xaxis": "x",
           "y": [
            130.838
           ],
           "yaxis": "y"
          },
          {
           "hovertemplate": "<b>%{hovertext}</b><br><br>country=Brazil<br>year=2005<br>Under-5 Mortality Rate=%{x}<br>Adolescent Fertility Rate=%{y}<br>Life Expectancy (Normalized)=%{marker.size}<extra></extra>",
           "hovertext": [
            "Brazil"
           ],
           "ids": [
            "Brazil"
           ],
           "legendgroup": "Brazil",
           "marker": {
            "color": "#ff7f0e",
            "size": [
             0.6482537613478777
            ],
            "sizemode": "area",
            "sizeref": 0.00028055555555555554,
            "symbol": "circle"
           },
           "mode": "markers",
           "name": "Brazil",
           "orientation": "v",
           "showlegend": true,
           "type": "scatter",
           "x": [
            24.6
           ],
           "xaxis": "x",
           "y": [
            75.968
           ],
           "yaxis": "y"
          },
          {
           "hovertemplate": "<b>%{hovertext}</b><br><br>country=India<br>year=2005<br>Under-5 Mortality Rate=%{x}<br>Adolescent Fertility Rate=%{y}<br>Life Expectancy (Normalized)=%{marker.size}<extra></extra>",
           "hovertext": [
            "India"
           ],
           "ids": [
            "India"
           ],
           "legendgroup": "India",
           "marker": {
            "color": "green",
            "size": [
             0.38679995633385716
            ],
            "sizemode": "area",
            "sizeref": 0.00028055555555555554,
            "symbol": "circle"
           },
           "mode": "markers",
           "name": "India",
           "orientation": "v",
           "showlegend": true,
           "type": "scatter",
           "x": [
            74.4
           ],
           "xaxis": "x",
           "y": [
            64.678
           ],
           "yaxis": "y"
          },
          {
           "hovertemplate": "<b>%{hovertext}</b><br><br>country=Kenya<br>year=2005<br>Under-5 Mortality Rate=%{x}<br>Adolescent Fertility Rate=%{y}<br>Life Expectancy (Normalized)=%{marker.size}<extra></extra>",
           "hovertext": [
            "Kenya"
           ],
           "ids": [
            "Kenya"
           ],
           "legendgroup": "Kenya",
           "marker": {
            "color": "red",
            "size": [
             0.14294582715423484
            ],
            "sizemode": "area",
            "sizeref": 0.00028055555555555554,
            "symbol": "circle"
           },
           "mode": "markers",
           "name": "Kenya",
           "orientation": "v",
           "showlegend": true,
           "type": "scatter",
           "x": [
            71.5
           ],
           "xaxis": "x",
           "y": [
            115.294
           ],
           "yaxis": "y"
          },
          {
           "hovertemplate": "<b>%{hovertext}</b><br><br>country=United Kingdom<br>year=2005<br>Under-5 Mortality Rate=%{x}<br>Adolescent Fertility Rate=%{y}<br>Life Expectancy (Normalized)=%{marker.size}<extra></extra>",
           "hovertext": [
            "United Kingdom"
           ],
           "ids": [
            "United Kingdom"
           ],
           "legendgroup": "United Kingdom",
           "marker": {
            "color": "#9467bd",
            "size": [
             0.921988669006014
            ],
            "sizemode": "area",
            "sizeref": 0.00028055555555555554,
            "symbol": "circle"
           },
           "mode": "markers",
           "name": "United Kingdom",
           "orientation": "v",
           "showlegend": true,
           "type": "scatter",
           "x": [
            6
           ],
           "xaxis": "x",
           "y": [
            26.542
           ],
           "yaxis": "y"
          }
         ],
         "name": "2005"
        },
        {
         "data": [
          {
           "hovertemplate": "<b>%{hovertext}</b><br><br>country=Afghanistan<br>year=2006<br>Under-5 Mortality Rate=%{x}<br>Adolescent Fertility Rate=%{y}<br>Life Expectancy (Normalized)=%{marker.size}<extra></extra>",
           "hovertext": [
            "Afghanistan"
           ],
           "ids": [
            "Afghanistan"
           ],
           "legendgroup": "Afghanistan",
           "marker": {
            "color": "#1f77b4",
            "size": [
             0.14457683159578463
            ],
            "sizemode": "area",
            "sizeref": 0.00028055555555555554,
            "symbol": "circle"
           },
           "mode": "markers",
           "name": "Afghanistan",
           "orientation": "v",
           "showlegend": true,
           "type": "scatter",
           "x": [
            105.1
           ],
           "xaxis": "x",
           "y": [
            121.635
           ],
           "yaxis": "y"
          },
          {
           "hovertemplate": "<b>%{hovertext}</b><br><br>country=Brazil<br>year=2006<br>Under-5 Mortality Rate=%{x}<br>Adolescent Fertility Rate=%{y}<br>Life Expectancy (Normalized)=%{marker.size}<extra></extra>",
           "hovertext": [
            "Brazil"
           ],
           "ids": [
            "Brazil"
           ],
           "legendgroup": "Brazil",
           "marker": {
            "color": "#ff7f0e",
            "size": [
             0.6658534371822762
            ],
            "sizemode": "area",
            "sizeref": 0.00028055555555555554,
            "symbol": "circle"
           },
           "mode": "markers",
           "name": "Brazil",
           "orientation": "v",
           "showlegend": true,
           "type": "scatter",
           "x": [
            23.1
           ],
           "xaxis": "x",
           "y": [
            73.845
           ],
           "yaxis": "y"
          },
          {
           "hovertemplate": "<b>%{hovertext}</b><br><br>country=India<br>year=2006<br>Under-5 Mortality Rate=%{x}<br>Adolescent Fertility Rate=%{y}<br>Life Expectancy (Normalized)=%{marker.size}<extra></extra>",
           "hovertext": [
            "India"
           ],
           "ids": [
            "India"
           ],
           "legendgroup": "India",
           "marker": {
            "color": "green",
            "size": [
             0.40326172209275574
            ],
            "sizemode": "area",
            "sizeref": 0.00028055555555555554,
            "symbol": "circle"
           },
           "mode": "markers",
           "name": "India",
           "orientation": "v",
           "showlegend": true,
           "type": "scatter",
           "x": [
            71.1
           ],
           "xaxis": "x",
           "y": [
            55.76
           ],
           "yaxis": "y"
          },
          {
           "hovertemplate": "<b>%{hovertext}</b><br><br>country=Kenya<br>year=2006<br>Under-5 Mortality Rate=%{x}<br>Adolescent Fertility Rate=%{y}<br>Life Expectancy (Normalized)=%{marker.size}<extra></extra>",
           "hovertext": [
            "Kenya"
           ],
           "ids": [
            "Kenya"
           ],
           "legendgroup": "Kenya",
           "marker": {
            "color": "red",
            "size": [
             0.16376958153588247
            ],
            "sizemode": "area",
            "sizeref": 0.00028055555555555554,
            "symbol": "circle"
           },
           "mode": "markers",
           "name": "Kenya",
           "orientation": "v",
           "showlegend": true,
           "type": "scatter",
           "x": [
            67.1
           ],
           "xaxis": "x",
           "y": [
            112.795
           ],
           "yaxis": "y"
          },
          {
           "hovertemplate": "<b>%{hovertext}</b><br><br>country=United Kingdom<br>year=2006<br>Under-5 Mortality Rate=%{x}<br>Adolescent Fertility Rate=%{y}<br>Life Expectancy (Normalized)=%{marker.size}<extra></extra>",
           "hovertext": [
            "United Kingdom"
           ],
           "ids": [
            "United Kingdom"
           ],
           "legendgroup": "United Kingdom",
           "marker": {
            "color": "#9467bd",
            "size": [
             0.9295747361760126
            ],
            "sizemode": "area",
            "sizeref": 0.00028055555555555554,
            "symbol": "circle"
           },
           "mode": "markers",
           "name": "United Kingdom",
           "orientation": "v",
           "showlegend": true,
           "type": "scatter",
           "x": [
            5.9
           ],
           "xaxis": "x",
           "y": [
            26.008
           ],
           "yaxis": "y"
          }
         ],
         "name": "2006"
        },
        {
         "data": [
          {
           "hovertemplate": "<b>%{hovertext}</b><br><br>country=Afghanistan<br>year=2007<br>Under-5 Mortality Rate=%{x}<br>Adolescent Fertility Rate=%{y}<br>Life Expectancy (Normalized)=%{marker.size}<extra></extra>",
           "hovertext": [
            "Afghanistan"
           ],
           "ids": [
            "Afghanistan"
           ],
           "legendgroup": "Afghanistan",
           "marker": {
            "color": "#1f77b4",
            "size": [
             0.15986275694333313
            ],
            "sizemode": "area",
            "sizeref": 0.00028055555555555554,
            "symbol": "circle"
           },
           "mode": "markers",
           "name": "Afghanistan",
           "orientation": "v",
           "showlegend": true,
           "type": "scatter",
           "x": [
            100.7
           ],
           "xaxis": "x",
           "y": [
            117.754
           ],
           "yaxis": "y"
          },
          {
           "hovertemplate": "<b>%{hovertext}</b><br><br>country=Brazil<br>year=2007<br>Under-5 Mortality Rate=%{x}<br>Adolescent Fertility Rate=%{y}<br>Life Expectancy (Normalized)=%{marker.size}<extra></extra>",
           "hovertext": [
            "Brazil"
           ],
           "ids": [
            "Brazil"
           ],
           "legendgroup": "Brazil",
           "marker": {
            "color": "#ff7f0e",
            "size": [
             0.6823152029411742
            ],
            "sizemode": "area",
            "sizeref": 0.00028055555555555554,
            "symbol": "circle"
           },
           "mode": "markers",
           "name": "Brazil",
           "orientation": "v",
           "showlegend": true,
           "type": "scatter",
           "x": [
            21.7
           ],
           "xaxis": "x",
           "y": [
            71.698
           ],
           "yaxis": "y"
          },
          {
           "hovertemplate": "<b>%{hovertext}</b><br><br>country=India<br>year=2007<br>Under-5 Mortality Rate=%{x}<br>Adolescent Fertility Rate=%{y}<br>Life Expectancy (Normalized)=%{marker.size}<extra></extra>",
           "hovertext": [
            "India"
           ],
           "ids": [
            "India"
           ],
           "legendgroup": "India",
           "marker": {
            "color": "green",
            "size": [
             0.4195717665082536
            ],
            "sizemode": "area",
            "sizeref": 0.00028055555555555554,
            "symbol": "circle"
           },
           "mode": "markers",
           "name": "India",
           "orientation": "v",
           "showlegend": true,
           "type": "scatter",
           "x": [
            67.9
           ],
           "xaxis": "x",
           "y": [
            51.987
           ],
           "yaxis": "y"
          },
          {
           "hovertemplate": "<b>%{hovertext}</b><br><br>country=Kenya<br>year=2007<br>Under-5 Mortality Rate=%{x}<br>Adolescent Fertility Rate=%{y}<br>Life Expectancy (Normalized)=%{marker.size}<extra></extra>",
           "hovertext": [
            "Kenya"
           ],
           "ids": [
            "Kenya"
           ],
           "legendgroup": "Kenya",
           "marker": {
            "color": "red",
            "size": [
             0.17696933841168094
            ],
            "sizemode": "area",
            "sizeref": 0.00028055555555555554,
            "symbol": "circle"
           },
           "mode": "markers",
           "name": "Kenya",
           "orientation": "v",
           "showlegend": true,
           "type": "scatter",
           "x": [
            63.2
           ],
           "xaxis": "x",
           "y": [
            113.472
           ],
           "yaxis": "y"
          },
          {
           "hovertemplate": "<b>%{hovertext}</b><br><br>country=United Kingdom<br>year=2007<br>Under-5 Mortality Rate=%{x}<br>Adolescent Fertility Rate=%{y}<br>Life Expectancy (Normalized)=%{marker.size}<extra></extra>",
           "hovertext": [
            "United Kingdom"
           ],
           "ids": [
            "United Kingdom"
           ],
           "legendgroup": "United Kingdom",
           "marker": {
            "color": "#9467bd",
            "size": [
             0.9371608033460119
            ],
            "sizemode": "area",
            "sizeref": 0.00028055555555555554,
            "symbol": "circle"
           },
           "mode": "markers",
           "name": "United Kingdom",
           "orientation": "v",
           "showlegend": true,
           "type": "scatter",
           "x": [
            5.8
           ],
           "xaxis": "x",
           "y": [
            25.276
           ],
           "yaxis": "y"
          }
         ],
         "name": "2007"
        },
        {
         "data": [
          {
           "hovertemplate": "<b>%{hovertext}</b><br><br>country=Afghanistan<br>year=2008<br>Under-5 Mortality Rate=%{x}<br>Adolescent Fertility Rate=%{y}<br>Life Expectancy (Normalized)=%{marker.size}<extra></extra>",
           "hovertext": [
            "Afghanistan"
           ],
           "ids": [
            "Afghanistan"
           ],
           "legendgroup": "Afghanistan",
           "marker": {
            "color": "#1f77b4",
            "size": [
             0.18838636950252974
            ],
            "sizemode": "area",
            "sizeref": 0.00028055555555555554,
            "symbol": "circle"
           },
           "mode": "markers",
           "name": "Afghanistan",
           "orientation": "v",
           "showlegend": true,
           "type": "scatter",
           "x": [
            96.3
           ],
           "xaxis": "x",
           "y": [
            118.979
           ],
           "yaxis": "y"
          },
          {
           "hovertemplate": "<b>%{hovertext}</b><br><br>country=Brazil<br>year=2008<br>Under-5 Mortality Rate=%{x}<br>Adolescent Fertility Rate=%{y}<br>Life Expectancy (Normalized)=%{marker.size}<extra></extra>",
           "hovertext": [
            "Brazil"
           ],
           "ids": [
            "Brazil"
           ],
           "legendgroup": "Brazil",
           "marker": {
            "color": "#ff7f0e",
            "size": [
             0.6967666609000226
            ],
            "sizemode": "area",
            "sizeref": 0.00028055555555555554,
            "symbol": "circle"
           },
           "mode": "markers",
           "name": "Brazil",
           "orientation": "v",
           "showlegend": true,
           "type": "scatter",
           "x": [
            20.5
           ],
           "xaxis": "x",
           "y": [
            69.141
           ],
           "yaxis": "y"
          },
          {
           "hovertemplate": "<b>%{hovertext}</b><br><br>country=India<br>year=2008<br>Under-5 Mortality Rate=%{x}<br>Adolescent Fertility Rate=%{y}<br>Life Expectancy (Normalized)=%{marker.size}<extra></extra>",
           "hovertext": [
            "India"
           ],
           "ids": [
            "India"
           ],
           "legendgroup": "India",
           "marker": {
            "color": "green",
            "size": [
             0.4364128356256518
            ],
            "sizemode": "area",
            "sizeref": 0.00028055555555555554,
            "symbol": "circle"
           },
           "mode": "markers",
           "name": "India",
           "orientation": "v",
           "showlegend": true,
           "type": "scatter",
           "x": [
            64.6
           ],
           "xaxis": "x",
           "y": [
            54.289
           ],
           "yaxis": "y"
          },
          {
           "hovertemplate": "<b>%{hovertext}</b><br><br>country=Kenya<br>year=2008<br>Under-5 Mortality Rate=%{x}<br>Adolescent Fertility Rate=%{y}<br>Life Expectancy (Normalized)=%{marker.size}<extra></extra>",
           "hovertext": [
            "Kenya"
           ],
           "ids": [
            "Kenya"
           ],
           "legendgroup": "Kenya",
           "marker": {
            "color": "red",
            "size": [
             0.19775516245747868
            ],
            "sizemode": "area",
            "sizeref": 0.00028055555555555554,
            "symbol": "circle"
           },
           "mode": "markers",
           "name": "Kenya",
           "orientation": "v",
           "showlegend": true,
           "type": "scatter",
           "x": [
            58.2
           ],
           "xaxis": "x",
           "y": [
            112.227
           ],
           "yaxis": "y"
          },
          {
           "hovertemplate": "<b>%{hovertext}</b><br><br>country=United Kingdom<br>year=2008<br>Under-5 Mortality Rate=%{x}<br>Adolescent Fertility Rate=%{y}<br>Life Expectancy (Normalized)=%{marker.size}<extra></extra>",
           "hovertext": [
            "United Kingdom"
           ],
           "ids": [
            "United Kingdom"
           ],
           "legendgroup": "United Kingdom",
           "marker": {
            "color": "#9467bd",
            "size": [
             0.9428966102306445
            ],
            "sizemode": "area",
            "sizeref": 0.00028055555555555554,
            "symbol": "circle"
           },
           "mode": "markers",
           "name": "United Kingdom",
           "orientation": "v",
           "showlegend": true,
           "type": "scatter",
           "x": [
            5.6
           ],
           "xaxis": "x",
           "y": [
            25.31
           ],
           "yaxis": "y"
          }
         ],
         "name": "2008"
        },
        {
         "data": [
          {
           "hovertemplate": "<b>%{hovertext}</b><br><br>country=Afghanistan<br>year=2009<br>Under-5 Mortality Rate=%{x}<br>Adolescent Fertility Rate=%{y}<br>Life Expectancy (Normalized)=%{marker.size}<extra></extra>",
           "hovertext": [
            "Afghanistan"
           ],
           "ids": [
            "Afghanistan"
           ],
           "legendgroup": "Afghanistan",
           "marker": {
            "color": "#1f77b4",
            "size": [
             0.2088687508615274
            ],
            "sizemode": "area",
            "sizeref": 0.00028055555555555554,
            "symbol": "circle"
           },
           "mode": "markers",
           "name": "Afghanistan",
           "orientation": "v",
           "showlegend": true,
           "type": "scatter",
           "x": [
            92.2
           ],
           "xaxis": "x",
           "y": [
            109.655
           ],
           "yaxis": "y"
          },
          {
           "hovertemplate": "<b>%{hovertext}</b><br><br>country=Brazil<br>year=2009<br>Under-5 Mortality Rate=%{x}<br>Adolescent Fertility Rate=%{y}<br>Life Expectancy (Normalized)=%{marker.size}<extra></extra>",
           "hovertext": [
            "Brazil"
           ],
           "ids": [
            "Brazil"
           ],
           "legendgroup": "Brazil",
           "marker": {
            "color": "#ff7f0e",
            "size": [
             0.7098905571041207
            ],
            "sizemode": "area",
            "sizeref": 0.00028055555555555554,
            "symbol": "circle"
           },
           "mode": "markers",
           "name": "Brazil",
           "orientation": "v",
           "showlegend": true,
           "type": "scatter",
           "x": [
            19.5
           ],
           "xaxis": "x",
           "y": [
            67.334
           ],
           "yaxis": "y"
          },
          {
           "hovertemplate": "<b>%{hovertext}</b><br><br>country=India<br>year=2009<br>Under-5 Mortality Rate=%{x}<br>Adolescent Fertility Rate=%{y}<br>Life Expectancy (Normalized)=%{marker.size}<extra></extra>",
           "hovertext": [
            "India"
           ],
           "ids": [
            "India"
           ],
           "legendgroup": "India",
           "marker": {
            "color": "green",
            "size": [
             0.4535952777657
            ],
            "sizemode": "area",
            "sizeref": 0.00028055555555555554,
            "symbol": "circle"
           },
           "mode": "markers",
           "name": "India",
           "orientation": "v",
           "showlegend": true,
           "type": "scatter",
           "x": [
            61.4
           ],
           "xaxis": "x",
           "y": [
            46.696
           ],
           "yaxis": "y"
          },
          {
           "hovertemplate": "<b>%{hovertext}</b><br><br>country=Kenya<br>year=2009<br>Under-5 Mortality Rate=%{x}<br>Adolescent Fertility Rate=%{y}<br>Life Expectancy (Normalized)=%{marker.size}<extra></extra>",
           "hovertext": [
            "Kenya"
           ],
           "ids": [
            "Kenya"
           ],
           "legendgroup": "Kenya",
           "marker": {
            "color": "red",
            "size": [
             0.21778237978627638
            ],
            "sizemode": "area",
            "sizeref": 0.00028055555555555554,
            "symbol": "circle"
           },
           "mode": "markers",
           "name": "Kenya",
           "orientation": "v",
           "showlegend": true,
           "type": "scatter",
           "x": [
            55.4
           ],
           "xaxis": "x",
           "y": [
            110.195
           ],
           "yaxis": "y"
          },
          {
           "hovertemplate": "<b>%{hovertext}</b><br><br>country=United Kingdom<br>year=2009<br>Under-5 Mortality Rate=%{x}<br>Adolescent Fertility Rate=%{y}<br>Life Expectancy (Normalized)=%{marker.size}<extra></extra>",
           "hovertext": [
            "United Kingdom"
           ],
           "ids": [
            "United Kingdom"
           ],
           "legendgroup": "United Kingdom",
           "marker": {
            "color": "#9467bd",
            "size": [
             0.9600115178702763
            ],
            "sizemode": "area",
            "sizeref": 0.00028055555555555554,
            "symbol": "circle"
           },
           "mode": "markers",
           "name": "United Kingdom",
           "orientation": "v",
           "showlegend": true,
           "type": "scatter",
           "x": [
            5.4
           ],
           "xaxis": "x",
           "y": [
            24.826
           ],
           "yaxis": "y"
          }
         ],
         "name": "2009"
        },
        {
         "data": [
          {
           "hovertemplate": "<b>%{hovertext}</b><br><br>country=Afghanistan<br>year=2010<br>Under-5 Mortality Rate=%{x}<br>Adolescent Fertility Rate=%{y}<br>Life Expectancy (Normalized)=%{marker.size}<extra></extra>",
           "hovertext": [
            "Afghanistan"
           ],
           "ids": [
            "Afghanistan"
           ],
           "legendgroup": "Afghanistan",
           "marker": {
            "color": "#1f77b4",
            "size": [
             0.22608912333742548
            ],
            "sizemode": "area",
            "sizeref": 0.00028055555555555554,
            "symbol": "circle"
           },
           "mode": "markers",
           "name": "Afghanistan",
           "orientation": "v",
           "showlegend": true,
           "type": "scatter",
           "x": [
            88.3
           ],
           "xaxis": "x",
           "y": [
            105.648
           ],
           "yaxis": "y"
          },
          {
           "hovertemplate": "<b>%{hovertext}</b><br><br>country=Brazil<br>year=2010<br>Under-5 Mortality Rate=%{x}<br>Adolescent Fertility Rate=%{y}<br>Life Expectancy (Normalized)=%{marker.size}<extra></extra>",
           "hovertext": [
            "Brazil"
           ],
           "ids": [
            "Brazil"
           ],
           "legendgroup": "Brazil",
           "marker": {
            "color": "#ff7f0e",
            "size": [
             0.7221041252478195
            ],
            "sizemode": "area",
            "sizeref": 0.00028055555555555554,
            "symbol": "circle"
           },
           "mode": "markers",
           "name": "Brazil",
           "orientation": "v",
           "showlegend": true,
           "type": "scatter",
           "x": [
            18.6
           ],
           "xaxis": "x",
           "y": [
            65.474
           ],
           "yaxis": "y"
          },
          {
           "hovertemplate": "<b>%{hovertext}</b><br><br>country=India<br>year=2010<br>Under-5 Mortality Rate=%{x}<br>Adolescent Fertility Rate=%{y}<br>Life Expectancy (Normalized)=%{marker.size}<extra></extra>",
           "hovertext": [
            "India"
           ],
           "ids": [
            "India"
           ],
           "legendgroup": "India",
           "marker": {
            "color": "green",
            "size": [
             0.47111909292839815
            ],
            "sizemode": "area",
            "sizeref": 0.00028055555555555554,
            "symbol": "circle"
           },
           "mode": "markers",
           "name": "India",
           "orientation": "v",
           "showlegend": true,
           "type": "scatter",
           "x": [
            58.2
           ],
           "xaxis": "x",
           "y": [
            41.719
           ],
           "yaxis": "y"
          },
          {
           "hovertemplate": "<b>%{hovertext}</b><br><br>country=Kenya<br>year=2010<br>Under-5 Mortality Rate=%{x}<br>Adolescent Fertility Rate=%{y}<br>Life Expectancy (Normalized)=%{marker.size}<extra></extra>",
           "hovertext": [
            "Kenya"
           ],
           "ids": [
            "Kenya"
           ],
           "legendgroup": "Kenya",
           "marker": {
            "color": "red",
            "size": [
             0.2341682848734746
            ],
            "sizemode": "area",
            "sizeref": 0.00028055555555555554,
            "symbol": "circle"
           },
           "mode": "markers",
           "name": "Kenya",
           "orientation": "v",
           "showlegend": true,
           "type": "scatter",
           "x": [
            53.5
           ],
           "xaxis": "x",
           "y": [
            108.691
           ],
           "yaxis": "y"
          },
          {
           "hovertemplate": "<b>%{hovertext}</b><br><br>country=United Kingdom<br>year=2010<br>Under-5 Mortality Rate=%{x}<br>Adolescent Fertility Rate=%{y}<br>Life Expectancy (Normalized)=%{marker.size}<extra></extra>",
           "hovertext": [
            "United Kingdom"
           ],
           "ids": [
            "United Kingdom"
           ],
           "legendgroup": "United Kingdom",
           "marker": {
            "color": "#9467bd",
            "size": [
             0.9733333919249081
            ],
            "sizemode": "area",
            "sizeref": 0.00028055555555555554,
            "symbol": "circle"
           },
           "mode": "markers",
           "name": "United Kingdom",
           "orientation": "v",
           "showlegend": true,
           "type": "scatter",
           "x": [
            5.2
           ],
           "xaxis": "x",
           "y": [
            23.648
           ],
           "yaxis": "y"
          }
         ],
         "name": "2010"
        },
        {
         "data": [
          {
           "hovertemplate": "<b>%{hovertext}</b><br><br>country=Afghanistan<br>year=2011<br>Under-5 Mortality Rate=%{x}<br>Adolescent Fertility Rate=%{y}<br>Life Expectancy (Normalized)=%{marker.size}<extra></extra>",
           "hovertext": [
            "Afghanistan"
           ],
           "ids": [
            "Afghanistan"
           ],
           "legendgroup": "Afghanistan",
           "marker": {
            "color": "#1f77b4",
            "size": [
             0.2468749473832232
            ],
            "sizemode": "area",
            "sizeref": 0.00028055555555555554,
            "symbol": "circle"
           },
           "mode": "markers",
           "name": "Afghanistan",
           "orientation": "v",
           "showlegend": true,
           "type": "scatter",
           "x": [
            84.6
           ],
           "xaxis": "x",
           "y": [
            101.659
           ],
           "yaxis": "y"
          },
          {
           "hovertemplate": "<b>%{hovertext}</b><br><br>country=Brazil<br>year=2011<br>Under-5 Mortality Rate=%{x}<br>Adolescent Fertility Rate=%{y}<br>Life Expectancy (Normalized)=%{marker.size}<extra></extra>",
           "hovertext": [
            "Brazil"
           ],
           "ids": [
            "Brazil"
           ],
           "legendgroup": "Brazil",
           "marker": {
            "color": "#ff7f0e",
            "size": [
             0.7322694552556184
            ],
            "sizemode": "area",
            "sizeref": 0.00028055555555555554,
            "symbol": "circle"
           },
           "mode": "markers",
           "name": "Brazil",
           "orientation": "v",
           "showlegend": true,
           "type": "scatter",
           "x": [
            17.9
           ],
           "xaxis": "x",
           "y": [
            64.773
           ],
           "yaxis": "y"
          },
          {
           "hovertemplate": "<b>%{hovertext}</b><br><br>country=India<br>year=2011<br>Under-5 Mortality Rate=%{x}<br>Adolescent Fertility Rate=%{y}<br>Life Expectancy (Normalized)=%{marker.size}<extra></extra>",
           "hovertext": [
            "India"
           ],
           "ids": [
            "India"
           ],
           "legendgroup": "India",
           "marker": {
            "color": "green",
            "size": [
             0.48860497775524614
            ],
            "sizemode": "area",
            "sizeref": 0.00028055555555555554,
            "symbol": "circle"
           },
           "mode": "markers",
           "name": "India",
           "orientation": "v",
           "showlegend": true,
           "type": "scatter",
           "x": [
            55
           ],
           "xaxis": "x",
           "y": [
            40.795
           ],
           "yaxis": "y"
          },
          {
           "hovertemplate": "<b>%{hovertext}</b><br><br>country=Kenya<br>year=2011<br>Under-5 Mortality Rate=%{x}<br>Adolescent Fertility Rate=%{y}<br>Life Expectancy (Normalized)=%{marker.size}<extra></extra>",
           "hovertext": [
            "Kenya"
           ],
           "ids": [
            "Kenya"
           ],
           "legendgroup": "Kenya",
           "marker": {
            "color": "red",
            "size": [
             0.2481266484662731
            ],
            "sizemode": "area",
            "sizeref": 0.00028055555555555554,
            "symbol": "circle"
           },
           "mode": "markers",
           "name": "Kenya",
           "orientation": "v",
           "showlegend": true,
           "type": "scatter",
           "x": [
            52.2
           ],
           "xaxis": "x",
           "y": [
            104.615
           ],
           "yaxis": "y"
          },
          {
           "hovertemplate": "<b>%{hovertext}</b><br><br>country=United Kingdom<br>year=2011<br>Under-5 Mortality Rate=%{x}<br>Adolescent Fertility Rate=%{y}<br>Life Expectancy (Normalized)=%{marker.size}<extra></extra>",
           "hovertext": [
            "United Kingdom"
           ],
           "ids": [
            "United Kingdom"
           ],
           "legendgroup": "United Kingdom",
           "marker": {
            "color": "#9467bd",
            "size": [
             0.9941488201352721
            ],
            "sizemode": "area",
            "sizeref": 0.00028055555555555554,
            "symbol": "circle"
           },
           "mode": "markers",
           "name": "United Kingdom",
           "orientation": "v",
           "showlegend": true,
           "type": "scatter",
           "x": [
            5
           ],
           "xaxis": "x",
           "y": [
            21.728
           ],
           "yaxis": "y"
          }
         ],
         "name": "2011"
        },
        {
         "data": [
          {
           "hovertemplate": "<b>%{hovertext}</b><br><br>country=Afghanistan<br>year=2012<br>Under-5 Mortality Rate=%{x}<br>Adolescent Fertility Rate=%{y}<br>Life Expectancy (Normalized)=%{marker.size}<extra></extra>",
           "hovertext": [
            "Afghanistan"
           ],
           "ids": [
            "Afghanistan"
           ],
           "legendgroup": "Afghanistan",
           "marker": {
            "color": "#1f77b4",
            "size": [
             0.2652711602704711
            ],
            "sizemode": "area",
            "sizeref": 0.00028055555555555554,
            "symbol": "circle"
           },
           "mode": "markers",
           "name": "Afghanistan",
           "orientation": "v",
           "showlegend": true,
           "type": "scatter",
           "x": [
            81.2
           ],
           "xaxis": "x",
           "y": [
            95.245
           ],
           "yaxis": "y"
          },
          {
           "hovertemplate": "<b>%{hovertext}</b><br><br>country=Brazil<br>year=2012<br>Under-5 Mortality Rate=%{x}<br>Adolescent Fertility Rate=%{y}<br>Life Expectancy (Normalized)=%{marker.size}<extra></extra>",
           "hovertext": [
            "Brazil"
           ],
           "ids": [
            "Brazil"
           ],
           "legendgroup": "Brazil",
           "marker": {
            "color": "#ff7f0e",
            "size": [
             0.743193391980417
            ],
            "sizemode": "area",
            "sizeref": 0.00028055555555555554,
            "symbol": "circle"
           },
           "mode": "markers",
           "name": "Brazil",
           "orientation": "v",
           "showlegend": true,
           "type": "scatter",
           "x": [
            17.2
           ],
           "xaxis": "x",
           "y": [
            64.285
           ],
           "yaxis": "y"
          },
          {
           "hovertemplate": "<b>%{hovertext}</b><br><br>country=India<br>year=2012<br>Under-5 Mortality Rate=%{x}<br>Adolescent Fertility Rate=%{y}<br>Life Expectancy (Normalized)=%{marker.size}<extra></extra>",
           "hovertext": [
            "India"
           ],
           "ids": [
            "India"
           ],
           "legendgroup": "India",
           "marker": {
            "color": "green",
            "size": [
             0.5057874198952937
            ],
            "sizemode": "area",
            "sizeref": 0.00028055555555555554,
            "symbol": "circle"
           },
           "mode": "markers",
           "name": "India",
           "orientation": "v",
           "showlegend": true,
           "type": "scatter",
           "x": [
            52
           ],
           "xaxis": "x",
           "y": [
            39.533
           ],
           "yaxis": "y"
          },
          {
           "hovertemplate": "<b>%{hovertext}</b><br><br>country=Kenya<br>year=2012<br>Under-5 Mortality Rate=%{x}<br>Adolescent Fertility Rate=%{y}<br>Life Expectancy (Normalized)=%{marker.size}<extra></extra>",
           "hovertext": [
            "Kenya"
           ],
           "ids": [
            "Kenya"
           ],
           "legendgroup": "Kenya",
           "marker": {
            "color": "red",
            "size": [
             0.2577609537721719
            ],
            "sizemode": "area",
            "sizeref": 0.00028055555555555554,
            "symbol": "circle"
           },
           "mode": "markers",
           "name": "Kenya",
           "orientation": "v",
           "showlegend": true,
           "type": "scatter",
           "x": [
            51.2
           ],
           "xaxis": "x",
           "y": [
            100.219
           ],
           "yaxis": "y"
          },
          {
           "hovertemplate": "<b>%{hovertext}</b><br><br>country=United Kingdom<br>year=2012<br>Under-5 Mortality Rate=%{x}<br>Adolescent Fertility Rate=%{y}<br>Life Expectancy (Normalized)=%{marker.size}<extra></extra>",
           "hovertext": [
            "United Kingdom"
           ],
           "ids": [
            "United Kingdom"
           ],
           "legendgroup": "United Kingdom",
           "marker": {
            "color": "#9467bd",
            "size": [
             0.9923910728641763
            ],
            "sizemode": "area",
            "sizeref": 0.00028055555555555554,
            "symbol": "circle"
           },
           "mode": "markers",
           "name": "United Kingdom",
           "orientation": "v",
           "showlegend": true,
           "type": "scatter",
           "x": [
            4.8
           ],
           "xaxis": "x",
           "y": [
            20.042
           ],
           "yaxis": "y"
          }
         ],
         "name": "2012"
        },
        {
         "data": [
          {
           "hovertemplate": "<b>%{hovertext}</b><br><br>country=Afghanistan<br>year=2013<br>Under-5 Mortality Rate=%{x}<br>Adolescent Fertility Rate=%{y}<br>Life Expectancy (Normalized)=%{marker.size}<extra></extra>",
           "hovertext": [
            "Afghanistan"
           ],
           "ids": [
            "Afghanistan"
           ],
           "legendgroup": "Afghanistan",
           "marker": {
            "color": "#1f77b4",
            "size": [
             0.28245360241051926
            ],
            "sizemode": "area",
            "sizeref": 0.00028055555555555554,
            "symbol": "circle"
           },
           "mode": "markers",
           "name": "Afghanistan",
           "orientation": "v",
           "showlegend": true,
           "type": "scatter",
           "x": [
            78
           ],
           "xaxis": "x",
           "y": [
            89.337
           ],
           "yaxis": "y"
          },
          {
           "hovertemplate": "<b>%{hovertext}</b><br><br>country=Brazil<br>year=2013<br>Under-5 Mortality Rate=%{x}<br>Adolescent Fertility Rate=%{y}<br>Life Expectancy (Normalized)=%{marker.size}<extra></extra>",
           "hovertext": [
            "Brazil"
           ],
           "ids": [
            "Brazil"
           ],
           "legendgroup": "Brazil",
           "marker": {
            "color": "#ff7f0e",
            "size": [
             0.7535863040033158
            ],
            "sizemode": "area",
            "sizeref": 0.00028055555555555554,
            "symbol": "circle"
           },
           "mode": "markers",
           "name": "Brazil",
           "orientation": "v",
           "showlegend": true,
           "type": "scatter",
           "x": [
            16.7
           ],
           "xaxis": "x",
           "y": [
            63.947
           ],
           "yaxis": "y"
          },
          {
           "hovertemplate": "<b>%{hovertext}</b><br><br>country=India<br>year=2013<br>Under-5 Mortality Rate=%{x}<br>Adolescent Fertility Rate=%{y}<br>Life Expectancy (Normalized)=%{marker.size}<extra></extra>",
           "hovertext": [
            "India"
           ],
           "ids": [
            "India"
           ],
           "legendgroup": "India",
           "marker": {
            "color": "green",
            "size": [
             0.521831951959842
            ],
            "sizemode": "area",
            "sizeref": 0.00028055555555555554,
            "symbol": "circle"
           },
           "mode": "markers",
           "name": "India",
           "orientation": "v",
           "showlegend": true,
           "type": "scatter",
           "x": [
            49.1
           ],
           "xaxis": "x",
           "y": [
            35.326
           ],
           "yaxis": "y"
          },
          {
           "hovertemplate": "<b>%{hovertext}</b><br><br>country=Kenya<br>year=2013<br>Under-5 Mortality Rate=%{x}<br>Adolescent Fertility Rate=%{y}<br>Life Expectancy (Normalized)=%{marker.size}<extra></extra>",
           "hovertext": [
            "Kenya"
           ],
           "ids": [
            "Kenya"
           ],
           "legendgroup": "Kenya",
           "marker": {
            "color": "red",
            "size": [
             0.2650435782553711
            ],
            "sizemode": "area",
            "sizeref": 0.00028055555555555554,
            "symbol": "circle"
           },
           "mode": "markers",
           "name": "Kenya",
           "orientation": "v",
           "showlegend": true,
           "type": "scatter",
           "x": [
            50
           ],
           "xaxis": "x",
           "y": [
            95.576
           ],
           "yaxis": "y"
          },
          {
           "hovertemplate": "<b>%{hovertext}</b><br><br>country=United Kingdom<br>year=2013<br>Under-5 Mortality Rate=%{x}<br>Adolescent Fertility Rate=%{y}<br>Life Expectancy (Normalized)=%{marker.size}<extra></extra>",
           "hovertext": [
            "United Kingdom"
           ],
           "ids": [
            "United Kingdom"
           ],
           "legendgroup": "United Kingdom",
           "marker": {
            "color": "#9467bd",
            "size": [
             0.9961841064491757
            ],
            "sizemode": "area",
            "sizeref": 0.00028055555555555554,
            "symbol": "circle"
           },
           "mode": "markers",
           "name": "United Kingdom",
           "orientation": "v",
           "showlegend": true,
           "type": "scatter",
           "x": [
            4.6
           ],
           "xaxis": "x",
           "y": [
            17.494
           ],
           "yaxis": "y"
          }
         ],
         "name": "2013"
        },
        {
         "data": [
          {
           "hovertemplate": "<b>%{hovertext}</b><br><br>country=Afghanistan<br>year=2014<br>Under-5 Mortality Rate=%{x}<br>Adolescent Fertility Rate=%{y}<br>Life Expectancy (Normalized)=%{marker.size}<extra></extra>",
           "hovertext": [
            "Afghanistan"
           ],
           "ids": [
            "Afghanistan"
           ],
           "legendgroup": "Afghanistan",
           "marker": {
            "color": "#1f77b4",
            "size": [
             0.2851845865917188
            ],
            "sizemode": "area",
            "sizeref": 0.00028055555555555554,
            "symbol": "circle"
           },
           "mode": "markers",
           "name": "Afghanistan",
           "orientation": "v",
           "showlegend": true,
           "type": "scatter",
           "x": [
            75.1
           ],
           "xaxis": "x",
           "y": [
            84.069
           ],
           "yaxis": "y"
          },
          {
           "hovertemplate": "<b>%{hovertext}</b><br><br>country=Brazil<br>year=2014<br>Under-5 Mortality Rate=%{x}<br>Adolescent Fertility Rate=%{y}<br>Life Expectancy (Normalized)=%{marker.size}<extra></extra>",
           "hovertext": [
            "Brazil"
           ],
           "ids": [
            "Brazil"
           ],
           "legendgroup": "Brazil",
           "marker": {
            "color": "#ff7f0e",
            "size": [
             0.7617033958752149
            ],
            "sizemode": "area",
            "sizeref": 0.00028055555555555554,
            "symbol": "circle"
           },
           "mode": "markers",
           "name": "Brazil",
           "orientation": "v",
           "showlegend": true,
           "type": "scatter",
           "x": [
            16.3
           ],
           "xaxis": "x",
           "y": [
            63.365
           ],
           "yaxis": "y"
          },
          {
           "hovertemplate": "<b>%{hovertext}</b><br><br>country=India<br>year=2014<br>Under-5 Mortality Rate=%{x}<br>Adolescent Fertility Rate=%{y}<br>Life Expectancy (Normalized)=%{marker.size}<extra></extra>",
           "hovertext": [
            "India"
           ],
           "ids": [
            "India"
           ],
           "legendgroup": "India",
           "marker": {
            "color": "green",
            "size": [
             0.5382557873828904
            ],
            "sizemode": "area",
            "sizeref": 0.00028055555555555554,
            "symbol": "circle"
           },
           "mode": "markers",
           "name": "India",
           "orientation": "v",
           "showlegend": true,
           "type": "scatter",
           "x": [
            46.3
           ],
           "xaxis": "x",
           "y": [
            28.806
           ],
           "yaxis": "y"
          },
          {
           "hovertemplate": "<b>%{hovertext}</b><br><br>country=Kenya<br>year=2014<br>Under-5 Mortality Rate=%{x}<br>Adolescent Fertility Rate=%{y}<br>Life Expectancy (Normalized)=%{marker.size}<extra></extra>",
           "hovertext": [
            "Kenya"
           ],
           "ids": [
            "Kenya"
           ],
           "legendgroup": "Kenya",
           "marker": {
            "color": "red",
            "size": [
             0.2749433959122201
            ],
            "sizemode": "area",
            "sizeref": 0.00028055555555555554,
            "symbol": "circle"
           },
           "mode": "markers",
           "name": "Kenya",
           "orientation": "v",
           "showlegend": true,
           "type": "scatter",
           "x": [
            48.8
           ],
           "xaxis": "x",
           "y": [
            89.953
           ],
           "yaxis": "y"
          },
          {
           "hovertemplate": "<b>%{hovertext}</b><br><br>country=United Kingdom<br>year=2014<br>Under-5 Mortality Rate=%{x}<br>Adolescent Fertility Rate=%{y}<br>Life Expectancy (Normalized)=%{marker.size}<extra></extra>",
           "hovertext": [
            "United Kingdom"
           ],
           "ids": [
            "United Kingdom"
           ],
           "legendgroup": "United Kingdom",
           "marker": {
            "color": "#9467bd",
            "size": [
             1.0075632072041742
            ],
            "sizemode": "area",
            "sizeref": 0.00028055555555555554,
            "symbol": "circle"
           },
           "mode": "markers",
           "name": "United Kingdom",
           "orientation": "v",
           "showlegend": true,
           "type": "scatter",
           "x": [
            4.5
           ],
           "xaxis": "x",
           "y": [
            15.803
           ],
           "yaxis": "y"
          }
         ],
         "name": "2014"
        },
        {
         "data": [
          {
           "hovertemplate": "<b>%{hovertext}</b><br><br>country=Afghanistan<br>year=2015<br>Under-5 Mortality Rate=%{x}<br>Adolescent Fertility Rate=%{y}<br>Life Expectancy (Normalized)=%{marker.size}<extra></extra>",
           "hovertext": [
            "Afghanistan"
           ],
           "ids": [
            "Afghanistan"
           ],
           "legendgroup": "Afghanistan",
           "marker": {
            "color": "#1f77b4",
            "size": [
             0.285563889950219
            ],
            "sizemode": "area",
            "sizeref": 0.00028055555555555554,
            "symbol": "circle"
           },
           "mode": "markers",
           "name": "Afghanistan",
           "orientation": "v",
           "showlegend": true,
           "type": "scatter",
           "x": [
            72.4
           ],
           "xaxis": "x",
           "y": [
            81.043
           ],
           "yaxis": "y"
          },
          {
           "hovertemplate": "<b>%{hovertext}</b><br><br>country=Brazil<br>year=2015<br>Under-5 Mortality Rate=%{x}<br>Adolescent Fertility Rate=%{y}<br>Life Expectancy (Normalized)=%{marker.size}<extra></extra>",
           "hovertext": [
            "Brazil"
           ],
           "ids": [
            "Brazil"
           ],
           "legendgroup": "Brazil",
           "marker": {
            "color": "#ff7f0e",
            "size": [
             0.7724376809207637
            ],
            "sizemode": "area",
            "sizeref": 0.00028055555555555554,
            "symbol": "circle"
           },
           "mode": "markers",
           "name": "Brazil",
           "orientation": "v",
           "showlegend": true,
           "type": "scatter",
           "x": [
            16
           ],
           "xaxis": "x",
           "y": [
            61.779
           ],
           "yaxis": "y"
          },
          {
           "hovertemplate": "<b>%{hovertext}</b><br><br>country=India<br>year=2015<br>Under-5 Mortality Rate=%{x}<br>Adolescent Fertility Rate=%{y}<br>Life Expectancy (Normalized)=%{marker.size}<extra></extra>",
           "hovertext": [
            "India"
           ],
           "ids": [
            "India"
           ],
           "legendgroup": "India",
           "marker": {
            "color": "green",
            "size": [
             0.5532003397077884
            ],
            "sizemode": "area",
            "sizeref": 0.00028055555555555554,
            "symbol": "circle"
           },
           "mode": "markers",
           "name": "India",
           "orientation": "v",
           "showlegend": true,
           "type": "scatter",
           "x": [
            43.6
           ],
           "xaxis": "x",
           "y": [
            18.194
           ],
           "yaxis": "y"
          },
          {
           "hovertemplate": "<b>%{hovertext}</b><br><br>country=Kenya<br>year=2015<br>Under-5 Mortality Rate=%{x}<br>Adolescent Fertility Rate=%{y}<br>Life Expectancy (Normalized)=%{marker.size}<extra></extra>",
           "hovertext": [
            "Kenya"
           ],
           "ids": [
            "Kenya"
           ],
           "legendgroup": "Kenya",
           "marker": {
            "color": "red",
            "size": [
             0.28590526297286895
            ],
            "sizemode": "area",
            "sizeref": 0.00028055555555555554,
            "symbol": "circle"
           },
           "mode": "markers",
           "name": "Kenya",
           "orientation": "v",
           "showlegend": true,
           "type": "scatter",
           "x": [
            47.4
           ],
           "xaxis": "x",
           "y": [
            81.864
           ],
           "yaxis": "y"
          },
          {
           "hovertemplate": "<b>%{hovertext}</b><br><br>country=United Kingdom<br>year=2015<br>Under-5 Mortality Rate=%{x}<br>Adolescent Fertility Rate=%{y}<br>Life Expectancy (Normalized)=%{marker.size}<extra></extra>",
           "hovertext": [
            "United Kingdom"
           ],
           "ids": [
            "United Kingdom"
           ],
           "legendgroup": "United Kingdom",
           "marker": {
            "color": "#9467bd",
            "size": [
             0.9943338461638095
            ],
            "sizemode": "area",
            "sizeref": 0.00028055555555555554,
            "symbol": "circle"
           },
           "mode": "markers",
           "name": "United Kingdom",
           "orientation": "v",
           "showlegend": true,
           "type": "scatter",
           "x": [
            4.5
           ],
           "xaxis": "x",
           "y": [
            14.712
           ],
           "yaxis": "y"
          }
         ],
         "name": "2015"
        },
        {
         "data": [
          {
           "hovertemplate": "<b>%{hovertext}</b><br><br>country=Afghanistan<br>year=2016<br>Under-5 Mortality Rate=%{x}<br>Adolescent Fertility Rate=%{y}<br>Life Expectancy (Normalized)=%{marker.size}<extra></extra>",
           "hovertext": [
            "Afghanistan"
           ],
           "ids": [
            "Afghanistan"
           ],
           "legendgroup": "Afghanistan",
           "marker": {
            "color": "#1f77b4",
            "size": [
             0.29982569622981725
            ],
            "sizemode": "area",
            "sizeref": 0.00028055555555555554,
            "symbol": "circle"
           },
           "mode": "markers",
           "name": "Afghanistan",
           "orientation": "v",
           "showlegend": true,
           "type": "scatter",
           "x": [
            70
           ],
           "xaxis": "x",
           "y": [
            78.13
           ],
           "yaxis": "y"
          },
          {
           "hovertemplate": "<b>%{hovertext}</b><br><br>country=Brazil<br>year=2016<br>Under-5 Mortality Rate=%{x}<br>Adolescent Fertility Rate=%{y}<br>Life Expectancy (Normalized)=%{marker.size}<extra></extra>",
           "hovertext": [
            "Brazil"
           ],
           "ids": [
            "Brazil"
           ],
           "legendgroup": "Brazil",
           "marker": {
            "color": "#ff7f0e",
            "size": [
             0.7714894225245141
            ],
            "sizemode": "area",
            "sizeref": 0.00028055555555555554,
            "symbol": "circle"
           },
           "mode": "markers",
           "name": "Brazil",
           "orientation": "v",
           "showlegend": true,
           "type": "scatter",
           "x": [
            16.8
           ],
           "xaxis": "x",
           "y": [
            58.372
           ],
           "yaxis": "y"
          },
          {
           "hovertemplate": "<b>%{hovertext}</b><br><br>country=India<br>year=2016<br>Under-5 Mortality Rate=%{x}<br>Adolescent Fertility Rate=%{y}<br>Life Expectancy (Normalized)=%{marker.size}<extra></extra>",
           "hovertext": [
            "India"
           ],
           "ids": [
            "India"
           ],
           "legendgroup": "India",
           "marker": {
            "color": "green",
            "size": [
             0.5677276583383372
            ],
            "sizemode": "area",
            "sizeref": 0.00028055555555555554,
            "symbol": "circle"
           },
           "mode": "markers",
           "name": "India",
           "orientation": "v",
           "showlegend": true,
           "type": "scatter",
           "x": [
            41.1
           ],
           "xaxis": "x",
           "y": [
            14.535
           ],
           "yaxis": "y"
          },
          {
           "hovertemplate": "<b>%{hovertext}</b><br><br>country=Kenya<br>year=2016<br>Under-5 Mortality Rate=%{x}<br>Adolescent Fertility Rate=%{y}<br>Life Expectancy (Normalized)=%{marker.size}<extra></extra>",
           "hovertext": [
            "Kenya"
           ],
           "ids": [
            "Kenya"
           ],
           "legendgroup": "Kenya",
           "marker": {
            "color": "red",
            "size": [
             0.29527405592781786
            ],
            "sizemode": "area",
            "sizeref": 0.00028055555555555554,
            "symbol": "circle"
           },
           "mode": "markers",
           "name": "Kenya",
           "orientation": "v",
           "showlegend": true,
           "type": "scatter",
           "x": [
            46
           ],
           "xaxis": "x",
           "y": [
            73.781
           ],
           "yaxis": "y"
          },
          {
           "hovertemplate": "<b>%{hovertext}</b><br><br>country=United Kingdom<br>year=2016<br>Under-5 Mortality Rate=%{x}<br>Adolescent Fertility Rate=%{y}<br>Life Expectancy (Normalized)=%{marker.size}<extra></extra>",
           "hovertext": [
            "United Kingdom"
           ],
           "ids": [
            "United Kingdom"
           ],
           "legendgroup": "United Kingdom",
           "marker": {
            "color": "#9467bd",
            "size": [
             1.0019199133338081
            ],
            "sizemode": "area",
            "sizeref": 0.00028055555555555554,
            "symbol": "circle"
           },
           "mode": "markers",
           "name": "United Kingdom",
           "orientation": "v",
           "showlegend": true,
           "type": "scatter",
           "x": [
            4.4
           ],
           "xaxis": "x",
           "y": [
            13.952
           ],
           "yaxis": "y"
          }
         ],
         "name": "2016"
        },
        {
         "data": [
          {
           "hovertemplate": "<b>%{hovertext}</b><br><br>country=Afghanistan<br>year=2017<br>Under-5 Mortality Rate=%{x}<br>Adolescent Fertility Rate=%{y}<br>Life Expectancy (Normalized)=%{marker.size}<extra></extra>",
           "hovertext": [
            "Afghanistan"
           ],
           "ids": [
            "Afghanistan"
           ],
           "legendgroup": "Afghanistan",
           "marker": {
            "color": "#1f77b4",
            "size": [
             0.2907224156258182
            ],
            "sizemode": "area",
            "sizeref": 0.00028055555555555554,
            "symbol": "circle"
           },
           "mode": "markers",
           "name": "Afghanistan",
           "orientation": "v",
           "showlegend": true,
           "type": "scatter",
           "x": [
            67.6
           ],
           "xaxis": "x",
           "y": [
            75.3
           ],
           "yaxis": "y"
          },
          {
           "hovertemplate": "<b>%{hovertext}</b><br><br>country=Brazil<br>year=2017<br>Under-5 Mortality Rate=%{x}<br>Adolescent Fertility Rate=%{y}<br>Life Expectancy (Normalized)=%{marker.size}<extra></extra>",
           "hovertext": [
            "Brazil"
           ],
           "ids": [
            "Brazil"
           ],
           "legendgroup": "Brazil",
           "marker": {
            "color": "#ff7f0e",
            "size": [
             0.7829443839512126
            ],
            "sizemode": "area",
            "sizeref": 0.00028055555555555554,
            "symbol": "circle"
           },
           "mode": "markers",
           "name": "Brazil",
           "orientation": "v",
           "showlegend": true,
           "type": "scatter",
           "x": [
            15.4
           ],
           "xaxis": "x",
           "y": [
            56.558
           ],
           "yaxis": "y"
          },
          {
           "hovertemplate": "<b>%{hovertext}</b><br><br>country=India<br>year=2017<br>Under-5 Mortality Rate=%{x}<br>Adolescent Fertility Rate=%{y}<br>Life Expectancy (Normalized)=%{marker.size}<extra></extra>",
           "hovertext": [
            "India"
           ],
           "ids": [
            "India"
           ],
           "legendgroup": "India",
           "marker": {
            "color": "green",
            "size": [
             0.5813446489084854
            ],
            "sizemode": "area",
            "sizeref": 0.00028055555555555554,
            "symbol": "circle"
           },
           "mode": "markers",
           "name": "India",
           "orientation": "v",
           "showlegend": true,
           "type": "scatter",
           "x": [
            38.7
           ],
           "xaxis": "x",
           "y": [
            15.166
           ],
           "yaxis": "y"
          },
          {
           "hovertemplate": "<b>%{hovertext}</b><br><br>country=Kenya<br>year=2017<br>Under-5 Mortality Rate=%{x}<br>Adolescent Fertility Rate=%{y}<br>Life Expectancy (Normalized)=%{marker.size}<extra></extra>",
           "hovertext": [
            "Kenya"
           ],
           "ids": [
            "Kenya"
           ],
           "legendgroup": "Kenya",
           "marker": {
            "color": "red",
            "size": [
             0.3028221927619669
            ],
            "sizemode": "area",
            "sizeref": 0.00028055555555555554,
            "symbol": "circle"
           },
           "mode": "markers",
           "name": "Kenya",
           "orientation": "v",
           "showlegend": true,
           "type": "scatter",
           "x": [
            45.3
           ],
           "xaxis": "x",
           "y": [
            68.182
           ],
           "yaxis": "y"
          },
          {
           "hovertemplate": "<b>%{hovertext}</b><br><br>country=United Kingdom<br>year=2017<br>Under-5 Mortality Rate=%{x}<br>Adolescent Fertility Rate=%{y}<br>Life Expectancy (Normalized)=%{marker.size}<extra></extra>",
           "hovertext": [
            "United Kingdom"
           ],
           "ids": [
            "United Kingdom"
           ],
           "legendgroup": "United Kingdom",
           "marker": {
            "color": "#9467bd",
            "size": [
             1.0057129469188082
            ],
            "sizemode": "area",
            "sizeref": 0.00028055555555555554,
            "symbol": "circle"
           },
           "mode": "markers",
           "name": "United Kingdom",
           "orientation": "v",
           "showlegend": true,
           "type": "scatter",
           "x": [
            4.4
           ],
           "xaxis": "x",
           "y": [
            12.978
           ],
           "yaxis": "y"
          }
         ],
         "name": "2017"
        },
        {
         "data": [
          {
           "hovertemplate": "<b>%{hovertext}</b><br><br>country=Afghanistan<br>year=2018<br>Under-5 Mortality Rate=%{x}<br>Adolescent Fertility Rate=%{y}<br>Life Expectancy (Normalized)=%{marker.size}<extra></extra>",
           "hovertext": [
            "Afghanistan"
           ],
           "ids": [
            "Afghanistan"
           ],
           "legendgroup": "Afghanistan",
           "marker": {
            "color": "#1f77b4",
            "size": [
             0.292125838052268
            ],
            "sizemode": "area",
            "sizeref": 0.00028055555555555554,
            "symbol": "circle"
           },
           "mode": "markers",
           "name": "Afghanistan",
           "orientation": "v",
           "showlegend": true,
           "type": "scatter",
           "x": [
            65.4
           ],
           "xaxis": "x",
           "y": [
            73.021
           ],
           "yaxis": "y"
          },
          {
           "hovertemplate": "<b>%{hovertext}</b><br><br>country=Brazil<br>year=2018<br>Under-5 Mortality Rate=%{x}<br>Adolescent Fertility Rate=%{y}<br>Life Expectancy (Normalized)=%{marker.size}<extra></extra>",
           "hovertext": [
            "Brazil"
           ],
           "ids": [
            "Brazil"
           ],
           "legendgroup": "Brazil",
           "marker": {
            "color": "#ff7f0e",
            "size": [
             0.7924269679137115
            ],
            "sizemode": "area",
            "sizeref": 0.00028055555555555554,
            "symbol": "circle"
           },
           "mode": "markers",
           "name": "Brazil",
           "orientation": "v",
           "showlegend": true,
           "type": "scatter",
           "x": [
            15.2
           ],
           "xaxis": "x",
           "y": [
            54.287
           ],
           "yaxis": "y"
          },
          {
           "hovertemplate": "<b>%{hovertext}</b><br><br>country=India<br>year=2018<br>Under-5 Mortality Rate=%{x}<br>Adolescent Fertility Rate=%{y}<br>Life Expectancy (Normalized)=%{marker.size}<extra></extra>",
           "hovertext": [
            "India"
           ],
           "ids": [
            "India"
           ],
           "legendgroup": "India",
           "marker": {
            "color": "green",
            "size": [
             0.5945064754484343
            ],
            "sizemode": "area",
            "sizeref": 0.00028055555555555554,
            "symbol": "circle"
           },
           "mode": "markers",
           "name": "India",
           "orientation": "v",
           "showlegend": true,
           "type": "scatter",
           "x": [
            36.4
           ],
           "xaxis": "x",
           "y": [
            15.133
           ],
           "yaxis": "y"
          },
          {
           "hovertemplate": "<b>%{hovertext}</b><br><br>country=Kenya<br>year=2018<br>Under-5 Mortality Rate=%{x}<br>Adolescent Fertility Rate=%{y}<br>Life Expectancy (Normalized)=%{marker.size}<extra></extra>",
           "hovertext": [
            "Kenya"
           ],
           "ids": [
            "Kenya"
           ],
           "legendgroup": "Kenya",
           "marker": {
            "color": "red",
            "size": [
             0.3066152263469666
            ],
            "sizemode": "area",
            "sizeref": 0.00028055555555555554,
            "symbol": "circle"
           },
           "mode": "markers",
           "name": "Kenya",
           "orientation": "v",
           "showlegend": true,
           "type": "scatter",
           "x": [
            44.3
           ],
           "xaxis": "x",
           "y": [
            66.659
           ],
           "yaxis": "y"
          },
          {
           "hovertemplate": "<b>%{hovertext}</b><br><br>country=United Kingdom<br>year=2018<br>Under-5 Mortality Rate=%{x}<br>Adolescent Fertility Rate=%{y}<br>Life Expectancy (Normalized)=%{marker.size}<extra></extra>",
           "hovertext": [
            "United Kingdom"
           ],
           "ids": [
            "United Kingdom"
           ],
           "legendgroup": "United Kingdom",
           "marker": {
            "color": "#9467bd",
            "size": [
             1.0057129469188082
            ],
            "sizemode": "area",
            "sizeref": 0.00028055555555555554,
            "symbol": "circle"
           },
           "mode": "markers",
           "name": "United Kingdom",
           "orientation": "v",
           "showlegend": true,
           "type": "scatter",
           "x": [
            4.4
           ],
           "xaxis": "x",
           "y": [
            12.068
           ],
           "yaxis": "y"
          }
         ],
         "name": "2018"
        },
        {
         "data": [
          {
           "hovertemplate": "<b>%{hovertext}</b><br><br>country=Afghanistan<br>year=2019<br>Under-5 Mortality Rate=%{x}<br>Adolescent Fertility Rate=%{y}<br>Life Expectancy (Normalized)=%{marker.size}<extra></extra>",
           "hovertext": [
            "Afghanistan"
           ],
           "ids": [
            "Afghanistan"
           ],
           "legendgroup": "Afghanistan",
           "marker": {
            "color": "#1f77b4",
            "size": [
             0.31101514530556607
            ],
            "sizemode": "area",
            "sizeref": 0.00028055555555555554,
            "symbol": "circle"
           },
           "mode": "markers",
           "name": "Afghanistan",
           "orientation": "v",
           "showlegend": true,
           "type": "scatter",
           "x": [
            63.3
           ],
           "xaxis": "x",
           "y": [
            70.967
           ],
           "yaxis": "y"
          },
          {
           "hovertemplate": "<b>%{hovertext}</b><br><br>country=Brazil<br>year=2019<br>Under-5 Mortality Rate=%{x}<br>Adolescent Fertility Rate=%{y}<br>Life Expectancy (Normalized)=%{marker.size}<extra></extra>",
           "hovertext": [
            "Brazil"
           ],
           "ids": [
            "Brazil"
           ],
           "legendgroup": "Brazil",
           "marker": {
            "color": "#ff7f0e",
            "size": [
             0.7991027070233109
            ],
            "sizemode": "area",
            "sizeref": 0.00028055555555555554,
            "symbol": "circle"
           },
           "mode": "markers",
           "name": "Brazil",
           "orientation": "v",
           "showlegend": true,
           "type": "scatter",
           "x": [
            15
           ],
           "xaxis": "x",
           "y": [
            50.958
           ],
           "yaxis": "y"
          },
          {
           "hovertemplate": "<b>%{hovertext}</b><br><br>country=India<br>year=2019<br>Under-5 Mortality Rate=%{x}<br>Adolescent Fertility Rate=%{y}<br>Life Expectancy (Normalized)=%{marker.size}<extra></extra>",
           "hovertext": [
            "India"
           ],
           "ids": [
            "India"
           ],
           "legendgroup": "India",
           "marker": {
            "color": "green",
            "size": [
             0.6070614166147824
            ],
            "sizemode": "area",
            "sizeref": 0.00028055555555555554,
            "symbol": "circle"
           },
           "mode": "markers",
           "name": "India",
           "orientation": "v",
           "showlegend": true,
           "type": "scatter",
           "x": [
            34.3
           ],
           "xaxis": "x",
           "y": [
            14.796
           ],
           "yaxis": "y"
          },
          {
           "hovertemplate": "<b>%{hovertext}</b><br><br>country=Kenya<br>year=2019<br>Under-5 Mortality Rate=%{x}<br>Adolescent Fertility Rate=%{y}<br>Life Expectancy (Normalized)=%{marker.size}<extra></extra>",
           "hovertext": [
            "Kenya"
           ],
           "ids": [
            "Kenya"
           ],
           "legendgroup": "Kenya",
           "marker": {
            "color": "red",
            "size": [
             0.310939284633866
            ],
            "sizemode": "area",
            "sizeref": 0.00028055555555555554,
            "symbol": "circle"
           },
           "mode": "markers",
           "name": "Kenya",
           "orientation": "v",
           "showlegend": true,
           "type": "scatter",
           "x": [
            43.3
           ],
           "xaxis": "x",
           "y": [
            63.656
           ],
           "yaxis": "y"
          },
          {
           "hovertemplate": "<b>%{hovertext}</b><br><br>country=United Kingdom<br>year=2019<br>Under-5 Mortality Rate=%{x}<br>Adolescent Fertility Rate=%{y}<br>Life Expectancy (Normalized)=%{marker.size}<extra></extra>",
           "hovertext": [
            "United Kingdom"
           ],
           "ids": [
            "United Kingdom"
           ],
           "legendgroup": "United Kingdom",
           "marker": {
            "color": "#9467bd",
            "size": [
             1.01
            ],
            "sizemode": "area",
            "sizeref": 0.00028055555555555554,
            "symbol": "circle"
           },
           "mode": "markers",
           "name": "United Kingdom",
           "orientation": "v",
           "showlegend": true,
           "type": "scatter",
           "x": [
            4.4
           ],
           "xaxis": "x",
           "y": [
            11.064
           ],
           "yaxis": "y"
          }
         ],
         "name": "2019"
        },
        {
         "data": [
          {
           "hovertemplate": "<b>%{hovertext}</b><br><br>country=Afghanistan<br>year=2020<br>Under-5 Mortality Rate=%{x}<br>Adolescent Fertility Rate=%{y}<br>Life Expectancy (Normalized)=%{marker.size}<extra></extra>",
           "hovertext": [
            "Afghanistan"
           ],
           "ids": [
            "Afghanistan"
           ],
           "legendgroup": "Afghanistan",
           "marker": {
            "color": "#1f77b4",
            "size": [
             0.2546127358966223
            ],
            "sizemode": "area",
            "sizeref": 0.00028055555555555554,
            "symbol": "circle"
           },
           "mode": "markers",
           "name": "Afghanistan",
           "orientation": "v",
           "showlegend": true,
           "type": "scatter",
           "x": [
            61.3
           ],
           "xaxis": "x",
           "y": [
            68.877
           ],
           "yaxis": "y"
          },
          {
           "hovertemplate": "<b>%{hovertext}</b><br><br>country=Brazil<br>year=2020<br>Under-5 Mortality Rate=%{x}<br>Adolescent Fertility Rate=%{y}<br>Life Expectancy (Normalized)=%{marker.size}<extra></extra>",
           "hovertext": [
            "Brazil"
           ],
           "ids": [
            "Brazil"
           ],
           "legendgroup": "Brazil",
           "marker": {
            "color": "#ff7f0e",
            "size": [
             0.7496794794107665
            ],
            "sizemode": "area",
            "sizeref": 0.00028055555555555554,
            "symbol": "circle"
           },
           "mode": "markers",
           "name": "Brazil",
           "orientation": "v",
           "showlegend": true,
           "type": "scatter",
           "x": [
            14.9
           ],
           "xaxis": "x",
           "y": [
            47.46
           ],
           "yaxis": "y"
          },
          {
           "hovertemplate": "<b>%{hovertext}</b><br><br>country=India<br>year=2020<br>Under-5 Mortality Rate=%{x}<br>Adolescent Fertility Rate=%{y}<br>Life Expectancy (Normalized)=%{marker.size}<extra></extra>",
           "hovertext": [
            "India"
           ],
           "ids": [
            "India"
           ],
           "legendgroup": "India",
           "marker": {
            "color": "green",
            "size": [
             0.5846825184632853
            ],
            "sizemode": "area",
            "sizeref": 0.00028055555555555554,
            "symbol": "circle"
           },
           "mode": "markers",
           "name": "India",
           "orientation": "v",
           "showlegend": true,
           "type": "scatter",
           "x": [
            32.4
           ],
           "xaxis": "x",
           "y": [
            14.423
           ],
           "yaxis": "y"
          },
          {
           "hovertemplate": "<b>%{hovertext}</b><br><br>country=Kenya<br>year=2020<br>Under-5 Mortality Rate=%{x}<br>Adolescent Fertility Rate=%{y}<br>Life Expectancy (Normalized)=%{marker.size}<extra></extra>",
           "hovertext": [
            "Kenya"
           ],
           "ids": [
            "Kenya"
           ],
           "legendgroup": "Kenya",
           "marker": {
            "color": "red",
            "size": [
             0.25999884358732156
            ],
            "sizemode": "area",
            "sizeref": 0.00028055555555555554,
            "symbol": "circle"
           },
           "mode": "markers",
           "name": "Kenya",
           "orientation": "v",
           "showlegend": true,
           "type": "scatter",
           "x": [
            42.8
           ],
           "xaxis": "x",
           "y": [
            59.38
           ],
           "yaxis": "y"
          },
          {
           "hovertemplate": "<b>%{hovertext}</b><br><br>country=United Kingdom<br>year=2020<br>Under-5 Mortality Rate=%{x}<br>Adolescent Fertility Rate=%{y}<br>Life Expectancy (Normalized)=%{marker.size}<extra></extra>",
           "hovertext": [
            "United Kingdom"
           ],
           "ids": [
            "United Kingdom"
           ],
           "legendgroup": "United Kingdom",
           "marker": {
            "color": "#9467bd",
            "size": [
             0.9706523647714156
            ],
            "sizemode": "area",
            "sizeref": 0.00028055555555555554,
            "symbol": "circle"
           },
           "mode": "markers",
           "name": "United Kingdom",
           "orientation": "v",
           "showlegend": true,
           "type": "scatter",
           "x": [
            4.4
           ],
           "xaxis": "x",
           "y": [
            9.701
           ],
           "yaxis": "y"
          }
         ],
         "name": "2020"
        },
        {
         "data": [
          {
           "hovertemplate": "<b>%{hovertext}</b><br><br>country=Afghanistan<br>year=2021<br>Under-5 Mortality Rate=%{x}<br>Adolescent Fertility Rate=%{y}<br>Life Expectancy (Normalized)=%{marker.size}<extra></extra>",
           "hovertext": [
            "Afghanistan"
           ],
           "ids": [
            "Afghanistan"
           ],
           "legendgroup": "Afghanistan",
           "marker": {
            "color": "#1f77b4",
            "size": [
             0.21527897762017684
            ],
            "sizemode": "area",
            "sizeref": 0.00028055555555555554,
            "symbol": "circle"
           },
           "mode": "markers",
           "name": "Afghanistan",
           "orientation": "v",
           "showlegend": true,
           "type": "scatter",
           "x": [
            59.3
           ],
           "xaxis": "x",
           "y": [
            66.599
           ],
           "yaxis": "y"
          },
          {
           "hovertemplate": "<b>%{hovertext}</b><br><br>country=Brazil<br>year=2021<br>Under-5 Mortality Rate=%{x}<br>Adolescent Fertility Rate=%{y}<br>Life Expectancy (Normalized)=%{marker.size}<extra></extra>",
           "hovertext": [
            "Brazil"
           ],
           "ids": [
            "Brazil"
           ],
           "legendgroup": "Brazil",
           "marker": {
            "color": "#ff7f0e",
            "size": [
             0.6939977463829726
            ],
            "sizemode": "area",
            "sizeref": 0.00028055555555555554,
            "symbol": "circle"
           },
           "mode": "markers",
           "name": "Brazil",
           "orientation": "v",
           "showlegend": true,
           "type": "scatter",
           "x": [
            14.7
           ],
           "xaxis": "x",
           "y": [
            45.67
           ],
           "yaxis": "y"
          },
          {
           "hovertemplate": "<b>%{hovertext}</b><br><br>country=India<br>year=2021<br>Under-5 Mortality Rate=%{x}<br>Adolescent Fertility Rate=%{y}<br>Life Expectancy (Normalized)=%{marker.size}<extra></extra>",
           "hovertext": [
            "India"
           ],
           "ids": [
            "India"
           ],
           "legendgroup": "India",
           "marker": {
            "color": "green",
            "size": [
             0.47567073323039727
            ],
            "sizemode": "area",
            "sizeref": 0.00028055555555555554,
            "symbol": "circle"
           },
           "mode": "markers",
           "name": "India",
           "orientation": "v",
           "showlegend": true,
           "type": "scatter",
           "x": [
            30.6
           ],
           "xaxis": "x",
           "y": [
            14.289
           ],
           "yaxis": "y"
          },
          {
           "hovertemplate": "<b>%{hovertext}</b><br><br>country=Kenya<br>year=2021<br>Under-5 Mortality Rate=%{x}<br>Adolescent Fertility Rate=%{y}<br>Life Expectancy (Normalized)=%{marker.size}<extra></extra>",
           "hovertext": [
            "Kenya"
           ],
           "ids": [
            "Kenya"
           ],
           "legendgroup": "Kenya",
           "marker": {
            "color": "red",
            "size": [
             0.24592668898697337
            ],
            "sizemode": "area",
            "sizeref": 0.00028055555555555554,
            "symbol": "circle"
           },
           "mode": "markers",
           "name": "Kenya",
           "orientation": "v",
           "showlegend": true,
           "type": "scatter",
           "x": [
            41.9
           ],
           "xaxis": "x",
           "y": [
            59.513
           ],
           "yaxis": "y"
          },
          {
           "hovertemplate": "<b>%{hovertext}</b><br><br>country=United Kingdom<br>year=2021<br>Under-5 Mortality Rate=%{x}<br>Adolescent Fertility Rate=%{y}<br>Life Expectancy (Normalized)=%{marker.size}<extra></extra>",
           "hovertext": [
            "United Kingdom"
           ],
           "ids": [
            "United Kingdom"
           ],
           "legendgroup": "United Kingdom",
           "marker": {
            "color": "#9467bd",
            "size": [
             0.9826216985574439
            ],
            "sizemode": "area",
            "sizeref": 0.00028055555555555554,
            "symbol": "circle"
           },
           "mode": "markers",
           "name": "United Kingdom",
           "orientation": "v",
           "showlegend": true,
           "type": "scatter",
           "x": [
            4.4
           ],
           "xaxis": "x",
           "y": [
            8.578
           ],
           "yaxis": "y"
          }
         ],
         "name": "2021"
        },
        {
         "data": [
          {
           "hovertemplate": "<b>%{hovertext}</b><br><br>country=Afghanistan<br>year=2022<br>Under-5 Mortality Rate=%{x}<br>Adolescent Fertility Rate=%{y}<br>Life Expectancy (Normalized)=%{marker.size}<extra></extra>",
           "hovertext": [
            "Afghanistan"
           ],
           "ids": [
            "Afghanistan"
           ],
           "legendgroup": "Afghanistan",
           "marker": {
            "color": "#1f77b4",
            "size": [
             0.4125167240401547
            ],
            "sizemode": "area",
            "sizeref": 0.00028055555555555554,
            "symbol": "circle"
           },
           "mode": "markers",
           "name": "Afghanistan",
           "orientation": "v",
           "showlegend": true,
           "type": "scatter",
           "x": [
            57.4
           ],
           "xaxis": "x",
           "y": [
            65.339
           ],
           "yaxis": "y"
          },
          {
           "hovertemplate": "<b>%{hovertext}</b><br><br>country=Brazil<br>year=2022<br>Under-5 Mortality Rate=%{x}<br>Adolescent Fertility Rate=%{y}<br>Life Expectancy (Normalized)=%{marker.size}<extra></extra>",
           "hovertext": [
            "Brazil"
           ],
           "ids": [
            "Brazil"
           ],
           "legendgroup": "Brazil",
           "marker": {
            "color": "#ff7f0e",
            "size": [
             0.7635619823318649
            ],
            "sizemode": "area",
            "sizeref": 0.00028055555555555554,
            "symbol": "circle"
           },
           "mode": "markers",
           "name": "Brazil",
           "orientation": "v",
           "showlegend": true,
           "type": "scatter",
           "x": [
            14.6
           ],
           "xaxis": "x",
           "y": [
            42.881
           ],
           "yaxis": "y"
          },
          {
           "hovertemplate": "<b>%{hovertext}</b><br><br>country=India<br>year=2022<br>Under-5 Mortality Rate=%{x}<br>Adolescent Fertility Rate=%{y}<br>Life Expectancy (Normalized)=%{marker.size}<extra></extra>",
           "hovertext": [
            "India"
           ],
           "ids": [
            "India"
           ],
           "legendgroup": "India",
           "marker": {
            "color": "green",
            "size": [
             0.6431710963439783
            ],
            "sizemode": "area",
            "sizeref": 0.00028055555555555554,
            "symbol": "circle"
           },
           "mode": "markers",
           "name": "India",
           "orientation": "v",
           "showlegend": true,
           "type": "scatter",
           "x": [
            29.1
           ],
           "xaxis": "x",
           "y": [
            14.185
           ],
           "yaxis": "y"
          },
          {
           "hovertemplate": "<b>%{hovertext}</b><br><br>country=Kenya<br>year=2022<br>Under-5 Mortality Rate=%{x}<br>Adolescent Fertility Rate=%{y}<br>Life Expectancy (Normalized)=%{marker.size}<extra></extra>",
           "hovertext": [
            "Kenya"
           ],
           "ids": [
            "Kenya"
           ],
           "legendgroup": "Kenya",
           "marker": {
            "color": "red",
            "size": [
             0.33407678950236336
            ],
            "sizemode": "area",
            "sizeref": 0.00028055555555555554,
            "symbol": "circle"
           },
           "mode": "markers",
           "name": "Kenya",
           "orientation": "v",
           "showlegend": true,
           "type": "scatter",
           "x": [
            41.1
           ],
           "xaxis": "x",
           "y": [
            57.272
           ],
           "yaxis": "y"
          },
          {
           "hovertemplate": "<b>%{hovertext}</b><br><br>country=United Kingdom<br>year=2022<br>Under-5 Mortality Rate=%{x}<br>Adolescent Fertility Rate=%{y}<br>Life Expectancy (Normalized)=%{marker.size}<extra></extra>",
           "hovertext": [
            "United Kingdom"
           ],
           "ids": [
            "United Kingdom"
           ],
           "legendgroup": "United Kingdom",
           "marker": {
            "color": "#9467bd",
            "size": [
             0.9964246402862719
            ],
            "sizemode": "area",
            "sizeref": 0.00028055555555555554,
            "symbol": "circle"
           },
           "mode": "markers",
           "name": "United Kingdom",
           "orientation": "v",
           "showlegend": true,
           "type": "scatter",
           "x": [
            4.5
           ],
           "xaxis": "x",
           "y": [
            8.379
           ],
           "yaxis": "y"
          }
         ],
         "name": "2022"
        },
        {
         "data": [
          {
           "hovertemplate": "<b>%{hovertext}</b><br><br>country=Afghanistan<br>year=2023<br>Under-5 Mortality Rate=%{x}<br>Adolescent Fertility Rate=%{y}<br>Life Expectancy (Normalized)=%{marker.size}<extra></extra>",
           "hovertext": [
            "Afghanistan"
           ],
           "ids": [
            "Afghanistan"
           ],
           "legendgroup": "Afghanistan",
           "marker": {
            "color": "#1f77b4",
            "size": [
             0.4283716044254526
            ],
            "sizemode": "area",
            "sizeref": 0.00028055555555555554,
            "symbol": "circle"
           },
           "mode": "markers",
           "name": "Afghanistan",
           "orientation": "v",
           "showlegend": true,
           "type": "scatter",
           "x": [
            55.5
           ],
           "xaxis": "x",
           "y": [
            64.068
           ],
           "yaxis": "y"
          },
          {
           "hovertemplate": "<b>%{hovertext}</b><br><br>country=Brazil<br>year=2023<br>Under-5 Mortality Rate=%{x}<br>Adolescent Fertility Rate=%{y}<br>Life Expectancy (Normalized)=%{marker.size}<extra></extra>",
           "hovertext": [
            "Brazil"
           ],
           "ids": [
            "Brazil"
           ],
           "legendgroup": "Brazil",
           "marker": {
            "color": "#ff7f0e",
            "size": [
             0.8005819901214607
            ],
            "sizemode": "area",
            "sizeref": 0.00028055555555555554,
            "symbol": "circle"
           },
           "mode": "markers",
           "name": "Brazil",
           "orientation": "v",
           "showlegend": true,
           "type": "scatter",
           "x": [
            14.4
           ],
           "xaxis": "x",
           "y": [
            42.686
           ],
           "yaxis": "y"
          },
          {
           "hovertemplate": "<b>%{hovertext}</b><br><br>country=India<br>year=2023<br>Under-5 Mortality Rate=%{x}<br>Adolescent Fertility Rate=%{y}<br>Life Expectancy (Normalized)=%{marker.size}<extra></extra>",
           "hovertext": [
            "India"
           ],
           "ids": [
            "India"
           ],
           "legendgroup": "India",
           "marker": {
            "color": "green",
            "size": [
             0.6547398487782272
            ],
            "sizemode": "area",
            "sizeref": 0.00028055555555555554,
            "symbol": "circle"
           },
           "mode": "markers",
           "name": "India",
           "orientation": "v",
           "showlegend": true,
           "type": "scatter",
           "x": [
            27.7
           ],
           "xaxis": "x",
           "y": [
            14.06
           ],
           "yaxis": "y"
          },
          {
           "hovertemplate": "<b>%{hovertext}</b><br><br>country=Kenya<br>year=2023<br>Under-5 Mortality Rate=%{x}<br>Adolescent Fertility Rate=%{y}<br>Life Expectancy (Normalized)=%{marker.size}<extra></extra>",
           "hovertext": [
            "Kenya"
           ],
           "ids": [
            "Kenya"
           ],
           "legendgroup": "Kenya",
           "marker": {
            "color": "red",
            "size": [
             0.337756032079813
            ],
            "sizemode": "area",
            "sizeref": 0.00028055555555555554,
            "symbol": "circle"
           },
           "mode": "markers",
           "name": "Kenya",
           "orientation": "v",
           "showlegend": true,
           "type": "scatter",
           "x": [
            39.9
           ],
           "xaxis": "x",
           "y": [
            56.313
           ],
           "yaxis": "y"
          },
          {
           "hovertemplate": "<b>%{hovertext}</b><br><br>country=United Kingdom<br>year=2023<br>Under-5 Mortality Rate=%{x}<br>Adolescent Fertility Rate=%{y}<br>Life Expectancy (Normalized)=%{marker.size}<extra></extra>",
           "hovertext": [
            "United Kingdom"
           ],
           "ids": [
            "United Kingdom"
           ],
           "legendgroup": "United Kingdom",
           "marker": {
            "color": "#9467bd",
            "size": [
             1.0050302008735081
            ],
            "sizemode": "area",
            "sizeref": 0.00028055555555555554,
            "symbol": "circle"
           },
           "mode": "markers",
           "name": "United Kingdom",
           "orientation": "v",
           "showlegend": true,
           "type": "scatter",
           "x": [
            4.5
           ],
           "xaxis": "x",
           "y": [
            8.359
           ],
           "yaxis": "y"
          }
         ],
         "name": "2023"
        }
       ],
       "layout": {
        "legend": {
         "itemsizing": "constant",
         "title": {
          "text": "country"
         },
         "tracegroupgap": 0
        },
        "sliders": [
         {
          "active": 0,
          "currentvalue": {
           "prefix": "year="
          },
          "len": 0.9,
          "pad": {
           "b": 10,
           "t": 60
          },
          "steps": [
           {
            "args": [
             [
              "2000"
             ],
             {
              "frame": {
               "duration": 0,
               "redraw": false
              },
              "fromcurrent": true,
              "mode": "immediate",
              "transition": {
               "duration": 0,
               "easing": "linear"
              }
             }
            ],
            "label": "2000",
            "method": "animate"
           },
           {
            "args": [
             [
              "2001"
             ],
             {
              "frame": {
               "duration": 0,
               "redraw": false
              },
              "fromcurrent": true,
              "mode": "immediate",
              "transition": {
               "duration": 0,
               "easing": "linear"
              }
             }
            ],
            "label": "2001",
            "method": "animate"
           },
           {
            "args": [
             [
              "2002"
             ],
             {
              "frame": {
               "duration": 0,
               "redraw": false
              },
              "fromcurrent": true,
              "mode": "immediate",
              "transition": {
               "duration": 0,
               "easing": "linear"
              }
             }
            ],
            "label": "2002",
            "method": "animate"
           },
           {
            "args": [
             [
              "2003"
             ],
             {
              "frame": {
               "duration": 0,
               "redraw": false
              },
              "fromcurrent": true,
              "mode": "immediate",
              "transition": {
               "duration": 0,
               "easing": "linear"
              }
             }
            ],
            "label": "2003",
            "method": "animate"
           },
           {
            "args": [
             [
              "2004"
             ],
             {
              "frame": {
               "duration": 0,
               "redraw": false
              },
              "fromcurrent": true,
              "mode": "immediate",
              "transition": {
               "duration": 0,
               "easing": "linear"
              }
             }
            ],
            "label": "2004",
            "method": "animate"
           },
           {
            "args": [
             [
              "2005"
             ],
             {
              "frame": {
               "duration": 0,
               "redraw": false
              },
              "fromcurrent": true,
              "mode": "immediate",
              "transition": {
               "duration": 0,
               "easing": "linear"
              }
             }
            ],
            "label": "2005",
            "method": "animate"
           },
           {
            "args": [
             [
              "2006"
             ],
             {
              "frame": {
               "duration": 0,
               "redraw": false
              },
              "fromcurrent": true,
              "mode": "immediate",
              "transition": {
               "duration": 0,
               "easing": "linear"
              }
             }
            ],
            "label": "2006",
            "method": "animate"
           },
           {
            "args": [
             [
              "2007"
             ],
             {
              "frame": {
               "duration": 0,
               "redraw": false
              },
              "fromcurrent": true,
              "mode": "immediate",
              "transition": {
               "duration": 0,
               "easing": "linear"
              }
             }
            ],
            "label": "2007",
            "method": "animate"
           },
           {
            "args": [
             [
              "2008"
             ],
             {
              "frame": {
               "duration": 0,
               "redraw": false
              },
              "fromcurrent": true,
              "mode": "immediate",
              "transition": {
               "duration": 0,
               "easing": "linear"
              }
             }
            ],
            "label": "2008",
            "method": "animate"
           },
           {
            "args": [
             [
              "2009"
             ],
             {
              "frame": {
               "duration": 0,
               "redraw": false
              },
              "fromcurrent": true,
              "mode": "immediate",
              "transition": {
               "duration": 0,
               "easing": "linear"
              }
             }
            ],
            "label": "2009",
            "method": "animate"
           },
           {
            "args": [
             [
              "2010"
             ],
             {
              "frame": {
               "duration": 0,
               "redraw": false
              },
              "fromcurrent": true,
              "mode": "immediate",
              "transition": {
               "duration": 0,
               "easing": "linear"
              }
             }
            ],
            "label": "2010",
            "method": "animate"
           },
           {
            "args": [
             [
              "2011"
             ],
             {
              "frame": {
               "duration": 0,
               "redraw": false
              },
              "fromcurrent": true,
              "mode": "immediate",
              "transition": {
               "duration": 0,
               "easing": "linear"
              }
             }
            ],
            "label": "2011",
            "method": "animate"
           },
           {
            "args": [
             [
              "2012"
             ],
             {
              "frame": {
               "duration": 0,
               "redraw": false
              },
              "fromcurrent": true,
              "mode": "immediate",
              "transition": {
               "duration": 0,
               "easing": "linear"
              }
             }
            ],
            "label": "2012",
            "method": "animate"
           },
           {
            "args": [
             [
              "2013"
             ],
             {
              "frame": {
               "duration": 0,
               "redraw": false
              },
              "fromcurrent": true,
              "mode": "immediate",
              "transition": {
               "duration": 0,
               "easing": "linear"
              }
             }
            ],
            "label": "2013",
            "method": "animate"
           },
           {
            "args": [
             [
              "2014"
             ],
             {
              "frame": {
               "duration": 0,
               "redraw": false
              },
              "fromcurrent": true,
              "mode": "immediate",
              "transition": {
               "duration": 0,
               "easing": "linear"
              }
             }
            ],
            "label": "2014",
            "method": "animate"
           },
           {
            "args": [
             [
              "2015"
             ],
             {
              "frame": {
               "duration": 0,
               "redraw": false
              },
              "fromcurrent": true,
              "mode": "immediate",
              "transition": {
               "duration": 0,
               "easing": "linear"
              }
             }
            ],
            "label": "2015",
            "method": "animate"
           },
           {
            "args": [
             [
              "2016"
             ],
             {
              "frame": {
               "duration": 0,
               "redraw": false
              },
              "fromcurrent": true,
              "mode": "immediate",
              "transition": {
               "duration": 0,
               "easing": "linear"
              }
             }
            ],
            "label": "2016",
            "method": "animate"
           },
           {
            "args": [
             [
              "2017"
             ],
             {
              "frame": {
               "duration": 0,
               "redraw": false
              },
              "fromcurrent": true,
              "mode": "immediate",
              "transition": {
               "duration": 0,
               "easing": "linear"
              }
             }
            ],
            "label": "2017",
            "method": "animate"
           },
           {
            "args": [
             [
              "2018"
             ],
             {
              "frame": {
               "duration": 0,
               "redraw": false
              },
              "fromcurrent": true,
              "mode": "immediate",
              "transition": {
               "duration": 0,
               "easing": "linear"
              }
             }
            ],
            "label": "2018",
            "method": "animate"
           },
           {
            "args": [
             [
              "2019"
             ],
             {
              "frame": {
               "duration": 0,
               "redraw": false
              },
              "fromcurrent": true,
              "mode": "immediate",
              "transition": {
               "duration": 0,
               "easing": "linear"
              }
             }
            ],
            "label": "2019",
            "method": "animate"
           },
           {
            "args": [
             [
              "2020"
             ],
             {
              "frame": {
               "duration": 0,
               "redraw": false
              },
              "fromcurrent": true,
              "mode": "immediate",
              "transition": {
               "duration": 0,
               "easing": "linear"
              }
             }
            ],
            "label": "2020",
            "method": "animate"
           },
           {
            "args": [
             [
              "2021"
             ],
             {
              "frame": {
               "duration": 0,
               "redraw": false
              },
              "fromcurrent": true,
              "mode": "immediate",
              "transition": {
               "duration": 0,
               "easing": "linear"
              }
             }
            ],
            "label": "2021",
            "method": "animate"
           },
           {
            "args": [
             [
              "2022"
             ],
             {
              "frame": {
               "duration": 0,
               "redraw": false
              },
              "fromcurrent": true,
              "mode": "immediate",
              "transition": {
               "duration": 0,
               "easing": "linear"
              }
             }
            ],
            "label": "2022",
            "method": "animate"
           },
           {
            "args": [
             [
              "2023"
             ],
             {
              "frame": {
               "duration": 0,
               "redraw": false
              },
              "fromcurrent": true,
              "mode": "immediate",
              "transition": {
               "duration": 0,
               "easing": "linear"
              }
             }
            ],
            "label": "2023",
            "method": "animate"
           }
          ],
          "x": 0.1,
          "xanchor": "left",
          "y": 0,
          "yanchor": "top"
         }
        ],
        "template": {
         "data": {
          "bar": [
           {
            "error_x": {
             "color": "#2a3f5f"
            },
            "error_y": {
             "color": "#2a3f5f"
            },
            "marker": {
             "line": {
              "color": "#E5ECF6",
              "width": 0.5
             },
             "pattern": {
              "fillmode": "overlay",
              "size": 10,
              "solidity": 0.2
             }
            },
            "type": "bar"
           }
          ],
          "barpolar": [
           {
            "marker": {
             "line": {
              "color": "#E5ECF6",
              "width": 0.5
             },
             "pattern": {
              "fillmode": "overlay",
              "size": 10,
              "solidity": 0.2
             }
            },
            "type": "barpolar"
           }
          ],
          "carpet": [
           {
            "aaxis": {
             "endlinecolor": "#2a3f5f",
             "gridcolor": "white",
             "linecolor": "white",
             "minorgridcolor": "white",
             "startlinecolor": "#2a3f5f"
            },
            "baxis": {
             "endlinecolor": "#2a3f5f",
             "gridcolor": "white",
             "linecolor": "white",
             "minorgridcolor": "white",
             "startlinecolor": "#2a3f5f"
            },
            "type": "carpet"
           }
          ],
          "choropleth": [
           {
            "colorbar": {
             "outlinewidth": 0,
             "ticks": ""
            },
            "type": "choropleth"
           }
          ],
          "contour": [
           {
            "colorbar": {
             "outlinewidth": 0,
             "ticks": ""
            },
            "colorscale": [
             [
              0,
              "#0d0887"
             ],
             [
              0.1111111111111111,
              "#46039f"
             ],
             [
              0.2222222222222222,
              "#7201a8"
             ],
             [
              0.3333333333333333,
              "#9c179e"
             ],
             [
              0.4444444444444444,
              "#bd3786"
             ],
             [
              0.5555555555555556,
              "#d8576b"
             ],
             [
              0.6666666666666666,
              "#ed7953"
             ],
             [
              0.7777777777777778,
              "#fb9f3a"
             ],
             [
              0.8888888888888888,
              "#fdca26"
             ],
             [
              1,
              "#f0f921"
             ]
            ],
            "type": "contour"
           }
          ],
          "contourcarpet": [
           {
            "colorbar": {
             "outlinewidth": 0,
             "ticks": ""
            },
            "type": "contourcarpet"
           }
          ],
          "heatmap": [
           {
            "colorbar": {
             "outlinewidth": 0,
             "ticks": ""
            },
            "colorscale": [
             [
              0,
              "#0d0887"
             ],
             [
              0.1111111111111111,
              "#46039f"
             ],
             [
              0.2222222222222222,
              "#7201a8"
             ],
             [
              0.3333333333333333,
              "#9c179e"
             ],
             [
              0.4444444444444444,
              "#bd3786"
             ],
             [
              0.5555555555555556,
              "#d8576b"
             ],
             [
              0.6666666666666666,
              "#ed7953"
             ],
             [
              0.7777777777777778,
              "#fb9f3a"
             ],
             [
              0.8888888888888888,
              "#fdca26"
             ],
             [
              1,
              "#f0f921"
             ]
            ],
            "type": "heatmap"
           }
          ],
          "heatmapgl": [
           {
            "colorbar": {
             "outlinewidth": 0,
             "ticks": ""
            },
            "colorscale": [
             [
              0,
              "#0d0887"
             ],
             [
              0.1111111111111111,
              "#46039f"
             ],
             [
              0.2222222222222222,
              "#7201a8"
             ],
             [
              0.3333333333333333,
              "#9c179e"
             ],
             [
              0.4444444444444444,
              "#bd3786"
             ],
             [
              0.5555555555555556,
              "#d8576b"
             ],
             [
              0.6666666666666666,
              "#ed7953"
             ],
             [
              0.7777777777777778,
              "#fb9f3a"
             ],
             [
              0.8888888888888888,
              "#fdca26"
             ],
             [
              1,
              "#f0f921"
             ]
            ],
            "type": "heatmapgl"
           }
          ],
          "histogram": [
           {
            "marker": {
             "pattern": {
              "fillmode": "overlay",
              "size": 10,
              "solidity": 0.2
             }
            },
            "type": "histogram"
           }
          ],
          "histogram2d": [
           {
            "colorbar": {
             "outlinewidth": 0,
             "ticks": ""
            },
            "colorscale": [
             [
              0,
              "#0d0887"
             ],
             [
              0.1111111111111111,
              "#46039f"
             ],
             [
              0.2222222222222222,
              "#7201a8"
             ],
             [
              0.3333333333333333,
              "#9c179e"
             ],
             [
              0.4444444444444444,
              "#bd3786"
             ],
             [
              0.5555555555555556,
              "#d8576b"
             ],
             [
              0.6666666666666666,
              "#ed7953"
             ],
             [
              0.7777777777777778,
              "#fb9f3a"
             ],
             [
              0.8888888888888888,
              "#fdca26"
             ],
             [
              1,
              "#f0f921"
             ]
            ],
            "type": "histogram2d"
           }
          ],
          "histogram2dcontour": [
           {
            "colorbar": {
             "outlinewidth": 0,
             "ticks": ""
            },
            "colorscale": [
             [
              0,
              "#0d0887"
             ],
             [
              0.1111111111111111,
              "#46039f"
             ],
             [
              0.2222222222222222,
              "#7201a8"
             ],
             [
              0.3333333333333333,
              "#9c179e"
             ],
             [
              0.4444444444444444,
              "#bd3786"
             ],
             [
              0.5555555555555556,
              "#d8576b"
             ],
             [
              0.6666666666666666,
              "#ed7953"
             ],
             [
              0.7777777777777778,
              "#fb9f3a"
             ],
             [
              0.8888888888888888,
              "#fdca26"
             ],
             [
              1,
              "#f0f921"
             ]
            ],
            "type": "histogram2dcontour"
           }
          ],
          "mesh3d": [
           {
            "colorbar": {
             "outlinewidth": 0,
             "ticks": ""
            },
            "type": "mesh3d"
           }
          ],
          "parcoords": [
           {
            "line": {
             "colorbar": {
              "outlinewidth": 0,
              "ticks": ""
             }
            },
            "type": "parcoords"
           }
          ],
          "pie": [
           {
            "automargin": true,
            "type": "pie"
           }
          ],
          "scatter": [
           {
            "fillpattern": {
             "fillmode": "overlay",
             "size": 10,
             "solidity": 0.2
            },
            "type": "scatter"
           }
          ],
          "scatter3d": [
           {
            "line": {
             "colorbar": {
              "outlinewidth": 0,
              "ticks": ""
             }
            },
            "marker": {
             "colorbar": {
              "outlinewidth": 0,
              "ticks": ""
             }
            },
            "type": "scatter3d"
           }
          ],
          "scattercarpet": [
           {
            "marker": {
             "colorbar": {
              "outlinewidth": 0,
              "ticks": ""
             }
            },
            "type": "scattercarpet"
           }
          ],
          "scattergeo": [
           {
            "marker": {
             "colorbar": {
              "outlinewidth": 0,
              "ticks": ""
             }
            },
            "type": "scattergeo"
           }
          ],
          "scattergl": [
           {
            "marker": {
             "colorbar": {
              "outlinewidth": 0,
              "ticks": ""
             }
            },
            "type": "scattergl"
           }
          ],
          "scattermapbox": [
           {
            "marker": {
             "colorbar": {
              "outlinewidth": 0,
              "ticks": ""
             }
            },
            "type": "scattermapbox"
           }
          ],
          "scatterpolar": [
           {
            "marker": {
             "colorbar": {
              "outlinewidth": 0,
              "ticks": ""
             }
            },
            "type": "scatterpolar"
           }
          ],
          "scatterpolargl": [
           {
            "marker": {
             "colorbar": {
              "outlinewidth": 0,
              "ticks": ""
             }
            },
            "type": "scatterpolargl"
           }
          ],
          "scatterternary": [
           {
            "marker": {
             "colorbar": {
              "outlinewidth": 0,
              "ticks": ""
             }
            },
            "type": "scatterternary"
           }
          ],
          "surface": [
           {
            "colorbar": {
             "outlinewidth": 0,
             "ticks": ""
            },
            "colorscale": [
             [
              0,
              "#0d0887"
             ],
             [
              0.1111111111111111,
              "#46039f"
             ],
             [
              0.2222222222222222,
              "#7201a8"
             ],
             [
              0.3333333333333333,
              "#9c179e"
             ],
             [
              0.4444444444444444,
              "#bd3786"
             ],
             [
              0.5555555555555556,
              "#d8576b"
             ],
             [
              0.6666666666666666,
              "#ed7953"
             ],
             [
              0.7777777777777778,
              "#fb9f3a"
             ],
             [
              0.8888888888888888,
              "#fdca26"
             ],
             [
              1,
              "#f0f921"
             ]
            ],
            "type": "surface"
           }
          ],
          "table": [
           {
            "cells": {
             "fill": {
              "color": "#EBF0F8"
             },
             "line": {
              "color": "white"
             }
            },
            "header": {
             "fill": {
              "color": "#C8D4E3"
             },
             "line": {
              "color": "white"
             }
            },
            "type": "table"
           }
          ]
         },
         "layout": {
          "annotationdefaults": {
           "arrowcolor": "#2a3f5f",
           "arrowhead": 0,
           "arrowwidth": 1
          },
          "autotypenumbers": "strict",
          "coloraxis": {
           "colorbar": {
            "outlinewidth": 0,
            "ticks": ""
           }
          },
          "colorscale": {
           "diverging": [
            [
             0,
             "#8e0152"
            ],
            [
             0.1,
             "#c51b7d"
            ],
            [
             0.2,
             "#de77ae"
            ],
            [
             0.3,
             "#f1b6da"
            ],
            [
             0.4,
             "#fde0ef"
            ],
            [
             0.5,
             "#f7f7f7"
            ],
            [
             0.6,
             "#e6f5d0"
            ],
            [
             0.7,
             "#b8e186"
            ],
            [
             0.8,
             "#7fbc41"
            ],
            [
             0.9,
             "#4d9221"
            ],
            [
             1,
             "#276419"
            ]
           ],
           "sequential": [
            [
             0,
             "#0d0887"
            ],
            [
             0.1111111111111111,
             "#46039f"
            ],
            [
             0.2222222222222222,
             "#7201a8"
            ],
            [
             0.3333333333333333,
             "#9c179e"
            ],
            [
             0.4444444444444444,
             "#bd3786"
            ],
            [
             0.5555555555555556,
             "#d8576b"
            ],
            [
             0.6666666666666666,
             "#ed7953"
            ],
            [
             0.7777777777777778,
             "#fb9f3a"
            ],
            [
             0.8888888888888888,
             "#fdca26"
            ],
            [
             1,
             "#f0f921"
            ]
           ],
           "sequentialminus": [
            [
             0,
             "#0d0887"
            ],
            [
             0.1111111111111111,
             "#46039f"
            ],
            [
             0.2222222222222222,
             "#7201a8"
            ],
            [
             0.3333333333333333,
             "#9c179e"
            ],
            [
             0.4444444444444444,
             "#bd3786"
            ],
            [
             0.5555555555555556,
             "#d8576b"
            ],
            [
             0.6666666666666666,
             "#ed7953"
            ],
            [
             0.7777777777777778,
             "#fb9f3a"
            ],
            [
             0.8888888888888888,
             "#fdca26"
            ],
            [
             1,
             "#f0f921"
            ]
           ]
          },
          "colorway": [
           "#636efa",
           "#EF553B",
           "#00cc96",
           "#ab63fa",
           "#FFA15A",
           "#19d3f3",
           "#FF6692",
           "#B6E880",
           "#FF97FF",
           "#FECB52"
          ],
          "font": {
           "color": "#2a3f5f"
          },
          "geo": {
           "bgcolor": "white",
           "lakecolor": "white",
           "landcolor": "#E5ECF6",
           "showlakes": true,
           "showland": true,
           "subunitcolor": "white"
          },
          "hoverlabel": {
           "align": "left"
          },
          "hovermode": "closest",
          "mapbox": {
           "style": "light"
          },
          "paper_bgcolor": "white",
          "plot_bgcolor": "#E5ECF6",
          "polar": {
           "angularaxis": {
            "gridcolor": "white",
            "linecolor": "white",
            "ticks": ""
           },
           "bgcolor": "#E5ECF6",
           "radialaxis": {
            "gridcolor": "white",
            "linecolor": "white",
            "ticks": ""
           }
          },
          "scene": {
           "xaxis": {
            "backgroundcolor": "#E5ECF6",
            "gridcolor": "white",
            "gridwidth": 2,
            "linecolor": "white",
            "showbackground": true,
            "ticks": "",
            "zerolinecolor": "white"
           },
           "yaxis": {
            "backgroundcolor": "#E5ECF6",
            "gridcolor": "white",
            "gridwidth": 2,
            "linecolor": "white",
            "showbackground": true,
            "ticks": "",
            "zerolinecolor": "white"
           },
           "zaxis": {
            "backgroundcolor": "#E5ECF6",
            "gridcolor": "white",
            "gridwidth": 2,
            "linecolor": "white",
            "showbackground": true,
            "ticks": "",
            "zerolinecolor": "white"
           }
          },
          "shapedefaults": {
           "line": {
            "color": "#2a3f5f"
           }
          },
          "ternary": {
           "aaxis": {
            "gridcolor": "white",
            "linecolor": "white",
            "ticks": ""
           },
           "baxis": {
            "gridcolor": "white",
            "linecolor": "white",
            "ticks": ""
           },
           "bgcolor": "#E5ECF6",
           "caxis": {
            "gridcolor": "white",
            "linecolor": "white",
            "ticks": ""
           }
          },
          "title": {
           "x": 0.05
          },
          "xaxis": {
           "automargin": true,
           "gridcolor": "white",
           "linecolor": "white",
           "ticks": "",
           "title": {
            "standoff": 15
           },
           "zerolinecolor": "white",
           "zerolinewidth": 2
          },
          "yaxis": {
           "automargin": true,
           "gridcolor": "white",
           "linecolor": "white",
           "ticks": "",
           "title": {
            "standoff": 15
           },
           "zerolinecolor": "white",
           "zerolinewidth": 2
          }
         }
        },
        "title": {
         "text": "Life Expectancy, Under-5 Mortality, and Adolescent Fertility Rate Over Time"
        },
        "updatemenus": [
         {
          "buttons": [
           {
            "args": [
             null,
             {
              "frame": {
               "duration": 500,
               "redraw": false
              },
              "fromcurrent": true,
              "mode": "immediate",
              "transition": {
               "duration": 500,
               "easing": "linear"
              }
             }
            ],
            "label": "&#9654;",
            "method": "animate"
           },
           {
            "args": [
             [
              null
             ],
             {
              "frame": {
               "duration": 0,
               "redraw": false
              },
              "fromcurrent": true,
              "mode": "immediate",
              "transition": {
               "duration": 0,
               "easing": "linear"
              }
             }
            ],
            "label": "&#9724;",
            "method": "animate"
           }
          ],
          "direction": "left",
          "pad": {
           "r": 10,
           "t": 70
          },
          "showactive": false,
          "type": "buttons",
          "x": 0.1,
          "xanchor": "right",
          "y": 0,
          "yanchor": "top"
         }
        ],
        "xaxis": {
         "anchor": "y",
         "domain": [
          0,
          1
         ],
         "title": {
          "text": "Under-5 Mortality Rate"
         }
        },
        "yaxis": {
         "anchor": "x",
         "domain": [
          0,
          1
         ],
         "title": {
          "text": "Adolescent Fertility Rate"
         }
        }
       }
      }
     },
     "metadata": {},
     "output_type": "display_data"
    }
   ],
   "source": [
    "# Create an animated scatter plot/bubble chart\n",
    "\n",
    "fig = px.scatter(\n",
    "    df,\n",
    "    x = \"under5_mortality\",\n",
    "    y = \"adolescent_fertility\",\n",
    "    title = \"Life Expectancy, Under-5 Mortality, and Adolescent Fertility Rate Over Time\",\n",
    "    size = 'life_expectancy_norm',\n",
    "    color = 'country',\n",
    "    color_discrete_map = {\n",
    "        'Brazil': '#ff7f0e',\n",
    "        'India': 'green',\n",
    "        'Kenya': 'red',\n",
    "        'United Kingdom': '#9467bd',\n",
    "        'Afghanistan': '#1f77b4'\n",
    "    },\n",
    "    hover_name = 'country',\n",
    "    size_max = 60,\n",
    "    animation_frame = 'year',\n",
    "    animation_group ='country',\n",
    "    labels={\n",
    "        \"under5_mortality\": \"Under-5 Mortality Rate\",\n",
    "        \"adolescent_fertility\": \"Adolescent Fertility Rate\",\n",
    "        \"life_expectancy_norm\": \"Life Expectancy (Normalized)\"\n",
    "    }\n",
    ")\n",
    "\n",
    "fig.show()"
   ]
  }
 ],
 "metadata": {
  "kernelspec": {
   "display_name": "base",
   "language": "python",
   "name": "python3"
  },
  "language_info": {
   "codemirror_mode": {
    "name": "ipython",
    "version": 3
   },
   "file_extension": ".py",
   "mimetype": "text/x-python",
   "name": "python",
   "nbconvert_exporter": "python",
   "pygments_lexer": "ipython3",
   "version": "3.12.2"
  }
 },
 "nbformat": 4,
 "nbformat_minor": 5
}
