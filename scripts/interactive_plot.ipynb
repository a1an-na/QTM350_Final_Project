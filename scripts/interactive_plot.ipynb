{
 "cells": [
  {
   "cell_type": "code",
   "execution_count": 1,
   "id": "323be2c0",
   "metadata": {},
   "outputs": [],
   "source": [
    "import pandas as pd\n",
    "import plotly.express as px"
   ]
  },
  {
   "cell_type": "code",
   "execution_count": 2,
   "id": "23326177",
   "metadata": {},
   "outputs": [],
   "source": [
    "# Read the dataset\n",
    "df = pd.read_csv('../data/population_dynamics_clean.csv')"
   ]
  },
  {
   "cell_type": "code",
   "execution_count": 3,
   "id": "b65f9511",
   "metadata": {},
   "outputs": [],
   "source": [
    "# Normalize the life expectancy column to see clearer changes\n",
    "# 0.01 is added to avoid a minimum value of 0\n",
    "df['life_expectancy_norm'] = 0.01 + (df['life_expectancy'] - df['life_expectancy'].min()) / (df['life_expectancy'].max() - df['life_expectancy'].min())"
   ]
  },
  {
   "cell_type": "code",
   "execution_count": 4,
   "id": "a77f68d6",
   "metadata": {},
   "outputs": [
    {
     "data": {
      "application/vnd.plotly.v1+json": {
       "config": {
        "plotlyServerURL": "https://plot.ly"
       },
       "data": [
        {
         "hovertemplate": "<b>%{hovertext}</b><br><br>country=Brazil<br>year=2000<br>Under-5 Mortality Rate=%{x}<br>Adolescent Fertility Rate=%{y}<br>Life Expectancy (Normalized)=%{marker.size}<extra></extra>",
         "hovertext": [
          "Brazil"
         ],
         "ids": [
          "Brazil"
         ],
         "legendgroup": "Brazil",
         "marker": {
          "color": "#1f77b4",
          "size": [
           0.5439108122968297
          ],
          "sizemode": "area",
          "sizeref": 0.00028055555555555554,
          "symbol": "circle"
         },
         "mode": "markers",
         "name": "Brazil",
         "orientation": "v",
         "showlegend": true,
         "type": "scatter",
         "x": [
          34.5
         ],
         "xaxis": "x",
         "y": [
          85.611
         ],
         "yaxis": "y"
        },
        {
         "hovertemplate": "<b>%{hovertext}</b><br><br>country=India<br>year=2000<br>Under-5 Mortality Rate=%{x}<br>Adolescent Fertility Rate=%{y}<br>Life Expectancy (Normalized)=%{marker.size}<extra></extra>",
         "hovertext": [
          "India"
         ],
         "ids": [
          "India"
         ],
         "legendgroup": "India",
         "marker": {
          "color": "#ff7f0e",
          "size": [
           0.27359374547839777
          ],
          "sizemode": "area",
          "sizeref": 0.00028055555555555554,
          "symbol": "circle"
         },
         "mode": "markers",
         "name": "India",
         "orientation": "v",
         "showlegend": true,
         "type": "scatter",
         "x": [
          91.6
         ],
         "xaxis": "x",
         "y": [
          114.352
         ],
         "yaxis": "y"
        },
        {
         "hovertemplate": "<b>%{hovertext}</b><br><br>country=Kenya<br>year=2000<br>Under-5 Mortality Rate=%{x}<br>Adolescent Fertility Rate=%{y}<br>Life Expectancy (Normalized)=%{marker.size}<extra></extra>",
         "hovertext": [
          "Kenya"
         ],
         "ids": [
          "Kenya"
         ],
         "legendgroup": "Kenya",
         "marker": {
          "color": "green",
          "size": [
           0.01
          ],
          "sizemode": "area",
          "sizeref": 0.00028055555555555554,
          "symbol": "circle"
         },
         "mode": "markers",
         "name": "Kenya",
         "orientation": "v",
         "showlegend": true,
         "type": "scatter",
         "x": [
          96.3
         ],
         "xaxis": "x",
         "y": [
          121.104
         ],
         "yaxis": "y"
        },
        {
         "hovertemplate": "<b>%{hovertext}</b><br><br>country=United Kingdom<br>year=2000<br>Under-5 Mortality Rate=%{x}<br>Adolescent Fertility Rate=%{y}<br>Life Expectancy (Normalized)=%{marker.size}<extra></extra>",
         "hovertext": [
          "United Kingdom"
         ],
         "ids": [
          "United Kingdom"
         ],
         "legendgroup": "United Kingdom",
         "marker": {
          "color": "red",
          "size": [
           0.8665299173330528
          ],
          "sizemode": "area",
          "sizeref": 0.00028055555555555554,
          "symbol": "circle"
         },
         "mode": "markers",
         "name": "United Kingdom",
         "orientation": "v",
         "showlegend": true,
         "type": "scatter",
         "x": [
          6.5
         ],
         "xaxis": "x",
         "y": [
          28.732
         ],
         "yaxis": "y"
        },
        {
         "hovertemplate": "<b>%{hovertext}</b><br><br>country=United States<br>year=2000<br>Under-5 Mortality Rate=%{x}<br>Adolescent Fertility Rate=%{y}<br>Life Expectancy (Normalized)=%{marker.size}<extra></extra>",
         "hovertext": [
          "United States"
         ],
         "ids": [
          "United States"
         ],
         "legendgroup": "United States",
         "marker": {
          "color": "#9467bd",
          "size": [
           0.8228331516653988
          ],
          "sizemode": "area",
          "sizeref": 0.00028055555555555554,
          "symbol": "circle"
         },
         "mode": "markers",
         "name": "United States",
         "orientation": "v",
         "showlegend": true,
         "type": "scatter",
         "x": [
          8.4
         ],
         "xaxis": "x",
         "y": [
          47.501
         ],
         "yaxis": "y"
        }
       ],
       "frames": [
        {
         "data": [
          {
           "hovertemplate": "<b>%{hovertext}</b><br><br>country=Brazil<br>year=2000<br>Under-5 Mortality Rate=%{x}<br>Adolescent Fertility Rate=%{y}<br>Life Expectancy (Normalized)=%{marker.size}<extra></extra>",
           "hovertext": [
            "Brazil"
           ],
           "ids": [
            "Brazil"
           ],
           "legendgroup": "Brazil",
           "marker": {
            "color": "#1f77b4",
            "size": [
             0.5439108122968297
            ],
            "sizemode": "area",
            "sizeref": 0.00028055555555555554,
            "symbol": "circle"
           },
           "mode": "markers",
           "name": "Brazil",
           "orientation": "v",
           "showlegend": true,
           "type": "scatter",
           "x": [
            34.5
           ],
           "xaxis": "x",
           "y": [
            85.611
           ],
           "yaxis": "y"
          },
          {
           "hovertemplate": "<b>%{hovertext}</b><br><br>country=India<br>year=2000<br>Under-5 Mortality Rate=%{x}<br>Adolescent Fertility Rate=%{y}<br>Life Expectancy (Normalized)=%{marker.size}<extra></extra>",
           "hovertext": [
            "India"
           ],
           "ids": [
            "India"
           ],
           "legendgroup": "India",
           "marker": {
            "color": "#ff7f0e",
            "size": [
             0.27359374547839777
            ],
            "sizemode": "area",
            "sizeref": 0.00028055555555555554,
            "symbol": "circle"
           },
           "mode": "markers",
           "name": "India",
           "orientation": "v",
           "showlegend": true,
           "type": "scatter",
           "x": [
            91.6
           ],
           "xaxis": "x",
           "y": [
            114.352
           ],
           "yaxis": "y"
          },
          {
           "hovertemplate": "<b>%{hovertext}</b><br><br>country=Kenya<br>year=2000<br>Under-5 Mortality Rate=%{x}<br>Adolescent Fertility Rate=%{y}<br>Life Expectancy (Normalized)=%{marker.size}<extra></extra>",
           "hovertext": [
            "Kenya"
           ],
           "ids": [
            "Kenya"
           ],
           "legendgroup": "Kenya",
           "marker": {
            "color": "green",
            "size": [
             0.01
            ],
            "sizemode": "area",
            "sizeref": 0.00028055555555555554,
            "symbol": "circle"
           },
           "mode": "markers",
           "name": "Kenya",
           "orientation": "v",
           "showlegend": true,
           "type": "scatter",
           "x": [
            96.3
           ],
           "xaxis": "x",
           "y": [
            121.104
           ],
           "yaxis": "y"
          },
          {
           "hovertemplate": "<b>%{hovertext}</b><br><br>country=United Kingdom<br>year=2000<br>Under-5 Mortality Rate=%{x}<br>Adolescent Fertility Rate=%{y}<br>Life Expectancy (Normalized)=%{marker.size}<extra></extra>",
           "hovertext": [
            "United Kingdom"
           ],
           "ids": [
            "United Kingdom"
           ],
           "legendgroup": "United Kingdom",
           "marker": {
            "color": "red",
            "size": [
             0.8665299173330528
            ],
            "sizemode": "area",
            "sizeref": 0.00028055555555555554,
            "symbol": "circle"
           },
           "mode": "markers",
           "name": "United Kingdom",
           "orientation": "v",
           "showlegend": true,
           "type": "scatter",
           "x": [
            6.5
           ],
           "xaxis": "x",
           "y": [
            28.732
           ],
           "yaxis": "y"
          },
          {
           "hovertemplate": "<b>%{hovertext}</b><br><br>country=United States<br>year=2000<br>Under-5 Mortality Rate=%{x}<br>Adolescent Fertility Rate=%{y}<br>Life Expectancy (Normalized)=%{marker.size}<extra></extra>",
           "hovertext": [
            "United States"
           ],
           "ids": [
            "United States"
           ],
           "legendgroup": "United States",
           "marker": {
            "color": "#9467bd",
            "size": [
             0.8228331516653988
            ],
            "sizemode": "area",
            "sizeref": 0.00028055555555555554,
            "symbol": "circle"
           },
           "mode": "markers",
           "name": "United States",
           "orientation": "v",
           "showlegend": true,
           "type": "scatter",
           "x": [
            8.4
           ],
           "xaxis": "x",
           "y": [
            47.501
           ],
           "yaxis": "y"
          }
         ],
         "name": "2000"
        },
        {
         "data": [
          {
           "hovertemplate": "<b>%{hovertext}</b><br><br>country=Brazil<br>year=2001<br>Under-5 Mortality Rate=%{x}<br>Adolescent Fertility Rate=%{y}<br>Life Expectancy (Normalized)=%{marker.size}<extra></extra>",
           "hovertext": [
            "Brazil"
           ],
           "ids": [
            "Brazil"
           ],
           "legendgroup": "Brazil",
           "marker": {
            "color": "#1f77b4",
            "size": [
             0.5595721961242034
            ],
            "sizemode": "area",
            "sizeref": 0.00028055555555555554,
            "symbol": "circle"
           },
           "mode": "markers",
           "name": "Brazil",
           "orientation": "v",
           "showlegend": true,
           "type": "scatter",
           "x": [
            32.2
           ],
           "xaxis": "x",
           "y": [
            84.155
           ],
           "yaxis": "y"
          },
          {
           "hovertemplate": "<b>%{hovertext}</b><br><br>country=India<br>year=2001<br>Under-5 Mortality Rate=%{x}<br>Adolescent Fertility Rate=%{y}<br>Life Expectancy (Normalized)=%{marker.size}<extra></extra>",
           "hovertext": [
            "India"
           ],
           "ids": [
            "India"
           ],
           "legendgroup": "India",
           "marker": {
            "color": "#ff7f0e",
            "size": [
             0.2897692656435387
            ],
            "sizemode": "area",
            "sizeref": 0.00028055555555555554,
            "symbol": "circle"
           },
           "mode": "markers",
           "name": "India",
           "orientation": "v",
           "showlegend": true,
           "type": "scatter",
           "x": [
            88
           ],
           "xaxis": "x",
           "y": [
            112.043
           ],
           "yaxis": "y"
          },
          {
           "hovertemplate": "<b>%{hovertext}</b><br><br>country=Kenya<br>year=2001<br>Under-5 Mortality Rate=%{x}<br>Adolescent Fertility Rate=%{y}<br>Life Expectancy (Normalized)=%{marker.size}<extra></extra>",
           "hovertext": [
            "Kenya"
           ],
           "ids": [
            "Kenya"
           ],
           "legendgroup": "Kenya",
           "marker": {
            "color": "green",
            "size": [
             0.026491911757612965
            ],
            "sizemode": "area",
            "sizeref": 0.00028055555555555554,
            "symbol": "circle"
           },
           "mode": "markers",
           "name": "Kenya",
           "orientation": "v",
           "showlegend": true,
           "type": "scatter",
           "x": [
            91.6
           ],
           "xaxis": "x",
           "y": [
            123.253
           ],
           "yaxis": "y"
          },
          {
           "hovertemplate": "<b>%{hovertext}</b><br><br>country=United Kingdom<br>year=2001<br>Under-5 Mortality Rate=%{x}<br>Adolescent Fertility Rate=%{y}<br>Life Expectancy (Normalized)=%{marker.size}<extra></extra>",
           "hovertext": [
            "United Kingdom"
           ],
           "ids": [
            "United Kingdom"
           ],
           "legendgroup": "United Kingdom",
           "marker": {
            "color": "red",
            "size": [
             0.8764653850234901
            ],
            "sizemode": "area",
            "sizeref": 0.00028055555555555554,
            "symbol": "circle"
           },
           "mode": "markers",
           "name": "United Kingdom",
           "orientation": "v",
           "showlegend": true,
           "type": "scatter",
           "x": [
            6.4
           ],
           "xaxis": "x",
           "y": [
            27.051
           ],
           "yaxis": "y"
          },
          {
           "hovertemplate": "<b>%{hovertext}</b><br><br>country=United States<br>year=2001<br>Under-5 Mortality Rate=%{x}<br>Adolescent Fertility Rate=%{y}<br>Life Expectancy (Normalized)=%{marker.size}<extra></extra>",
           "hovertext": [
            "United States"
           ],
           "ids": [
            "United States"
           ],
           "legendgroup": "United States",
           "marker": {
            "color": "#9467bd",
            "size": [
             0.8307429414772033
            ],
            "sizemode": "area",
            "sizeref": 0.00028055555555555554,
            "symbol": "circle"
           },
           "mode": "markers",
           "name": "United States",
           "orientation": "v",
           "showlegend": true,
           "type": "scatter",
           "x": [
            8.3
           ],
           "xaxis": "x",
           "y": [
            44.958
           ],
           "yaxis": "y"
          }
         ],
         "name": "2001"
        },
        {
         "data": [
          {
           "hovertemplate": "<b>%{hovertext}</b><br><br>country=Brazil<br>year=2002<br>Under-5 Mortality Rate=%{x}<br>Adolescent Fertility Rate=%{y}<br>Life Expectancy (Normalized)=%{marker.size}<extra></extra>",
           "hovertext": [
            "Brazil"
           ],
           "ids": [
            "Brazil"
           ],
           "legendgroup": "Brazil",
           "marker": {
            "color": "#1f77b4",
            "size": [
             0.5760245589327575
            ],
            "sizemode": "area",
            "sizeref": 0.00028055555555555554,
            "symbol": "circle"
           },
           "mode": "markers",
           "name": "Brazil",
           "orientation": "v",
           "showlegend": true,
           "type": "scatter",
           "x": [
            30.1
           ],
           "xaxis": "x",
           "y": [
            81.131
           ],
           "yaxis": "y"
          },
          {
           "hovertemplate": "<b>%{hovertext}</b><br><br>country=India<br>year=2002<br>Under-5 Mortality Rate=%{x}<br>Adolescent Fertility Rate=%{y}<br>Life Expectancy (Normalized)=%{marker.size}<extra></extra>",
           "hovertext": [
            "India"
           ],
           "ids": [
            "India"
           ],
           "legendgroup": "India",
           "marker": {
            "color": "#ff7f0e",
            "size": [
             0.30918779963151966
            ],
            "sizemode": "area",
            "sizeref": 0.00028055555555555554,
            "symbol": "circle"
           },
           "mode": "markers",
           "name": "India",
           "orientation": "v",
           "showlegend": true,
           "type": "scatter",
           "x": [
            84.5
           ],
           "xaxis": "x",
           "y": [
            105.119
           ],
           "yaxis": "y"
          },
          {
           "hovertemplate": "<b>%{hovertext}</b><br><br>country=Kenya<br>year=2002<br>Under-5 Mortality Rate=%{x}<br>Adolescent Fertility Rate=%{y}<br>Life Expectancy (Normalized)=%{marker.size}<extra></extra>",
           "hovertext": [
            "Kenya"
           ],
           "ids": [
            "Kenya"
           ],
           "legendgroup": "Kenya",
           "marker": {
            "color": "green",
            "size": [
             0.03669554061484137
            ],
            "sizemode": "area",
            "sizeref": 0.00028055555555555554,
            "symbol": "circle"
           },
           "mode": "markers",
           "name": "Kenya",
           "orientation": "v",
           "showlegend": true,
           "type": "scatter",
           "x": [
            86.6
           ],
           "xaxis": "x",
           "y": [
            120.567
           ],
           "yaxis": "y"
          },
          {
           "hovertemplate": "<b>%{hovertext}</b><br><br>country=United Kingdom<br>year=2002<br>Under-5 Mortality Rate=%{x}<br>Adolescent Fertility Rate=%{y}<br>Life Expectancy (Normalized)=%{marker.size}<extra></extra>",
           "hovertext": [
            "United Kingdom"
           ],
           "ids": [
            "United Kingdom"
           ],
           "legendgroup": "United Kingdom",
           "marker": {
            "color": "red",
            "size": [
             0.8824459578080246
            ],
            "sizemode": "area",
            "sizeref": 0.00028055555555555554,
            "symbol": "circle"
           },
           "mode": "markers",
           "name": "United Kingdom",
           "orientation": "v",
           "showlegend": true,
           "type": "scatter",
           "x": [
            6.3
           ],
           "xaxis": "x",
           "y": [
            26.242
           ],
           "yaxis": "y"
          },
          {
           "hovertemplate": "<b>%{hovertext}</b><br><br>country=United States<br>year=2002<br>Under-5 Mortality Rate=%{x}<br>Adolescent Fertility Rate=%{y}<br>Life Expectancy (Normalized)=%{marker.size}<extra></extra>",
           "hovertext": [
            "United States"
           ],
           "ids": [
            "United States"
           ],
           "legendgroup": "United States",
           "marker": {
            "color": "#9467bd",
            "size": [
             0.8346978363831061
            ],
            "sizemode": "area",
            "sizeref": 0.00028055555555555554,
            "symbol": "circle"
           },
           "mode": "markers",
           "name": "United States",
           "orientation": "v",
           "showlegend": true,
           "type": "scatter",
           "x": [
            8.2
           ],
           "xaxis": "x",
           "y": [
            42.602
           ],
           "yaxis": "y"
          }
         ],
         "name": "2002"
        },
        {
         "data": [
          {
           "hovertemplate": "<b>%{hovertext}</b><br><br>country=Brazil<br>year=2003<br>Under-5 Mortality Rate=%{x}<br>Adolescent Fertility Rate=%{y}<br>Life Expectancy (Normalized)=%{marker.size}<extra></extra>",
           "hovertext": [
            "Brazil"
           ],
           "ids": [
            "Brazil"
           ],
           "legendgroup": "Brazil",
           "marker": {
            "color": "#1f77b4",
            "size": [
             0.5953244460735614
            ],
            "sizemode": "area",
            "sizeref": 0.00028055555555555554,
            "symbol": "circle"
           },
           "mode": "markers",
           "name": "Brazil",
           "orientation": "v",
           "showlegend": true,
           "type": "scatter",
           "x": [
            28.1
           ],
           "xaxis": "x",
           "y": [
            78.025
           ],
           "yaxis": "y"
          },
          {
           "hovertemplate": "<b>%{hovertext}</b><br><br>country=India<br>year=2003<br>Under-5 Mortality Rate=%{x}<br>Adolescent Fertility Rate=%{y}<br>Life Expectancy (Normalized)=%{marker.size}<extra></extra>",
           "hovertext": [
            "India"
           ],
           "ids": [
            "India"
           ],
           "legendgroup": "India",
           "marker": {
            "color": "#ff7f0e",
            "size": [
             0.32647069037031323
            ],
            "sizemode": "area",
            "sizeref": 0.00028055555555555554,
            "symbol": "circle"
           },
           "mode": "markers",
           "name": "India",
           "orientation": "v",
           "showlegend": true,
           "type": "scatter",
           "x": [
            81.1
           ],
           "xaxis": "x",
           "y": [
            97.366
           ],
           "yaxis": "y"
          },
          {
           "hovertemplate": "<b>%{hovertext}</b><br><br>country=Kenya<br>year=2003<br>Under-5 Mortality Rate=%{x}<br>Adolescent Fertility Rate=%{y}<br>Life Expectancy (Normalized)=%{marker.size}<extra></extra>",
           "hovertext": [
            "Kenya"
           ],
           "ids": [
            "Kenya"
           ],
           "legendgroup": "Kenya",
           "marker": {
            "color": "green",
            "size": [
             0.06082039954084625
            ],
            "sizemode": "area",
            "sizeref": 0.00028055555555555554,
            "symbol": "circle"
           },
           "mode": "markers",
           "name": "Kenya",
           "orientation": "v",
           "showlegend": true,
           "type": "scatter",
           "x": [
            81.6
           ],
           "xaxis": "x",
           "y": [
            119.028
           ],
           "yaxis": "y"
          },
          {
           "hovertemplate": "<b>%{hovertext}</b><br><br>country=United Kingdom<br>year=2003<br>Under-5 Mortality Rate=%{x}<br>Adolescent Fertility Rate=%{y}<br>Life Expectancy (Normalized)=%{marker.size}<extra></extra>",
           "hovertext": [
            "United Kingdom"
           ],
           "ids": [
            "United Kingdom"
           ],
           "legendgroup": "United Kingdom",
           "marker": {
            "color": "red",
            "size": [
             0.8944071033770935
            ],
            "sizemode": "area",
            "sizeref": 0.00028055555555555554,
            "symbol": "circle"
           },
           "mode": "markers",
           "name": "United Kingdom",
           "orientation": "v",
           "showlegend": true,
           "type": "scatter",
           "x": [
            6.3
           ],
           "xaxis": "x",
           "y": [
            26.859
           ],
           "yaxis": "y"
          },
          {
           "hovertemplate": "<b>%{hovertext}</b><br><br>country=United States<br>year=2003<br>Under-5 Mortality Rate=%{x}<br>Adolescent Fertility Rate=%{y}<br>Life Expectancy (Normalized)=%{marker.size}<extra></extra>",
           "hovertext": [
            "United States"
           ],
           "ids": [
            "United States"
           ],
           "legendgroup": "United States",
           "marker": {
            "color": "#9467bd",
            "size": [
             0.8386527312890083
            ],
            "sizemode": "area",
            "sizeref": 0.00028055555555555554,
            "symbol": "circle"
           },
           "mode": "markers",
           "name": "United States",
           "orientation": "v",
           "showlegend": true,
           "type": "scatter",
           "x": [
            8.1
           ],
           "xaxis": "x",
           "y": [
            40.987
           ],
           "yaxis": "y"
          }
         ],
         "name": "2003"
        },
        {
         "data": [
          {
           "hovertemplate": "<b>%{hovertext}</b><br><br>country=Brazil<br>year=2004<br>Under-5 Mortality Rate=%{x}<br>Adolescent Fertility Rate=%{y}<br>Life Expectancy (Normalized)=%{marker.size}<extra></extra>",
           "hovertext": [
            "Brazil"
           ],
           "ids": [
            "Brazil"
           ],
           "legendgroup": "Brazil",
           "marker": {
            "color": "#1f77b4",
            "size": [
             0.6141892947747162
            ],
            "sizemode": "area",
            "sizeref": 0.00028055555555555554,
            "symbol": "circle"
           },
           "mode": "markers",
           "name": "Brazil",
           "orientation": "v",
           "showlegend": true,
           "type": "scatter",
           "x": [
            26.3
           ],
           "xaxis": "x",
           "y": [
            76.9
           ],
           "yaxis": "y"
          },
          {
           "hovertemplate": "<b>%{hovertext}</b><br><br>country=India<br>year=2004<br>Under-5 Mortality Rate=%{x}<br>Adolescent Fertility Rate=%{y}<br>Life Expectancy (Normalized)=%{marker.size}<extra></extra>",
           "hovertext": [
            "India"
           ],
           "ids": [
            "India"
           ],
           "legendgroup": "India",
           "marker": {
            "color": "#ff7f0e",
            "size": [
             0.3422111720958048
            ],
            "sizemode": "area",
            "sizeref": 0.00028055555555555554,
            "symbol": "circle"
           },
           "mode": "markers",
           "name": "India",
           "orientation": "v",
           "showlegend": true,
           "type": "scatter",
           "x": [
            77.7
           ],
           "xaxis": "x",
           "y": [
            83.5
           ],
           "yaxis": "y"
          },
          {
           "hovertemplate": "<b>%{hovertext}</b><br><br>country=Kenya<br>year=2004<br>Under-5 Mortality Rate=%{x}<br>Adolescent Fertility Rate=%{y}<br>Life Expectancy (Normalized)=%{marker.size}<extra></extra>",
           "hovertext": [
            "Kenya"
           ],
           "ids": [
            "Kenya"
           ],
           "legendgroup": "Kenya",
           "marker": {
            "color": "green",
            "size": [
             0.08367969209696248
            ],
            "sizemode": "area",
            "sizeref": 0.00028055555555555554,
            "symbol": "circle"
           },
           "mode": "markers",
           "name": "Kenya",
           "orientation": "v",
           "showlegend": true,
           "type": "scatter",
           "x": [
            76.6
           ],
           "xaxis": "x",
           "y": [
            118.167
           ],
           "yaxis": "y"
          },
          {
           "hovertemplate": "<b>%{hovertext}</b><br><br>country=United Kingdom<br>year=2004<br>Under-5 Mortality Rate=%{x}<br>Adolescent Fertility Rate=%{y}<br>Life Expectancy (Normalized)=%{marker.size}<extra></extra>",
           "hovertext": [
            "United Kingdom"
           ],
           "ids": [
            "United Kingdom"
           ],
           "legendgroup": "United Kingdom",
           "marker": {
            "color": "red",
            "size": [
             0.9062717880948007
            ],
            "sizemode": "area",
            "sizeref": 0.00028055555555555554,
            "symbol": "circle"
           },
           "mode": "markers",
           "name": "United Kingdom",
           "orientation": "v",
           "showlegend": true,
           "type": "scatter",
           "x": [
            6.1
           ],
           "xaxis": "x",
           "y": [
            27.278
           ],
           "yaxis": "y"
          },
          {
           "hovertemplate": "<b>%{hovertext}</b><br><br>country=United States<br>year=2004<br>Under-5 Mortality Rate=%{x}<br>Adolescent Fertility Rate=%{y}<br>Life Expectancy (Normalized)=%{marker.size}<extra></extra>",
           "hovertext": [
            "United States"
           ],
           "ids": [
            "United States"
           ],
           "legendgroup": "United States",
           "marker": {
            "color": "#9467bd",
            "size": [
             0.8564979887912505
            ],
            "sizemode": "area",
            "sizeref": 0.00028055555555555554,
            "symbol": "circle"
           },
           "mode": "markers",
           "name": "United States",
           "orientation": "v",
           "showlegend": true,
           "type": "scatter",
           "x": [
            8.1
           ],
           "xaxis": "x",
           "y": [
            40.173
           ],
           "yaxis": "y"
          }
         ],
         "name": "2004"
        },
        {
         "data": [
          {
           "hovertemplate": "<b>%{hovertext}</b><br><br>country=Brazil<br>year=2005<br>Under-5 Mortality Rate=%{x}<br>Adolescent Fertility Rate=%{y}<br>Life Expectancy (Normalized)=%{marker.size}<extra></extra>",
           "hovertext": [
            "Brazil"
           ],
           "ids": [
            "Brazil"
           ],
           "legendgroup": "Brazil",
           "marker": {
            "color": "#1f77b4",
            "size": [
             0.6328168497815162
            ],
            "sizemode": "area",
            "sizeref": 0.00028055555555555554,
            "symbol": "circle"
           },
           "mode": "markers",
           "name": "Brazil",
           "orientation": "v",
           "showlegend": true,
           "type": "scatter",
           "x": [
            24.6
           ],
           "xaxis": "x",
           "y": [
            75.968
           ],
           "yaxis": "y"
          },
          {
           "hovertemplate": "<b>%{hovertext}</b><br><br>country=India<br>year=2005<br>Under-5 Mortality Rate=%{x}<br>Adolescent Fertility Rate=%{y}<br>Life Expectancy (Normalized)=%{marker.size}<extra></extra>",
           "hovertext": [
            "India"
           ],
           "ids": [
            "India"
           ],
           "legendgroup": "India",
           "marker": {
            "color": "#ff7f0e",
            "size": [
             0.36020594391766086
            ],
            "sizemode": "area",
            "sizeref": 0.00028055555555555554,
            "symbol": "circle"
           },
           "mode": "markers",
           "name": "India",
           "orientation": "v",
           "showlegend": true,
           "type": "scatter",
           "x": [
            74.4
           ],
           "xaxis": "x",
           "y": [
            64.678
           ],
           "yaxis": "y"
          },
          {
           "hovertemplate": "<b>%{hovertext}</b><br><br>country=Kenya<br>year=2005<br>Under-5 Mortality Rate=%{x}<br>Adolescent Fertility Rate=%{y}<br>Life Expectancy (Normalized)=%{marker.size}<extra></extra>",
           "hovertext": [
            "Kenya"
           ],
           "ids": [
            "Kenya"
           ],
           "legendgroup": "Kenya",
           "marker": {
            "color": "green",
            "size": [
             0.10594575041719304
            ],
            "sizemode": "area",
            "sizeref": 0.00028055555555555554,
            "symbol": "circle"
           },
           "mode": "markers",
           "name": "Kenya",
           "orientation": "v",
           "showlegend": true,
           "type": "scatter",
           "x": [
            71.5
           ],
           "xaxis": "x",
           "y": [
            115.294
           ],
           "yaxis": "y"
          },
          {
           "hovertemplate": "<b>%{hovertext}</b><br><br>country=United Kingdom<br>year=2005<br>Under-5 Mortality Rate=%{x}<br>Adolescent Fertility Rate=%{y}<br>Life Expectancy (Normalized)=%{marker.size}<extra></extra>",
           "hovertext": [
            "United Kingdom"
           ],
           "ids": [
            "United Kingdom"
           ],
           "legendgroup": "United Kingdom",
           "marker": {
            "color": "red",
            "size": [
             0.918232933663874
            ],
            "sizemode": "area",
            "sizeref": 0.00028055555555555554,
            "symbol": "circle"
           },
           "mode": "markers",
           "name": "United Kingdom",
           "orientation": "v",
           "showlegend": true,
           "type": "scatter",
           "x": [
            6
           ],
           "xaxis": "x",
           "y": [
            26.542
           ],
           "yaxis": "y"
          },
          {
           "hovertemplate": "<b>%{hovertext}</b><br><br>country=United States<br>year=2005<br>Under-5 Mortality Rate=%{x}<br>Adolescent Fertility Rate=%{y}<br>Life Expectancy (Normalized)=%{marker.size}<extra></extra>",
           "hovertext": [
            "United States"
           ],
           "ids": [
            "United States"
           ],
           "legendgroup": "United States",
           "marker": {
            "color": "#9467bd",
            "size": [
             0.8564979887912505
            ],
            "sizemode": "area",
            "sizeref": 0.00028055555555555554,
            "symbol": "circle"
           },
           "mode": "markers",
           "name": "United States",
           "orientation": "v",
           "showlegend": true,
           "type": "scatter",
           "x": [
            8
           ],
           "xaxis": "x",
           "y": [
            39.473
           ],
           "yaxis": "y"
          }
         ],
         "name": "2005"
        },
        {
         "data": [
          {
           "hovertemplate": "<b>%{hovertext}</b><br><br>country=Brazil<br>year=2006<br>Under-5 Mortality Rate=%{x}<br>Adolescent Fertility Rate=%{y}<br>Life Expectancy (Normalized)=%{marker.size}<extra></extra>",
           "hovertext": [
            "Brazil"
           ],
           "ids": [
            "Brazil"
           ],
           "legendgroup": "Brazil",
           "marker": {
            "color": "#1f77b4",
            "size": [
             0.6511675621449041
            ],
            "sizemode": "area",
            "sizeref": 0.00028055555555555554,
            "symbol": "circle"
           },
           "mode": "markers",
           "name": "Brazil",
           "orientation": "v",
           "showlegend": true,
           "type": "scatter",
           "x": [
            23.1
           ],
           "xaxis": "x",
           "y": [
            73.845
           ],
           "yaxis": "y"
          },
          {
           "hovertemplate": "<b>%{hovertext}</b><br><br>country=India<br>year=2006<br>Under-5 Mortality Rate=%{x}<br>Adolescent Fertility Rate=%{y}<br>Life Expectancy (Normalized)=%{marker.size}<extra></extra>",
           "hovertext": [
            "India"
           ],
           "ids": [
            "India"
           ],
           "legendgroup": "India",
           "marker": {
            "color": "#ff7f0e",
            "size": [
             0.37737018780927795
            ],
            "sizemode": "area",
            "sizeref": 0.00028055555555555554,
            "symbol": "circle"
           },
           "mode": "markers",
           "name": "India",
           "orientation": "v",
           "showlegend": true,
           "type": "scatter",
           "x": [
            71.1
           ],
           "xaxis": "x",
           "y": [
            55.76
           ],
           "yaxis": "y"
          },
          {
           "hovertemplate": "<b>%{hovertext}</b><br><br>country=Kenya<br>year=2006<br>Under-5 Mortality Rate=%{x}<br>Adolescent Fertility Rate=%{y}<br>Life Expectancy (Normalized)=%{marker.size}<extra></extra>",
           "hovertext": [
            "Kenya"
           ],
           "ids": [
            "Kenya"
           ],
           "legendgroup": "Kenya",
           "marker": {
            "color": "green",
            "size": [
             0.12765812345059743
            ],
            "sizemode": "area",
            "sizeref": 0.00028055555555555554,
            "symbol": "circle"
           },
           "mode": "markers",
           "name": "Kenya",
           "orientation": "v",
           "showlegend": true,
           "type": "scatter",
           "x": [
            67.1
           ],
           "xaxis": "x",
           "y": [
            112.795
           ],
           "yaxis": "y"
          },
          {
           "hovertemplate": "<b>%{hovertext}</b><br><br>country=United Kingdom<br>year=2006<br>Under-5 Mortality Rate=%{x}<br>Adolescent Fertility Rate=%{y}<br>Life Expectancy (Normalized)=%{marker.size}<extra></extra>",
           "hovertext": [
            "United Kingdom"
           ],
           "ids": [
            "United Kingdom"
           ],
           "legendgroup": "United Kingdom",
           "marker": {
            "color": "red",
            "size": [
             0.9261427234756785
            ],
            "sizemode": "area",
            "sizeref": 0.00028055555555555554,
            "symbol": "circle"
           },
           "mode": "markers",
           "name": "United Kingdom",
           "orientation": "v",
           "showlegend": true,
           "type": "scatter",
           "x": [
            5.9
           ],
           "xaxis": "x",
           "y": [
            26.008
           ],
           "yaxis": "y"
          },
          {
           "hovertemplate": "<b>%{hovertext}</b><br><br>country=United States<br>year=2006<br>Under-5 Mortality Rate=%{x}<br>Adolescent Fertility Rate=%{y}<br>Life Expectancy (Normalized)=%{marker.size}<extra></extra>",
           "hovertext": [
            "United States"
           ],
           "ids": [
            "United States"
           ],
           "legendgroup": "United States",
           "marker": {
            "color": "#9467bd",
            "size": [
             0.864407778603055
            ],
            "sizemode": "area",
            "sizeref": 0.00028055555555555554,
            "symbol": "circle"
           },
           "mode": "markers",
           "name": "United States",
           "orientation": "v",
           "showlegend": true,
           "type": "scatter",
           "x": [
            7.9
           ],
           "xaxis": "x",
           "y": [
            40.349
           ],
           "yaxis": "y"
          }
         ],
         "name": "2006"
        },
        {
         "data": [
          {
           "hovertemplate": "<b>%{hovertext}</b><br><br>country=Brazil<br>year=2007<br>Under-5 Mortality Rate=%{x}<br>Adolescent Fertility Rate=%{y}<br>Life Expectancy (Normalized)=%{marker.size}<extra></extra>",
           "hovertext": [
            "Brazil"
           ],
           "ids": [
            "Brazil"
           ],
           "legendgroup": "Brazil",
           "marker": {
            "color": "#1f77b4",
            "size": [
             0.6683318060365205
            ],
            "sizemode": "area",
            "sizeref": 0.00028055555555555554,
            "symbol": "circle"
           },
           "mode": "markers",
           "name": "Brazil",
           "orientation": "v",
           "showlegend": true,
           "type": "scatter",
           "x": [
            21.7
           ],
           "xaxis": "x",
           "y": [
            71.698
           ],
           "yaxis": "y"
          },
          {
           "hovertemplate": "<b>%{hovertext}</b><br><br>country=India<br>year=2007<br>Under-5 Mortality Rate=%{x}<br>Adolescent Fertility Rate=%{y}<br>Life Expectancy (Normalized)=%{marker.size}<extra></extra>",
           "hovertext": [
            "India"
           ],
           "ids": [
            "India"
           ],
           "legendgroup": "India",
           "marker": {
            "color": "#ff7f0e",
            "size": [
             0.39437623590465815
            ],
            "sizemode": "area",
            "sizeref": 0.00028055555555555554,
            "symbol": "circle"
           },
           "mode": "markers",
           "name": "India",
           "orientation": "v",
           "showlegend": true,
           "type": "scatter",
           "x": [
            67.9
           ],
           "xaxis": "x",
           "y": [
            51.987
           ],
           "yaxis": "y"
          },
          {
           "hovertemplate": "<b>%{hovertext}</b><br><br>country=Kenya<br>year=2007<br>Under-5 Mortality Rate=%{x}<br>Adolescent Fertility Rate=%{y}<br>Life Expectancy (Normalized)=%{marker.size}<extra></extra>",
           "hovertext": [
            "Kenya"
           ],
           "ids": [
            "Kenya"
           ],
           "legendgroup": "Kenya",
           "marker": {
            "color": "green",
            "size": [
             0.1414211577231379
            ],
            "sizemode": "area",
            "sizeref": 0.00028055555555555554,
            "symbol": "circle"
           },
           "mode": "markers",
           "name": "Kenya",
           "orientation": "v",
           "showlegend": true,
           "type": "scatter",
           "x": [
            63.2
           ],
           "xaxis": "x",
           "y": [
            113.472
           ],
           "yaxis": "y"
          },
          {
           "hovertemplate": "<b>%{hovertext}</b><br><br>country=United Kingdom<br>year=2007<br>Under-5 Mortality Rate=%{x}<br>Adolescent Fertility Rate=%{y}<br>Life Expectancy (Normalized)=%{marker.size}<extra></extra>",
           "hovertext": [
            "United Kingdom"
           ],
           "ids": [
            "United Kingdom"
           ],
           "legendgroup": "United Kingdom",
           "marker": {
            "color": "red",
            "size": [
             0.9340525132874835
            ],
            "sizemode": "area",
            "sizeref": 0.00028055555555555554,
            "symbol": "circle"
           },
           "mode": "markers",
           "name": "United Kingdom",
           "orientation": "v",
           "showlegend": true,
           "type": "scatter",
           "x": [
            5.8
           ],
           "xaxis": "x",
           "y": [
            25.276
           ],
           "yaxis": "y"
          },
          {
           "hovertemplate": "<b>%{hovertext}</b><br><br>country=United States<br>year=2007<br>Under-5 Mortality Rate=%{x}<br>Adolescent Fertility Rate=%{y}<br>Life Expectancy (Normalized)=%{marker.size}<extra></extra>",
           "hovertext": [
            "United States"
           ],
           "ids": [
            "United States"
           ],
           "legendgroup": "United States",
           "marker": {
            "color": "#9467bd",
            "size": [
             0.8762724633207628
            ],
            "sizemode": "area",
            "sizeref": 0.00028055555555555554,
            "symbol": "circle"
           },
           "mode": "markers",
           "name": "United States",
           "orientation": "v",
           "showlegend": true,
           "type": "scatter",
           "x": [
            7.7
           ],
           "xaxis": "x",
           "y": [
            40.808
           ],
           "yaxis": "y"
          }
         ],
         "name": "2007"
        },
        {
         "data": [
          {
           "hovertemplate": "<b>%{hovertext}</b><br><br>country=Brazil<br>year=2008<br>Under-5 Mortality Rate=%{x}<br>Adolescent Fertility Rate=%{y}<br>Life Expectancy (Normalized)=%{marker.size}<extra></extra>",
           "hovertext": [
            "Brazil"
           ],
           "ids": [
            "Brazil"
           ],
           "legendgroup": "Brazil",
           "marker": {
            "color": "#1f77b4",
            "size": [
             0.6833999556280089
            ],
            "sizemode": "area",
            "sizeref": 0.00028055555555555554,
            "symbol": "circle"
           },
           "mode": "markers",
           "name": "Brazil",
           "orientation": "v",
           "showlegend": true,
           "type": "scatter",
           "x": [
            20.5
           ],
           "xaxis": "x",
           "y": [
            69.141
           ],
           "yaxis": "y"
          },
          {
           "hovertemplate": "<b>%{hovertext}</b><br><br>country=India<br>year=2008<br>Under-5 Mortality Rate=%{x}<br>Adolescent Fertility Rate=%{y}<br>Life Expectancy (Normalized)=%{marker.size}<extra></extra>",
           "hovertext": [
            "India"
           ],
           "ids": [
            "India"
           ],
           "legendgroup": "India",
           "marker": {
            "color": "#ff7f0e",
            "size": [
             0.4119359692868651
            ],
            "sizemode": "area",
            "sizeref": 0.00028055555555555554,
            "symbol": "circle"
           },
           "mode": "markers",
           "name": "India",
           "orientation": "v",
           "showlegend": true,
           "type": "scatter",
           "x": [
            64.6
           ],
           "xaxis": "x",
           "y": [
            54.289
           ],
           "yaxis": "y"
          },
          {
           "hovertemplate": "<b>%{hovertext}</b><br><br>country=Kenya<br>year=2008<br>Under-5 Mortality Rate=%{x}<br>Adolescent Fertility Rate=%{y}<br>Life Expectancy (Normalized)=%{marker.size}<extra></extra>",
           "hovertext": [
            "Kenya"
           ],
           "ids": [
            "Kenya"
           ],
           "legendgroup": "Kenya",
           "marker": {
            "color": "green",
            "size": [
             0.16309398180748336
            ],
            "sizemode": "area",
            "sizeref": 0.00028055555555555554,
            "symbol": "circle"
           },
           "mode": "markers",
           "name": "Kenya",
           "orientation": "v",
           "showlegend": true,
           "type": "scatter",
           "x": [
            58.2
           ],
           "xaxis": "x",
           "y": [
            112.227
           ],
           "yaxis": "y"
          },
          {
           "hovertemplate": "<b>%{hovertext}</b><br><br>country=United Kingdom<br>year=2008<br>Under-5 Mortality Rate=%{x}<br>Adolescent Fertility Rate=%{y}<br>Life Expectancy (Normalized)=%{marker.size}<extra></extra>",
           "hovertext": [
            "United Kingdom"
           ],
           "ids": [
            "United Kingdom"
           ],
           "legendgroup": "United Kingdom",
           "marker": {
            "color": "red",
            "size": [
             0.940033086072018
            ],
            "sizemode": "area",
            "sizeref": 0.00028055555555555554,
            "symbol": "circle"
           },
           "mode": "markers",
           "name": "United Kingdom",
           "orientation": "v",
           "showlegend": true,
           "type": "scatter",
           "x": [
            5.6
           ],
           "xaxis": "x",
           "y": [
            25.31
           ],
           "yaxis": "y"
          },
          {
           "hovertemplate": "<b>%{hovertext}</b><br><br>country=United States<br>year=2008<br>Under-5 Mortality Rate=%{x}<br>Adolescent Fertility Rate=%{y}<br>Life Expectancy (Normalized)=%{marker.size}<extra></extra>",
           "hovertext": [
            "United States"
           ],
           "ids": [
            "United States"
           ],
           "legendgroup": "United States",
           "marker": {
            "color": "#9467bd",
            "size": [
             0.8782981411993944
            ],
            "sizemode": "area",
            "sizeref": 0.00028055555555555554,
            "symbol": "circle"
           },
           "mode": "markers",
           "name": "United States",
           "orientation": "v",
           "showlegend": true,
           "type": "scatter",
           "x": [
            7.6
           ],
           "xaxis": "x",
           "y": [
            40.059
           ],
           "yaxis": "y"
          }
         ],
         "name": "2008"
        },
        {
         "data": [
          {
           "hovertemplate": "<b>%{hovertext}</b><br><br>country=Brazil<br>year=2009<br>Under-5 Mortality Rate=%{x}<br>Adolescent Fertility Rate=%{y}<br>Life Expectancy (Normalized)=%{marker.size}<extra></extra>",
           "hovertext": [
            "Brazil"
           ],
           "ids": [
            "Brazil"
           ],
           "legendgroup": "Brazil",
           "marker": {
            "color": "#1f77b4",
            "size": [
             0.6970838920024309
            ],
            "sizemode": "area",
            "sizeref": 0.00028055555555555554,
            "symbol": "circle"
           },
           "mode": "markers",
           "name": "Brazil",
           "orientation": "v",
           "showlegend": true,
           "type": "scatter",
           "x": [
            19.5
           ],
           "xaxis": "x",
           "y": [
            67.334
           ],
           "yaxis": "y"
          },
          {
           "hovertemplate": "<b>%{hovertext}</b><br><br>country=India<br>year=2009<br>Under-5 Mortality Rate=%{x}<br>Adolescent Fertility Rate=%{y}<br>Life Expectancy (Normalized)=%{marker.size}<extra></extra>",
           "hovertext": [
            "India"
           ],
           "ids": [
            "India"
           ],
           "legendgroup": "India",
           "marker": {
            "color": "#ff7f0e",
            "size": [
             0.42985164321060326
            ],
            "sizemode": "area",
            "sizeref": 0.00028055555555555554,
            "symbol": "circle"
           },
           "mode": "markers",
           "name": "India",
           "orientation": "v",
           "showlegend": true,
           "type": "scatter",
           "x": [
            61.4
           ],
           "xaxis": "x",
           "y": [
            46.696
           ],
           "yaxis": "y"
          },
          {
           "hovertemplate": "<b>%{hovertext}</b><br><br>country=Kenya<br>year=2009<br>Under-5 Mortality Rate=%{x}<br>Adolescent Fertility Rate=%{y}<br>Life Expectancy (Normalized)=%{marker.size}<extra></extra>",
           "hovertext": [
            "Kenya"
           ],
           "ids": [
            "Kenya"
           ],
           "legendgroup": "Kenya",
           "marker": {
            "color": "green",
            "size": [
             0.1839758269106482
            ],
            "sizemode": "area",
            "sizeref": 0.00028055555555555554,
            "symbol": "circle"
           },
           "mode": "markers",
           "name": "Kenya",
           "orientation": "v",
           "showlegend": true,
           "type": "scatter",
           "x": [
            55.4
           ],
           "xaxis": "x",
           "y": [
            110.195
           ],
           "yaxis": "y"
          },
          {
           "hovertemplate": "<b>%{hovertext}</b><br><br>country=United Kingdom<br>year=2009<br>Under-5 Mortality Rate=%{x}<br>Adolescent Fertility Rate=%{y}<br>Life Expectancy (Normalized)=%{marker.size}<extra></extra>",
           "hovertext": [
            "United Kingdom"
           ],
           "ids": [
            "United Kingdom"
           ],
           "legendgroup": "United Kingdom",
           "marker": {
            "color": "red",
            "size": [
             0.9578783435742602
            ],
            "sizemode": "area",
            "sizeref": 0.00028055555555555554,
            "symbol": "circle"
           },
           "mode": "markers",
           "name": "United Kingdom",
           "orientation": "v",
           "showlegend": true,
           "type": "scatter",
           "x": [
            5.4
           ],
           "xaxis": "x",
           "y": [
            24.826
           ],
           "yaxis": "y"
          },
          {
           "hovertemplate": "<b>%{hovertext}</b><br><br>country=United States<br>year=2009<br>Under-5 Mortality Rate=%{x}<br>Adolescent Fertility Rate=%{y}<br>Life Expectancy (Normalized)=%{marker.size}<extra></extra>",
           "hovertext": [
            "United States"
           ],
           "ids": [
            "United States"
           ],
           "legendgroup": "United States",
           "marker": {
            "color": "#9467bd",
            "size": [
             0.8921885037957339
            ],
            "sizemode": "area",
            "sizeref": 0.00028055555555555554,
            "symbol": "circle"
           },
           "mode": "markers",
           "name": "United States",
           "orientation": "v",
           "showlegend": true,
           "type": "scatter",
           "x": [
            7.5
           ],
           "xaxis": "x",
           "y": [
            38.137
           ],
           "yaxis": "y"
          }
         ],
         "name": "2009"
        },
        {
         "data": [
          {
           "hovertemplate": "<b>%{hovertext}</b><br><br>country=Brazil<br>year=2010<br>Under-5 Mortality Rate=%{x}<br>Adolescent Fertility Rate=%{y}<br>Life Expectancy (Normalized)=%{marker.size}<extra></extra>",
           "hovertext": [
            "Brazil"
           ],
           "ids": [
            "Brazil"
           ],
           "legendgroup": "Brazil",
           "marker": {
            "color": "#1f77b4",
            "size": [
             0.7098186535994369
            ],
            "sizemode": "area",
            "sizeref": 0.00028055555555555554,
            "symbol": "circle"
           },
           "mode": "markers",
           "name": "Brazil",
           "orientation": "v",
           "showlegend": true,
           "type": "scatter",
           "x": [
            18.6
           ],
           "xaxis": "x",
           "y": [
            65.474
           ],
           "yaxis": "y"
          },
          {
           "hovertemplate": "<b>%{hovertext}</b><br><br>country=India<br>year=2010<br>Under-5 Mortality Rate=%{x}<br>Adolescent Fertility Rate=%{y}<br>Life Expectancy (Normalized)=%{marker.size}<extra></extra>",
           "hovertext": [
            "India"
           ],
           "ids": [
            "India"
           ],
           "legendgroup": "India",
           "marker": {
            "color": "#ff7f0e",
            "size": [
             0.4481232576758727
            ],
            "sizemode": "area",
            "sizeref": 0.00028055555555555554,
            "symbol": "circle"
           },
           "mode": "markers",
           "name": "India",
           "orientation": "v",
           "showlegend": true,
           "type": "scatter",
           "x": [
            58.2
           ],
           "xaxis": "x",
           "y": [
            41.719
           ],
           "yaxis": "y"
          },
          {
           "hovertemplate": "<b>%{hovertext}</b><br><br>country=Kenya<br>year=2010<br>Under-5 Mortality Rate=%{x}<br>Adolescent Fertility Rate=%{y}<br>Life Expectancy (Normalized)=%{marker.size}<extra></extra>",
           "hovertext": [
            "Kenya"
           ],
           "ids": [
            "Kenya"
           ],
           "legendgroup": "Kenya",
           "marker": {
            "color": "green",
            "size": [
             0.20106097290414685
            ],
            "sizemode": "area",
            "sizeref": 0.00028055555555555554,
            "symbol": "circle"
           },
           "mode": "markers",
           "name": "Kenya",
           "orientation": "v",
           "showlegend": true,
           "type": "scatter",
           "x": [
            53.5
           ],
           "xaxis": "x",
           "y": [
            108.691
           ],
           "yaxis": "y"
          },
          {
           "hovertemplate": "<b>%{hovertext}</b><br><br>country=United Kingdom<br>year=2010<br>Under-5 Mortality Rate=%{x}<br>Adolescent Fertility Rate=%{y}<br>Life Expectancy (Normalized)=%{marker.size}<extra></extra>",
           "hovertext": [
            "United Kingdom"
           ],
           "ids": [
            "United Kingdom"
           ],
           "legendgroup": "United Kingdom",
           "marker": {
            "color": "red",
            "size": [
             0.9717687061705996
            ],
            "sizemode": "area",
            "sizeref": 0.00028055555555555554,
            "symbol": "circle"
           },
           "mode": "markers",
           "name": "United Kingdom",
           "orientation": "v",
           "showlegend": true,
           "type": "scatter",
           "x": [
            5.2
           ],
           "xaxis": "x",
           "y": [
            23.648
           ],
           "yaxis": "y"
          },
          {
           "hovertemplate": "<b>%{hovertext}</b><br><br>country=United States<br>year=2010<br>Under-5 Mortality Rate=%{x}<br>Adolescent Fertility Rate=%{y}<br>Life Expectancy (Normalized)=%{marker.size}<extra></extra>",
           "hovertext": [
            "United States"
           ],
           "ids": [
            "United States"
           ],
           "legendgroup": "United States",
           "marker": {
            "color": "#9467bd",
            "size": [
             0.8981690765802722
            ],
            "sizemode": "area",
            "sizeref": 0.00028055555555555554,
            "symbol": "circle"
           },
           "mode": "markers",
           "name": "United States",
           "orientation": "v",
           "showlegend": true,
           "type": "scatter",
           "x": [
            7.3
           ],
           "xaxis": "x",
           "y": [
            34.856
           ],
           "yaxis": "y"
          }
         ],
         "name": "2010"
        },
        {
         "data": [
          {
           "hovertemplate": "<b>%{hovertext}</b><br><br>country=Brazil<br>year=2011<br>Under-5 Mortality Rate=%{x}<br>Adolescent Fertility Rate=%{y}<br>Life Expectancy (Normalized)=%{marker.size}<extra></extra>",
           "hovertext": [
            "Brazil"
           ],
           "ids": [
            "Brazil"
           ],
           "legendgroup": "Brazil",
           "marker": {
            "color": "#1f77b4",
            "size": [
             0.7204177719472554
            ],
            "sizemode": "area",
            "sizeref": 0.00028055555555555554,
            "symbol": "circle"
           },
           "mode": "markers",
           "name": "Brazil",
           "orientation": "v",
           "showlegend": true,
           "type": "scatter",
           "x": [
            17.9
           ],
           "xaxis": "x",
           "y": [
            64.773
           ],
           "yaxis": "y"
          },
          {
           "hovertemplate": "<b>%{hovertext}</b><br><br>country=India<br>year=2011<br>Under-5 Mortality Rate=%{x}<br>Adolescent Fertility Rate=%{y}<br>Life Expectancy (Normalized)=%{marker.size}<extra></extra>",
           "hovertext": [
            "India"
           ],
           "ids": [
            "India"
           ],
           "legendgroup": "India",
           "marker": {
            "color": "#ff7f0e",
            "size": [
             0.4663553231920829
            ],
            "sizemode": "area",
            "sizeref": 0.00028055555555555554,
            "symbol": "circle"
           },
           "mode": "markers",
           "name": "India",
           "orientation": "v",
           "showlegend": true,
           "type": "scatter",
           "x": [
            55
           ],
           "xaxis": "x",
           "y": [
            40.795
           ],
           "yaxis": "y"
          },
          {
           "hovertemplate": "<b>%{hovertext}</b><br><br>country=Kenya<br>year=2011<br>Under-5 Mortality Rate=%{x}<br>Adolescent Fertility Rate=%{y}<br>Life Expectancy (Normalized)=%{marker.size}<extra></extra>",
           "hovertext": [
            "Kenya"
           ],
           "ids": [
            "Kenya"
           ],
           "legendgroup": "Kenya",
           "marker": {
            "color": "green",
            "size": [
             0.2156149861578679
            ],
            "sizemode": "area",
            "sizeref": 0.00028055555555555554,
            "symbol": "circle"
           },
           "mode": "markers",
           "name": "Kenya",
           "orientation": "v",
           "showlegend": true,
           "type": "scatter",
           "x": [
            52.2
           ],
           "xaxis": "x",
           "y": [
            104.615
           ],
           "yaxis": "y"
          },
          {
           "hovertemplate": "<b>%{hovertext}</b><br><br>country=United Kingdom<br>year=2011<br>Under-5 Mortality Rate=%{x}<br>Adolescent Fertility Rate=%{y}<br>Life Expectancy (Normalized)=%{marker.size}<extra></extra>",
           "hovertext": [
            "United Kingdom"
           ],
           "ids": [
            "United Kingdom"
           ],
           "legendgroup": "United Kingdom",
           "marker": {
            "color": "red",
            "size": [
             0.9934723977273818
            ],
            "sizemode": "area",
            "sizeref": 0.00028055555555555554,
            "symbol": "circle"
           },
           "mode": "markers",
           "name": "United Kingdom",
           "orientation": "v",
           "showlegend": true,
           "type": "scatter",
           "x": [
            5
           ],
           "xaxis": "x",
           "y": [
            21.728
           ],
           "yaxis": "y"
          },
          {
           "hovertemplate": "<b>%{hovertext}</b><br><br>country=United States<br>year=2011<br>Under-5 Mortality Rate=%{x}<br>Adolescent Fertility Rate=%{y}<br>Life Expectancy (Normalized)=%{marker.size}<extra></extra>",
           "hovertext": [
            "United States"
           ],
           "ids": [
            "United States"
           ],
           "legendgroup": "United States",
           "marker": {
            "color": "#9467bd",
            "size": [
             0.9021239714861712
            ],
            "sizemode": "area",
            "sizeref": 0.00028055555555555554,
            "symbol": "circle"
           },
           "mode": "markers",
           "name": "United States",
           "orientation": "v",
           "showlegend": true,
           "type": "scatter",
           "x": [
            7.2
           ],
           "xaxis": "x",
           "y": [
            31.723
           ],
           "yaxis": "y"
          }
         ],
         "name": "2011"
        },
        {
         "data": [
          {
           "hovertemplate": "<b>%{hovertext}</b><br><br>country=Brazil<br>year=2012<br>Under-5 Mortality Rate=%{x}<br>Adolescent Fertility Rate=%{y}<br>Life Expectancy (Normalized)=%{marker.size}<extra></extra>",
           "hovertext": [
            "Brazil"
           ],
           "ids": [
            "Brazil"
           ],
           "legendgroup": "Brazil",
           "marker": {
            "color": "#1f77b4",
            "size": [
             0.7318078692762544
            ],
            "sizemode": "area",
            "sizeref": 0.00028055555555555554,
            "symbol": "circle"
           },
           "mode": "markers",
           "name": "Brazil",
           "orientation": "v",
           "showlegend": true,
           "type": "scatter",
           "x": [
            17.2
           ],
           "xaxis": "x",
           "y": [
            64.285
           ],
           "yaxis": "y"
          },
          {
           "hovertemplate": "<b>%{hovertext}</b><br><br>country=India<br>year=2012<br>Under-5 Mortality Rate=%{x}<br>Adolescent Fertility Rate=%{y}<br>Life Expectancy (Normalized)=%{marker.size}<extra></extra>",
           "hovertext": [
            "India"
           ],
           "ids": [
            "India"
           ],
           "legendgroup": "India",
           "marker": {
            "color": "#ff7f0e",
            "size": [
             0.4842709971158205
            ],
            "sizemode": "area",
            "sizeref": 0.00028055555555555554,
            "symbol": "circle"
           },
           "mode": "markers",
           "name": "India",
           "orientation": "v",
           "showlegend": true,
           "type": "scatter",
           "x": [
            52
           ],
           "xaxis": "x",
           "y": [
            39.533
           ],
           "yaxis": "y"
          },
          {
           "hovertemplate": "<b>%{hovertext}</b><br><br>country=Kenya<br>year=2012<br>Under-5 Mortality Rate=%{x}<br>Adolescent Fertility Rate=%{y}<br>Life Expectancy (Normalized)=%{marker.size}<extra></extra>",
           "hovertext": [
            "Kenya"
           ],
           "ids": [
            "Kenya"
           ],
           "legendgroup": "Kenya",
           "marker": {
            "color": "green",
            "size": [
             0.22566041921886001
            ],
            "sizemode": "area",
            "sizeref": 0.00028055555555555554,
            "symbol": "circle"
           },
           "mode": "markers",
           "name": "Kenya",
           "orientation": "v",
           "showlegend": true,
           "type": "scatter",
           "x": [
            51.2
           ],
           "xaxis": "x",
           "y": [
            100.219
           ],
           "yaxis": "y"
          },
          {
           "hovertemplate": "<b>%{hovertext}</b><br><br>country=United Kingdom<br>year=2012<br>Under-5 Mortality Rate=%{x}<br>Adolescent Fertility Rate=%{y}<br>Life Expectancy (Normalized)=%{marker.size}<extra></extra>",
           "hovertext": [
            "United Kingdom"
           ],
           "ids": [
            "United Kingdom"
           ],
           "legendgroup": "United Kingdom",
           "marker": {
            "color": "red",
            "size": [
             0.9916396415514775
            ],
            "sizemode": "area",
            "sizeref": 0.00028055555555555554,
            "symbol": "circle"
           },
           "mode": "markers",
           "name": "United Kingdom",
           "orientation": "v",
           "showlegend": true,
           "type": "scatter",
           "x": [
            4.8
           ],
           "xaxis": "x",
           "y": [
            20.042
           ],
           "yaxis": "y"
          },
          {
           "hovertemplate": "<b>%{hovertext}</b><br><br>country=United States<br>year=2012<br>Under-5 Mortality Rate=%{x}<br>Adolescent Fertility Rate=%{y}<br>Life Expectancy (Normalized)=%{marker.size}<extra></extra>",
           "hovertext": [
            "United States"
           ],
           "ids": [
            "United States"
           ],
           "legendgroup": "United States",
           "marker": {
            "color": "#9467bd",
            "size": [
             0.9060788663920772
            ],
            "sizemode": "area",
            "sizeref": 0.00028055555555555554,
            "symbol": "circle"
           },
           "mode": "markers",
           "name": "United States",
           "orientation": "v",
           "showlegend": true,
           "type": "scatter",
           "x": [
            7
           ],
           "xaxis": "x",
           "y": [
            29.387
           ],
           "yaxis": "y"
          }
         ],
         "name": "2012"
        },
        {
         "data": [
          {
           "hovertemplate": "<b>%{hovertext}</b><br><br>country=Brazil<br>year=2013<br>Under-5 Mortality Rate=%{x}<br>Adolescent Fertility Rate=%{y}<br>Life Expectancy (Normalized)=%{marker.size}<extra></extra>",
           "hovertext": [
            "Brazil"
           ],
           "ids": [
            "Brazil"
           ],
           "legendgroup": "Brazil",
           "marker": {
            "color": "#1f77b4",
            "size": [
             0.7426442813184271
            ],
            "sizemode": "area",
            "sizeref": 0.00028055555555555554,
            "symbol": "circle"
           },
           "mode": "markers",
           "name": "Brazil",
           "orientation": "v",
           "showlegend": true,
           "type": "scatter",
           "x": [
            16.7
           ],
           "xaxis": "x",
           "y": [
            63.947
           ],
           "yaxis": "y"
          },
          {
           "hovertemplate": "<b>%{hovertext}</b><br><br>country=India<br>year=2013<br>Under-5 Mortality Rate=%{x}<br>Adolescent Fertility Rate=%{y}<br>Life Expectancy (Normalized)=%{marker.size}<extra></extra>",
           "hovertext": [
            "India"
           ],
           "ids": [
            "India"
           ],
           "legendgroup": "India",
           "marker": {
            "color": "#ff7f0e",
            "size": [
             0.5010002025677879
            ],
            "sizemode": "area",
            "sizeref": 0.00028055555555555554,
            "symbol": "circle"
           },
           "mode": "markers",
           "name": "India",
           "orientation": "v",
           "showlegend": true,
           "type": "scatter",
           "x": [
            49.1
           ],
           "xaxis": "x",
           "y": [
            35.326
           ],
           "yaxis": "y"
          },
          {
           "hovertemplate": "<b>%{hovertext}</b><br><br>country=Kenya<br>year=2013<br>Under-5 Mortality Rate=%{x}<br>Adolescent Fertility Rate=%{y}<br>Life Expectancy (Normalized)=%{marker.size}<extra></extra>",
           "hovertext": [
            "Kenya"
           ],
           "ids": [
            "Kenya"
           ],
           "legendgroup": "Kenya",
           "marker": {
            "color": "green",
            "size": [
             0.2332538174381927
            ],
            "sizemode": "area",
            "sizeref": 0.00028055555555555554,
            "symbol": "circle"
           },
           "mode": "markers",
           "name": "Kenya",
           "orientation": "v",
           "showlegend": true,
           "type": "scatter",
           "x": [
            50
           ],
           "xaxis": "x",
           "y": [
            95.576
           ],
           "yaxis": "y"
          },
          {
           "hovertemplate": "<b>%{hovertext}</b><br><br>country=United Kingdom<br>year=2013<br>Under-5 Mortality Rate=%{x}<br>Adolescent Fertility Rate=%{y}<br>Life Expectancy (Normalized)=%{marker.size}<extra></extra>",
           "hovertext": [
            "United Kingdom"
           ],
           "ids": [
            "United Kingdom"
           ],
           "legendgroup": "United Kingdom",
           "marker": {
            "color": "red",
            "size": [
             0.9955945364573797
            ],
            "sizemode": "area",
            "sizeref": 0.00028055555555555554,
            "symbol": "circle"
           },
           "mode": "markers",
           "name": "United Kingdom",
           "orientation": "v",
           "showlegend": true,
           "type": "scatter",
           "x": [
            4.6
           ],
           "xaxis": "x",
           "y": [
            17.494
           ],
           "yaxis": "y"
          },
          {
           "hovertemplate": "<b>%{hovertext}</b><br><br>country=United States<br>year=2013<br>Under-5 Mortality Rate=%{x}<br>Adolescent Fertility Rate=%{y}<br>Life Expectancy (Normalized)=%{marker.size}<extra></extra>",
           "hovertext": [
            "United States"
           ],
           "ids": [
            "United States"
           ],
           "legendgroup": "United States",
           "marker": {
            "color": "#9467bd",
            "size": [
             0.9060788663920772
            ],
            "sizemode": "area",
            "sizeref": 0.00028055555555555554,
            "symbol": "circle"
           },
           "mode": "markers",
           "name": "United States",
           "orientation": "v",
           "showlegend": true,
           "type": "scatter",
           "x": [
            6.9
           ],
           "xaxis": "x",
           "y": [
            26.528
           ],
           "yaxis": "y"
          }
         ],
         "name": "2013"
        },
        {
         "data": [
          {
           "hovertemplate": "<b>%{hovertext}</b><br><br>country=Brazil<br>year=2014<br>Under-5 Mortality Rate=%{x}<br>Adolescent Fertility Rate=%{y}<br>Life Expectancy (Normalized)=%{marker.size}<extra></extra>",
           "hovertext": [
            "Brazil"
           ],
           "ids": [
            "Brazil"
           ],
           "legendgroup": "Brazil",
           "marker": {
            "color": "#1f77b4",
            "size": [
             0.7511077564170583
            ],
            "sizemode": "area",
            "sizeref": 0.00028055555555555554,
            "symbol": "circle"
           },
           "mode": "markers",
           "name": "Brazil",
           "orientation": "v",
           "showlegend": true,
           "type": "scatter",
           "x": [
            16.3
           ],
           "xaxis": "x",
           "y": [
            63.365
           ],
           "yaxis": "y"
          },
          {
           "hovertemplate": "<b>%{hovertext}</b><br><br>country=India<br>year=2014<br>Under-5 Mortality Rate=%{x}<br>Adolescent Fertility Rate=%{y}<br>Life Expectancy (Normalized)=%{marker.size}<extra></extra>",
           "hovertext": [
            "India"
           ],
           "ids": [
            "India"
           ],
           "legendgroup": "India",
           "marker": {
            "color": "#ff7f0e",
            "size": [
             0.5181248975103457
            ],
            "sizemode": "area",
            "sizeref": 0.00028055555555555554,
            "symbol": "circle"
           },
           "mode": "markers",
           "name": "India",
           "orientation": "v",
           "showlegend": true,
           "type": "scatter",
           "x": [
            46.3
           ],
           "xaxis": "x",
           "y": [
            28.806
           ],
           "yaxis": "y"
          },
          {
           "hovertemplate": "<b>%{hovertext}</b><br><br>country=Kenya<br>year=2014<br>Under-5 Mortality Rate=%{x}<br>Adolescent Fertility Rate=%{y}<br>Life Expectancy (Normalized)=%{marker.size}<extra></extra>",
           "hovertext": [
            "Kenya"
           ],
           "ids": [
            "Kenya"
           ],
           "legendgroup": "Kenya",
           "marker": {
            "color": "green",
            "size": [
             0.2435760931425982
            ],
            "sizemode": "area",
            "sizeref": 0.00028055555555555554,
            "symbol": "circle"
           },
           "mode": "markers",
           "name": "Kenya",
           "orientation": "v",
           "showlegend": true,
           "type": "scatter",
           "x": [
            48.8
           ],
           "xaxis": "x",
           "y": [
            89.953
           ],
           "yaxis": "y"
          },
          {
           "hovertemplate": "<b>%{hovertext}</b><br><br>country=United Kingdom<br>year=2014<br>Under-5 Mortality Rate=%{x}<br>Adolescent Fertility Rate=%{y}<br>Life Expectancy (Normalized)=%{marker.size}<extra></extra>",
           "hovertext": [
            "United Kingdom"
           ],
           "ids": [
            "United Kingdom"
           ],
           "legendgroup": "United Kingdom",
           "marker": {
            "color": "red",
            "size": [
             1.0074592211750868
            ],
            "sizemode": "area",
            "sizeref": 0.00028055555555555554,
            "symbol": "circle"
           },
           "mode": "markers",
           "name": "United Kingdom",
           "orientation": "v",
           "showlegend": true,
           "type": "scatter",
           "x": [
            4.5
           ],
           "xaxis": "x",
           "y": [
            15.803
           ],
           "yaxis": "y"
          },
          {
           "hovertemplate": "<b>%{hovertext}</b><br><br>country=United States<br>year=2014<br>Under-5 Mortality Rate=%{x}<br>Adolescent Fertility Rate=%{y}<br>Life Expectancy (Normalized)=%{marker.size}<extra></extra>",
           "hovertext": [
            "United States"
           ],
           "ids": [
            "United States"
           ],
           "legendgroup": "United States",
           "marker": {
            "color": "#9467bd",
            "size": [
             0.9100337612979761
            ],
            "sizemode": "area",
            "sizeref": 0.00028055555555555554,
            "symbol": "circle"
           },
           "mode": "markers",
           "name": "United States",
           "orientation": "v",
           "showlegend": true,
           "type": "scatter",
           "x": [
            6.8
           ],
           "xaxis": "x",
           "y": [
            24.192
           ],
           "yaxis": "y"
          }
         ],
         "name": "2014"
        },
        {
         "data": [
          {
           "hovertemplate": "<b>%{hovertext}</b><br><br>country=Brazil<br>year=2015<br>Under-5 Mortality Rate=%{x}<br>Adolescent Fertility Rate=%{y}<br>Life Expectancy (Normalized)=%{marker.size}<extra></extra>",
           "hovertext": [
            "Brazil"
           ],
           "ids": [
            "Brazil"
           ],
           "legendgroup": "Brazil",
           "marker": {
            "color": "#1f77b4",
            "size": [
             0.7623001090007623
            ],
            "sizemode": "area",
            "sizeref": 0.00028055555555555554,
            "symbol": "circle"
           },
           "mode": "markers",
           "name": "Brazil",
           "orientation": "v",
           "showlegend": true,
           "type": "scatter",
           "x": [
            16
           ],
           "xaxis": "x",
           "y": [
            61.779
           ],
           "yaxis": "y"
          },
          {
           "hovertemplate": "<b>%{hovertext}</b><br><br>country=India<br>year=2015<br>Under-5 Mortality Rate=%{x}<br>Adolescent Fertility Rate=%{y}<br>Life Expectancy (Normalized)=%{marker.size}<extra></extra>",
           "hovertext": [
            "India"
           ],
           "ids": [
            "India"
           ],
           "legendgroup": "India",
           "marker": {
            "color": "#ff7f0e",
            "size": [
             0.533707183439601
            ],
            "sizemode": "area",
            "sizeref": 0.00028055555555555554,
            "symbol": "circle"
           },
           "mode": "markers",
           "name": "India",
           "orientation": "v",
           "showlegend": true,
           "type": "scatter",
           "x": [
            43.6
           ],
           "xaxis": "x",
           "y": [
            18.194
           ],
           "yaxis": "y"
          },
          {
           "hovertemplate": "<b>%{hovertext}</b><br><br>country=Kenya<br>year=2015<br>Under-5 Mortality Rate=%{x}<br>Adolescent Fertility Rate=%{y}<br>Life Expectancy (Normalized)=%{marker.size}<extra></extra>",
           "hovertext": [
            "Kenya"
           ],
           "ids": [
            "Kenya"
           ],
           "legendgroup": "Kenya",
           "marker": {
            "color": "green",
            "size": [
             0.2550057394206563
            ],
            "sizemode": "area",
            "sizeref": 0.00028055555555555554,
            "symbol": "circle"
           },
           "mode": "markers",
           "name": "Kenya",
           "orientation": "v",
           "showlegend": true,
           "type": "scatter",
           "x": [
            47.4
           ],
           "xaxis": "x",
           "y": [
            81.864
           ],
           "yaxis": "y"
          },
          {
           "hovertemplate": "<b>%{hovertext}</b><br><br>country=United Kingdom<br>year=2015<br>Under-5 Mortality Rate=%{x}<br>Adolescent Fertility Rate=%{y}<br>Life Expectancy (Normalized)=%{marker.size}<extra></extra>",
           "hovertext": [
            "United Kingdom"
           ],
           "ids": [
            "United Kingdom"
           ],
           "legendgroup": "United Kingdom",
           "marker": {
            "color": "red",
            "size": [
             0.9936653194301097
            ],
            "sizemode": "area",
            "sizeref": 0.00028055555555555554,
            "symbol": "circle"
           },
           "mode": "markers",
           "name": "United Kingdom",
           "orientation": "v",
           "showlegend": true,
           "type": "scatter",
           "x": [
            4.5
           ],
           "xaxis": "x",
           "y": [
            14.712
           ],
           "yaxis": "y"
          },
          {
           "hovertemplate": "<b>%{hovertext}</b><br><br>country=United States<br>year=2015<br>Under-5 Mortality Rate=%{x}<br>Adolescent Fertility Rate=%{y}<br>Life Expectancy (Normalized)=%{marker.size}<extra></extra>",
           "hovertext": [
            "United States"
           ],
           "ids": [
            "United States"
           ],
           "legendgroup": "United States",
           "marker": {
            "color": "#9467bd",
            "size": [
             0.9040531885134411
            ],
            "sizemode": "area",
            "sizeref": 0.00028055555555555554,
            "symbol": "circle"
           },
           "mode": "markers",
           "name": "United States",
           "orientation": "v",
           "showlegend": true,
           "type": "scatter",
           "x": [
            6.8
           ],
           "xaxis": "x",
           "y": [
            22.031
           ],
           "yaxis": "y"
          }
         ],
         "name": "2015"
        },
        {
         "data": [
          {
           "hovertemplate": "<b>%{hovertext}</b><br><br>country=Brazil<br>year=2016<br>Under-5 Mortality Rate=%{x}<br>Adolescent Fertility Rate=%{y}<br>Life Expectancy (Normalized)=%{marker.size}<extra></extra>",
           "hovertext": [
            "Brazil"
           ],
           "ids": [
            "Brazil"
           ],
           "legendgroup": "Brazil",
           "marker": {
            "color": "#1f77b4",
            "size": [
             0.761311385274287
            ],
            "sizemode": "area",
            "sizeref": 0.00028055555555555554,
            "symbol": "circle"
           },
           "mode": "markers",
           "name": "Brazil",
           "orientation": "v",
           "showlegend": true,
           "type": "scatter",
           "x": [
            16.8
           ],
           "xaxis": "x",
           "y": [
            58.372
           ],
           "yaxis": "y"
          },
          {
           "hovertemplate": "<b>%{hovertext}</b><br><br>country=India<br>year=2016<br>Under-5 Mortality Rate=%{x}<br>Adolescent Fertility Rate=%{y}<br>Life Expectancy (Normalized)=%{marker.size}<extra></extra>",
           "hovertext": [
            "India"
           ],
           "ids": [
            "India"
           ],
           "legendgroup": "India",
           "marker": {
            "color": "#ff7f0e",
            "size": [
             0.5488544309292077
            ],
            "sizemode": "area",
            "sizeref": 0.00028055555555555554,
            "symbol": "circle"
           },
           "mode": "markers",
           "name": "India",
           "orientation": "v",
           "showlegend": true,
           "type": "scatter",
           "x": [
            41.1
           ],
           "xaxis": "x",
           "y": [
            14.535
           ],
           "yaxis": "y"
          },
          {
           "hovertemplate": "<b>%{hovertext}</b><br><br>country=Kenya<br>year=2016<br>Under-5 Mortality Rate=%{x}<br>Adolescent Fertility Rate=%{y}<br>Life Expectancy (Normalized)=%{marker.size}<extra></extra>",
           "hovertext": [
            "Kenya"
           ],
           "ids": [
            "Kenya"
           ],
           "legendgroup": "Kenya",
           "marker": {
            "color": "green",
            "size": [
             0.26477432983823534
            ],
            "sizemode": "area",
            "sizeref": 0.00028055555555555554,
            "symbol": "circle"
           },
           "mode": "markers",
           "name": "Kenya",
           "orientation": "v",
           "showlegend": true,
           "type": "scatter",
           "x": [
            46
           ],
           "xaxis": "x",
           "y": [
            73.781
           ],
           "yaxis": "y"
          },
          {
           "hovertemplate": "<b>%{hovertext}</b><br><br>country=United Kingdom<br>year=2016<br>Under-5 Mortality Rate=%{x}<br>Adolescent Fertility Rate=%{y}<br>Life Expectancy (Normalized)=%{marker.size}<extra></extra>",
           "hovertext": [
            "United Kingdom"
           ],
           "ids": [
            "United Kingdom"
           ],
           "legendgroup": "United Kingdom",
           "marker": {
            "color": "red",
            "size": [
             1.001575109241914
            ],
            "sizemode": "area",
            "sizeref": 0.00028055555555555554,
            "symbol": "circle"
           },
           "mode": "markers",
           "name": "United Kingdom",
           "orientation": "v",
           "showlegend": true,
           "type": "scatter",
           "x": [
            4.4
           ],
           "xaxis": "x",
           "y": [
            13.952
           ],
           "yaxis": "y"
          },
          {
           "hovertemplate": "<b>%{hovertext}</b><br><br>country=United States<br>year=2016<br>Under-5 Mortality Rate=%{x}<br>Adolescent Fertility Rate=%{y}<br>Life Expectancy (Normalized)=%{marker.size}<extra></extra>",
           "hovertext": [
            "United States"
           ],
           "ids": [
            "United States"
           ],
           "legendgroup": "United States",
           "marker": {
            "color": "#9467bd",
            "size": [
             0.8980726157289066
            ],
            "sizemode": "area",
            "sizeref": 0.00028055555555555554,
            "symbol": "circle"
           },
           "mode": "markers",
           "name": "United States",
           "orientation": "v",
           "showlegend": true,
           "type": "scatter",
           "x": [
            6.7
           ],
           "xaxis": "x",
           "y": [
            20.08
           ],
           "yaxis": "y"
          }
         ],
         "name": "2016"
        },
        {
         "data": [
          {
           "hovertemplate": "<b>%{hovertext}</b><br><br>country=Brazil<br>year=2017<br>Under-5 Mortality Rate=%{x}<br>Adolescent Fertility Rate=%{y}<br>Life Expectancy (Normalized)=%{marker.size}<extra></extra>",
           "hovertext": [
            "Brazil"
           ],
           "ids": [
            "Brazil"
           ],
           "legendgroup": "Brazil",
           "marker": {
            "color": "#1f77b4",
            "size": [
             0.7732551678901121
            ],
            "sizemode": "area",
            "sizeref": 0.00028055555555555554,
            "symbol": "circle"
           },
           "mode": "markers",
           "name": "Brazil",
           "orientation": "v",
           "showlegend": true,
           "type": "scatter",
           "x": [
            15.4
           ],
           "xaxis": "x",
           "y": [
            56.558
           ],
           "yaxis": "y"
          },
          {
           "hovertemplate": "<b>%{hovertext}</b><br><br>country=India<br>year=2017<br>Under-5 Mortality Rate=%{x}<br>Adolescent Fertility Rate=%{y}<br>Life Expectancy (Normalized)=%{marker.size}<extra></extra>",
           "hovertext": [
            "India"
           ],
           "ids": [
            "India"
           ],
           "legendgroup": "India",
           "marker": {
            "color": "#ff7f0e",
            "size": [
             0.5630525036413974
            ],
            "sizemode": "area",
            "sizeref": 0.00028055555555555554,
            "symbol": "circle"
           },
           "mode": "markers",
           "name": "India",
           "orientation": "v",
           "showlegend": true,
           "type": "scatter",
           "x": [
            38.7
           ],
           "xaxis": "x",
           "y": [
            15.166
           ],
           "yaxis": "y"
          },
          {
           "hovertemplate": "<b>%{hovertext}</b><br><br>country=Kenya<br>year=2017<br>Under-5 Mortality Rate=%{x}<br>Adolescent Fertility Rate=%{y}<br>Life Expectancy (Normalized)=%{marker.size}<extra></extra>",
           "hovertext": [
            "Kenya"
           ],
           "ids": [
            "Kenya"
           ],
           "legendgroup": "Kenya",
           "marker": {
            "color": "green",
            "size": [
             0.27264457070098114
            ],
            "sizemode": "area",
            "sizeref": 0.00028055555555555554,
            "symbol": "circle"
           },
           "mode": "markers",
           "name": "Kenya",
           "orientation": "v",
           "showlegend": true,
           "type": "scatter",
           "x": [
            45.3
           ],
           "xaxis": "x",
           "y": [
            68.182
           ],
           "yaxis": "y"
          },
          {
           "hovertemplate": "<b>%{hovertext}</b><br><br>country=United Kingdom<br>year=2017<br>Under-5 Mortality Rate=%{x}<br>Adolescent Fertility Rate=%{y}<br>Life Expectancy (Normalized)=%{marker.size}<extra></extra>",
           "hovertext": [
            "United Kingdom"
           ],
           "ids": [
            "United Kingdom"
           ],
           "legendgroup": "United Kingdom",
           "marker": {
            "color": "red",
            "size": [
             1.005530004147817
            ],
            "sizemode": "area",
            "sizeref": 0.00028055555555555554,
            "symbol": "circle"
           },
           "mode": "markers",
           "name": "United Kingdom",
           "orientation": "v",
           "showlegend": true,
           "type": "scatter",
           "x": [
            4.4
           ],
           "xaxis": "x",
           "y": [
            12.978
           ],
           "yaxis": "y"
          },
          {
           "hovertemplate": "<b>%{hovertext}</b><br><br>country=United States<br>year=2017<br>Under-5 Mortality Rate=%{x}<br>Adolescent Fertility Rate=%{y}<br>Life Expectancy (Normalized)=%{marker.size}<extra></extra>",
           "hovertext": [
            "United States"
           ],
           "ids": [
            "United States"
           ],
           "legendgroup": "United States",
           "marker": {
            "color": "#9467bd",
            "size": [
             0.8980726157289066
            ],
            "sizemode": "area",
            "sizeref": 0.00028055555555555554,
            "symbol": "circle"
           },
           "mode": "markers",
           "name": "United States",
           "orientation": "v",
           "showlegend": true,
           "type": "scatter",
           "x": [
            6.6
           ],
           "xaxis": "x",
           "y": [
            18.491
           ],
           "yaxis": "y"
          }
         ],
         "name": "2017"
        },
        {
         "data": [
          {
           "hovertemplate": "<b>%{hovertext}</b><br><br>country=Brazil<br>year=2018<br>Under-5 Mortality Rate=%{x}<br>Adolescent Fertility Rate=%{y}<br>Life Expectancy (Normalized)=%{marker.size}<extra></extra>",
           "hovertext": [
            "Brazil"
           ],
           "ids": [
            "Brazil"
           ],
           "legendgroup": "Brazil",
           "marker": {
            "color": "#1f77b4",
            "size": [
             0.7831424051548681
            ],
            "sizemode": "area",
            "sizeref": 0.00028055555555555554,
            "symbol": "circle"
           },
           "mode": "markers",
           "name": "Brazil",
           "orientation": "v",
           "showlegend": true,
           "type": "scatter",
           "x": [
            15.2
           ],
           "xaxis": "x",
           "y": [
            54.287
           ],
           "yaxis": "y"
          },
          {
           "hovertemplate": "<b>%{hovertext}</b><br><br>country=India<br>year=2018<br>Under-5 Mortality Rate=%{x}<br>Adolescent Fertility Rate=%{y}<br>Life Expectancy (Normalized)=%{marker.size}<extra></extra>",
           "hovertext": [
            "India"
           ],
           "ids": [
            "India"
           ],
           "legendgroup": "India",
           "marker": {
            "color": "#ff7f0e",
            "size": [
             0.5767759889648791
            ],
            "sizemode": "area",
            "sizeref": 0.00028055555555555554,
            "symbol": "circle"
           },
           "mode": "markers",
           "name": "India",
           "orientation": "v",
           "showlegend": true,
           "type": "scatter",
           "x": [
            36.4
           ],
           "xaxis": "x",
           "y": [
            15.133
           ],
           "yaxis": "y"
          },
          {
           "hovertemplate": "<b>%{hovertext}</b><br><br>country=Kenya<br>year=2018<br>Under-5 Mortality Rate=%{x}<br>Adolescent Fertility Rate=%{y}<br>Life Expectancy (Normalized)=%{marker.size}<extra></extra>",
           "hovertext": [
            "Kenya"
           ],
           "ids": [
            "Kenya"
           ],
           "legendgroup": "Kenya",
           "marker": {
            "color": "green",
            "size": [
             0.27659946560688364
            ],
            "sizemode": "area",
            "sizeref": 0.00028055555555555554,
            "symbol": "circle"
           },
           "mode": "markers",
           "name": "Kenya",
           "orientation": "v",
           "showlegend": true,
           "type": "scatter",
           "x": [
            44.3
           ],
           "xaxis": "x",
           "y": [
            66.659
           ],
           "yaxis": "y"
          },
          {
           "hovertemplate": "<b>%{hovertext}</b><br><br>country=United Kingdom<br>year=2018<br>Under-5 Mortality Rate=%{x}<br>Adolescent Fertility Rate=%{y}<br>Life Expectancy (Normalized)=%{marker.size}<extra></extra>",
           "hovertext": [
            "United Kingdom"
           ],
           "ids": [
            "United Kingdom"
           ],
           "legendgroup": "United Kingdom",
           "marker": {
            "color": "red",
            "size": [
             1.005530004147817
            ],
            "sizemode": "area",
            "sizeref": 0.00028055555555555554,
            "symbol": "circle"
           },
           "mode": "markers",
           "name": "United Kingdom",
           "orientation": "v",
           "showlegend": true,
           "type": "scatter",
           "x": [
            4.4
           ],
           "xaxis": "x",
           "y": [
            12.068
           ],
           "yaxis": "y"
          },
          {
           "hovertemplate": "<b>%{hovertext}</b><br><br>country=United States<br>year=2018<br>Under-5 Mortality Rate=%{x}<br>Adolescent Fertility Rate=%{y}<br>Life Expectancy (Normalized)=%{marker.size}<extra></extra>",
           "hovertext": [
            "United States"
           ],
           "ids": [
            "United States"
           ],
           "legendgroup": "United States",
           "marker": {
            "color": "#9467bd",
            "size": [
             0.9020275106348095
            ],
            "sizemode": "area",
            "sizeref": 0.00028055555555555554,
            "symbol": "circle"
           },
           "mode": "markers",
           "name": "United States",
           "orientation": "v",
           "showlegend": true,
           "type": "scatter",
           "x": [
            6.5
           ],
           "xaxis": "x",
           "y": [
            17.164
           ],
           "yaxis": "y"
          }
         ],
         "name": "2018"
        },
        {
         "data": [
          {
           "hovertemplate": "<b>%{hovertext}</b><br><br>country=Brazil<br>year=2019<br>Under-5 Mortality Rate=%{x}<br>Adolescent Fertility Rate=%{y}<br>Life Expectancy (Normalized)=%{marker.size}<extra></extra>",
           "hovertext": [
            "Brazil"
           ],
           "ids": [
            "Brazil"
           ],
           "legendgroup": "Brazil",
           "marker": {
            "color": "#1f77b4",
            "size": [
             0.7901030201892565
            ],
            "sizemode": "area",
            "sizeref": 0.00028055555555555554,
            "symbol": "circle"
           },
           "mode": "markers",
           "name": "Brazil",
           "orientation": "v",
           "showlegend": true,
           "type": "scatter",
           "x": [
            15
           ],
           "xaxis": "x",
           "y": [
            50.958
           ],
           "yaxis": "y"
          },
          {
           "hovertemplate": "<b>%{hovertext}</b><br><br>country=India<br>year=2019<br>Under-5 Mortality Rate=%{x}<br>Adolescent Fertility Rate=%{y}<br>Life Expectancy (Normalized)=%{marker.size}<extra></extra>",
           "hovertext": [
            "India"
           ],
           "ids": [
            "India"
           ],
           "legendgroup": "India",
           "marker": {
            "color": "#ff7f0e",
            "size": [
             0.5898666911034158
            ],
            "sizemode": "area",
            "sizeref": 0.00028055555555555554,
            "symbol": "circle"
           },
           "mode": "markers",
           "name": "India",
           "orientation": "v",
           "showlegend": true,
           "type": "scatter",
           "x": [
            34.3
           ],
           "xaxis": "x",
           "y": [
            14.796
           ],
           "yaxis": "y"
          },
          {
           "hovertemplate": "<b>%{hovertext}</b><br><br>country=Kenya<br>year=2019<br>Under-5 Mortality Rate=%{x}<br>Adolescent Fertility Rate=%{y}<br>Life Expectancy (Normalized)=%{marker.size}<extra></extra>",
           "hovertext": [
            "Kenya"
           ],
           "ids": [
            "Kenya"
           ],
           "legendgroup": "Kenya",
           "marker": {
            "color": "green",
            "size": [
             0.2811080457996123
            ],
            "sizemode": "area",
            "sizeref": 0.00028055555555555554,
            "symbol": "circle"
           },
           "mode": "markers",
           "name": "Kenya",
           "orientation": "v",
           "showlegend": true,
           "type": "scatter",
           "x": [
            43.3
           ],
           "xaxis": "x",
           "y": [
            63.656
           ],
           "yaxis": "y"
          },
          {
           "hovertemplate": "<b>%{hovertext}</b><br><br>country=United Kingdom<br>year=2019<br>Under-5 Mortality Rate=%{x}<br>Adolescent Fertility Rate=%{y}<br>Life Expectancy (Normalized)=%{marker.size}<extra></extra>",
           "hovertext": [
            "United Kingdom"
           ],
           "ids": [
            "United Kingdom"
           ],
           "legendgroup": "United Kingdom",
           "marker": {
            "color": "red",
            "size": [
             1.01
            ],
            "sizemode": "area",
            "sizeref": 0.00028055555555555554,
            "symbol": "circle"
           },
           "mode": "markers",
           "name": "United Kingdom",
           "orientation": "v",
           "showlegend": true,
           "type": "scatter",
           "x": [
            4.4
           ],
           "xaxis": "x",
           "y": [
            11.064
           ],
           "yaxis": "y"
          },
          {
           "hovertemplate": "<b>%{hovertext}</b><br><br>country=United States<br>year=2019<br>Under-5 Mortality Rate=%{x}<br>Adolescent Fertility Rate=%{y}<br>Life Expectancy (Normalized)=%{marker.size}<extra></extra>",
           "hovertext": [
            "United States"
           ],
           "ids": [
            "United States"
           ],
           "legendgroup": "United States",
           "marker": {
            "color": "#9467bd",
            "size": [
             0.9079116225679822
            ],
            "sizemode": "area",
            "sizeref": 0.00028055555555555554,
            "symbol": "circle"
           },
           "mode": "markers",
           "name": "United States",
           "orientation": "v",
           "showlegend": true,
           "type": "scatter",
           "x": [
            6.5
           ],
           "xaxis": "x",
           "y": [
            16.202
           ],
           "yaxis": "y"
          }
         ],
         "name": "2019"
        },
        {
         "data": [
          {
           "hovertemplate": "<b>%{hovertext}</b><br><br>country=Brazil<br>year=2020<br>Under-5 Mortality Rate=%{x}<br>Adolescent Fertility Rate=%{y}<br>Life Expectancy (Normalized)=%{marker.size}<extra></extra>",
           "hovertext": [
            "Brazil"
           ],
           "ids": [
            "Brazil"
           ],
           "legendgroup": "Brazil",
           "marker": {
            "color": "#1f77b4",
            "size": [
             0.7385707395653478
            ],
            "sizemode": "area",
            "sizeref": 0.00028055555555555554,
            "symbol": "circle"
           },
           "mode": "markers",
           "name": "Brazil",
           "orientation": "v",
           "showlegend": true,
           "type": "scatter",
           "x": [
            14.9
           ],
           "xaxis": "x",
           "y": [
            47.46
           ],
           "yaxis": "y"
          },
          {
           "hovertemplate": "<b>%{hovertext}</b><br><br>country=India<br>year=2020<br>Under-5 Mortality Rate=%{x}<br>Adolescent Fertility Rate=%{y}<br>Life Expectancy (Normalized)=%{marker.size}<extra></extra>",
           "hovertext": [
            "India"
           ],
           "ids": [
            "India"
           ],
           "legendgroup": "India",
           "marker": {
            "color": "#ff7f0e",
            "size": [
             0.5665328111585918
            ],
            "sizemode": "area",
            "sizeref": 0.00028055555555555554,
            "symbol": "circle"
           },
           "mode": "markers",
           "name": "India",
           "orientation": "v",
           "showlegend": true,
           "type": "scatter",
           "x": [
            32.4
           ],
           "xaxis": "x",
           "y": [
            14.423
           ],
           "yaxis": "y"
          },
          {
           "hovertemplate": "<b>%{hovertext}</b><br><br>country=Kenya<br>year=2020<br>Under-5 Mortality Rate=%{x}<br>Adolescent Fertility Rate=%{y}<br>Life Expectancy (Normalized)=%{marker.size}<extra></extra>",
           "hovertext": [
            "Kenya"
           ],
           "ids": [
            "Kenya"
           ],
           "legendgroup": "Kenya",
           "marker": {
            "color": "green",
            "size": [
             0.22799380721334236
            ],
            "sizemode": "area",
            "sizeref": 0.00028055555555555554,
            "symbol": "circle"
           },
           "mode": "markers",
           "name": "Kenya",
           "orientation": "v",
           "showlegend": true,
           "type": "scatter",
           "x": [
            42.8
           ],
           "xaxis": "x",
           "y": [
            59.38
           ],
           "yaxis": "y"
          },
          {
           "hovertemplate": "<b>%{hovertext}</b><br><br>country=United Kingdom<br>year=2020<br>Under-5 Mortality Rate=%{x}<br>Adolescent Fertility Rate=%{y}<br>Life Expectancy (Normalized)=%{marker.size}<extra></extra>",
           "hovertext": [
            "United Kingdom"
           ],
           "ids": [
            "United Kingdom"
           ],
           "legendgroup": "United Kingdom",
           "marker": {
            "color": "red",
            "size": [
             0.9689732706980886
            ],
            "sizemode": "area",
            "sizeref": 0.00028055555555555554,
            "symbol": "circle"
           },
           "mode": "markers",
           "name": "United Kingdom",
           "orientation": "v",
           "showlegend": true,
           "type": "scatter",
           "x": [
            4.4
           ],
           "xaxis": "x",
           "y": [
            9.701
           ],
           "yaxis": "y"
          },
          {
           "hovertemplate": "<b>%{hovertext}</b><br><br>country=United States<br>year=2020<br>Under-5 Mortality Rate=%{x}<br>Adolescent Fertility Rate=%{y}<br>Life Expectancy (Normalized)=%{marker.size}<extra></extra>",
           "hovertext": [
            "United States"
           ],
           "ids": [
            "United States"
           ],
           "legendgroup": "United States",
           "marker": {
            "color": "#9467bd",
            "size": [
             0.8364341317076487
            ],
            "sizemode": "area",
            "sizeref": 0.00028055555555555554,
            "symbol": "circle"
           },
           "mode": "markers",
           "name": "United States",
           "orientation": "v",
           "showlegend": true,
           "type": "scatter",
           "x": [
            6.5
           ],
           "xaxis": "x",
           "y": [
            14.719
           ],
           "yaxis": "y"
          }
         ],
         "name": "2020"
        },
        {
         "data": [
          {
           "hovertemplate": "<b>%{hovertext}</b><br><br>country=Brazil<br>year=2021<br>Under-5 Mortality Rate=%{x}<br>Adolescent Fertility Rate=%{y}<br>Life Expectancy (Normalized)=%{marker.size}<extra></extra>",
           "hovertext": [
            "Brazil"
           ],
           "ids": [
            "Brazil"
           ],
           "legendgroup": "Brazil",
           "marker": {
            "color": "#1f77b4",
            "size": [
             0.6805128823466998
            ],
            "sizemode": "area",
            "sizeref": 0.00028055555555555554,
            "symbol": "circle"
           },
           "mode": "markers",
           "name": "Brazil",
           "orientation": "v",
           "showlegend": true,
           "type": "scatter",
           "x": [
            14.7
           ],
           "xaxis": "x",
           "y": [
            45.67
           ],
           "yaxis": "y"
          },
          {
           "hovertemplate": "<b>%{hovertext}</b><br><br>country=India<br>year=2021<br>Under-5 Mortality Rate=%{x}<br>Adolescent Fertility Rate=%{y}<br>Life Expectancy (Normalized)=%{marker.size}<extra></extra>",
           "hovertext": [
            "India"
           ],
           "ids": [
            "India"
           ],
           "legendgroup": "India",
           "marker": {
            "color": "#ff7f0e",
            "size": [
             0.4528691315629552
            ],
            "sizemode": "area",
            "sizeref": 0.00028055555555555554,
            "symbol": "circle"
           },
           "mode": "markers",
           "name": "India",
           "orientation": "v",
           "showlegend": true,
           "type": "scatter",
           "x": [
            30.6
           ],
           "xaxis": "x",
           "y": [
            14.289
           ],
           "yaxis": "y"
          },
          {
           "hovertemplate": "<b>%{hovertext}</b><br><br>country=Kenya<br>year=2021<br>Under-5 Mortality Rate=%{x}<br>Adolescent Fertility Rate=%{y}<br>Life Expectancy (Normalized)=%{marker.size}<extra></extra>",
           "hovertext": [
            "Kenya"
           ],
           "ids": [
            "Kenya"
           ],
           "legendgroup": "Kenya",
           "marker": {
            "color": "green",
            "size": [
             0.2133211471124445
            ],
            "sizemode": "area",
            "sizeref": 0.00028055555555555554,
            "symbol": "circle"
           },
           "mode": "markers",
           "name": "Kenya",
           "orientation": "v",
           "showlegend": true,
           "type": "scatter",
           "x": [
            41.9
           ],
           "xaxis": "x",
           "y": [
            59.513
           ],
           "yaxis": "y"
          },
          {
           "hovertemplate": "<b>%{hovertext}</b><br><br>country=United Kingdom<br>year=2021<br>Under-5 Mortality Rate=%{x}<br>Adolescent Fertility Rate=%{y}<br>Life Expectancy (Normalized)=%{marker.size}<extra></extra>",
           "hovertext": [
            "United Kingdom"
           ],
           "ids": [
            "United Kingdom"
           ],
           "legendgroup": "United Kingdom",
           "marker": {
            "color": "red",
            "size": [
             0.9814533756474927
            ],
            "sizemode": "area",
            "sizeref": 0.00028055555555555554,
            "symbol": "circle"
           },
           "mode": "markers",
           "name": "United Kingdom",
           "orientation": "v",
           "showlegend": true,
           "type": "scatter",
           "x": [
            4.4
           ],
           "xaxis": "x",
           "y": [
            8.578
           ],
           "yaxis": "y"
          },
          {
           "hovertemplate": "<b>%{hovertext}</b><br><br>country=United States<br>year=2021<br>Under-5 Mortality Rate=%{x}<br>Adolescent Fertility Rate=%{y}<br>Life Expectancy (Normalized)=%{marker.size}<extra></extra>",
           "hovertext": [
            "United States"
           ],
           "ids": [
            "United States"
           ],
           "legendgroup": "United States",
           "marker": {
            "color": "#9467bd",
            "size": [
             0.8106790843935981
            ],
            "sizemode": "area",
            "sizeref": 0.00028055555555555554,
            "symbol": "circle"
           },
           "mode": "markers",
           "name": "United States",
           "orientation": "v",
           "showlegend": true,
           "type": "scatter",
           "x": [
            6.5
           ],
           "xaxis": "x",
           "y": [
            13.724
           ],
           "yaxis": "y"
          }
         ],
         "name": "2021"
        },
        {
         "data": [
          {
           "hovertemplate": "<b>%{hovertext}</b><br><br>country=Brazil<br>year=2022<br>Under-5 Mortality Rate=%{x}<br>Adolescent Fertility Rate=%{y}<br>Life Expectancy (Normalized)=%{marker.size}<extra></extra>",
           "hovertext": [
            "Brazil"
           ],
           "ids": [
            "Brazil"
           ],
           "legendgroup": "Brazil",
           "marker": {
            "color": "#1f77b4",
            "size": [
             0.7530456549209508
            ],
            "sizemode": "area",
            "sizeref": 0.00028055555555555554,
            "symbol": "circle"
           },
           "mode": "markers",
           "name": "Brazil",
           "orientation": "v",
           "showlegend": true,
           "type": "scatter",
           "x": [
            14.6
           ],
           "xaxis": "x",
           "y": [
            42.881
           ],
           "yaxis": "y"
          },
          {
           "hovertemplate": "<b>%{hovertext}</b><br><br>country=India<br>year=2022<br>Under-5 Mortality Rate=%{x}<br>Adolescent Fertility Rate=%{y}<br>Life Expectancy (Normalized)=%{marker.size}<extra></extra>",
           "hovertext": [
            "India"
           ],
           "ids": [
            "India"
           ],
           "legendgroup": "India",
           "marker": {
            "color": "#ff7f0e",
            "size": [
             0.627517290607607
            ],
            "sizemode": "area",
            "sizeref": 0.00028055555555555554,
            "symbol": "circle"
           },
           "mode": "markers",
           "name": "India",
           "orientation": "v",
           "showlegend": true,
           "type": "scatter",
           "x": [
            29.1
           ],
           "xaxis": "x",
           "y": [
            14.185
           ],
           "yaxis": "y"
          },
          {
           "hovertemplate": "<b>%{hovertext}</b><br><br>country=Kenya<br>year=2022<br>Under-5 Mortality Rate=%{x}<br>Adolescent Fertility Rate=%{y}<br>Life Expectancy (Normalized)=%{marker.size}<extra></extra>",
           "hovertext": [
            "Kenya"
           ],
           "ids": [
            "Kenya"
           ],
           "legendgroup": "Kenya",
           "marker": {
            "color": "green",
            "size": [
             0.3052329047256172
            ],
            "sizemode": "area",
            "sizeref": 0.00028055555555555554,
            "symbol": "circle"
           },
           "mode": "markers",
           "name": "Kenya",
           "orientation": "v",
           "showlegend": true,
           "type": "scatter",
           "x": [
            41.1
           ],
           "xaxis": "x",
           "y": [
            57.272
           ],
           "yaxis": "y"
          },
          {
           "hovertemplate": "<b>%{hovertext}</b><br><br>country=United Kingdom<br>year=2022<br>Under-5 Mortality Rate=%{x}<br>Adolescent Fertility Rate=%{y}<br>Life Expectancy (Normalized)=%{marker.size}<extra></extra>",
           "hovertext": [
            "United Kingdom"
           ],
           "ids": [
            "United Kingdom"
           ],
           "legendgroup": "United Kingdom",
           "marker": {
            "color": "red",
            "size": [
             0.9958453346709234
            ],
            "sizemode": "area",
            "sizeref": 0.00028055555555555554,
            "symbol": "circle"
           },
           "mode": "markers",
           "name": "United Kingdom",
           "orientation": "v",
           "showlegend": true,
           "type": "scatter",
           "x": [
            4.5
           ],
           "xaxis": "x",
           "y": [
            8.379
           ],
           "yaxis": "y"
          },
          {
           "hovertemplate": "<b>%{hovertext}</b><br><br>country=United States<br>year=2022<br>Under-5 Mortality Rate=%{x}<br>Adolescent Fertility Rate=%{y}<br>Life Expectancy (Normalized)=%{marker.size}<extra></extra>",
           "hovertext": [
            "United States"
           ],
           "ids": [
            "United States"
           ],
           "legendgroup": "United States",
           "marker": {
            "color": "#9467bd",
            "size": [
             0.8543758500612527
            ],
            "sizemode": "area",
            "sizeref": 0.00028055555555555554,
            "symbol": "circle"
           },
           "mode": "markers",
           "name": "United States",
           "orientation": "v",
           "showlegend": true,
           "type": "scatter",
           "x": [
            6.5
           ],
           "xaxis": "x",
           "y": [
            13.628
           ],
           "yaxis": "y"
          }
         ],
         "name": "2022"
        },
        {
         "data": [
          {
           "hovertemplate": "<b>%{hovertext}</b><br><br>country=Brazil<br>year=2023<br>Under-5 Mortality Rate=%{x}<br>Adolescent Fertility Rate=%{y}<br>Life Expectancy (Normalized)=%{marker.size}<extra></extra>",
           "hovertext": [
            "Brazil"
           ],
           "ids": [
            "Brazil"
           ],
           "legendgroup": "Brazil",
           "marker": {
            "color": "#1f77b4",
            "size": [
             0.7916454292025585
            ],
            "sizemode": "area",
            "sizeref": 0.00028055555555555554,
            "symbol": "circle"
           },
           "mode": "markers",
           "name": "Brazil",
           "orientation": "v",
           "showlegend": true,
           "type": "scatter",
           "x": [
            14.4
           ],
           "xaxis": "x",
           "y": [
            42.686
           ],
           "yaxis": "y"
          },
          {
           "hovertemplate": "<b>%{hovertext}</b><br><br>country=India<br>year=2023<br>Under-5 Mortality Rate=%{x}<br>Adolescent Fertility Rate=%{y}<br>Life Expectancy (Normalized)=%{marker.size}<extra></extra>",
           "hovertext": [
            "India"
           ],
           "ids": [
            "India"
           ],
           "legendgroup": "India",
           "marker": {
            "color": "#ff7f0e",
            "size": [
             0.6395797200706097
            ],
            "sizemode": "area",
            "sizeref": 0.00028055555555555554,
            "symbol": "circle"
           },
           "mode": "markers",
           "name": "India",
           "orientation": "v",
           "showlegend": true,
           "type": "scatter",
           "x": [
            27.7
           ],
           "xaxis": "x",
           "y": [
            14.06
           ],
           "yaxis": "y"
          },
          {
           "hovertemplate": "<b>%{hovertext}</b><br><br>country=Kenya<br>year=2023<br>Under-5 Mortality Rate=%{x}<br>Adolescent Fertility Rate=%{y}<br>Life Expectancy (Normalized)=%{marker.size}<extra></extra>",
           "hovertext": [
            "Kenya"
           ],
           "ids": [
            "Kenya"
           ],
           "legendgroup": "Kenya",
           "marker": {
            "color": "green",
            "size": [
             0.3090691527843426
            ],
            "sizemode": "area",
            "sizeref": 0.00028055555555555554,
            "symbol": "circle"
           },
           "mode": "markers",
           "name": "Kenya",
           "orientation": "v",
           "showlegend": true,
           "type": "scatter",
           "x": [
            39.9
           ],
           "xaxis": "x",
           "y": [
            56.313
           ],
           "yaxis": "y"
          },
          {
           "hovertemplate": "<b>%{hovertext}</b><br><br>country=United Kingdom<br>year=2023<br>Under-5 Mortality Rate=%{x}<br>Adolescent Fertility Rate=%{y}<br>Life Expectancy (Normalized)=%{marker.size}<extra></extra>",
           "hovertext": [
            "United Kingdom"
           ],
           "ids": [
            "United Kingdom"
           ],
           "legendgroup": "United Kingdom",
           "marker": {
            "color": "red",
            "size": [
             1.0048181230647544
            ],
            "sizemode": "area",
            "sizeref": 0.00028055555555555554,
            "symbol": "circle"
           },
           "mode": "markers",
           "name": "United Kingdom",
           "orientation": "v",
           "showlegend": true,
           "type": "scatter",
           "x": [
            4.5
           ],
           "xaxis": "x",
           "y": [
            8.359
           ],
           "yaxis": "y"
          },
          {
           "hovertemplate": "<b>%{hovertext}</b><br><br>country=United States<br>year=2023<br>Under-5 Mortality Rate=%{x}<br>Adolescent Fertility Rate=%{y}<br>Life Expectancy (Normalized)=%{marker.size}<extra></extra>",
           "hovertext": [
            "United States"
           ],
           "ids": [
            "United States"
           ],
           "legendgroup": "United States",
           "marker": {
            "color": "#9467bd",
            "size": [
             0.8919955820930066
            ],
            "sizemode": "area",
            "sizeref": 0.00028055555555555554,
            "symbol": "circle"
           },
           "mode": "markers",
           "name": "United States",
           "orientation": "v",
           "showlegend": true,
           "type": "scatter",
           "x": [
            6.5
           ],
           "xaxis": "x",
           "y": [
            13.145
           ],
           "yaxis": "y"
          }
         ],
         "name": "2023"
        }
       ],
       "layout": {
        "legend": {
         "itemsizing": "constant",
         "title": {
          "text": "country"
         },
         "tracegroupgap": 0
        },
        "sliders": [
         {
          "active": 0,
          "currentvalue": {
           "prefix": "year="
          },
          "len": 0.9,
          "pad": {
           "b": 10,
           "t": 60
          },
          "steps": [
           {
            "args": [
             [
              "2000"
             ],
             {
              "frame": {
               "duration": 0,
               "redraw": false
              },
              "fromcurrent": true,
              "mode": "immediate",
              "transition": {
               "duration": 0,
               "easing": "linear"
              }
             }
            ],
            "label": "2000",
            "method": "animate"
           },
           {
            "args": [
             [
              "2001"
             ],
             {
              "frame": {
               "duration": 0,
               "redraw": false
              },
              "fromcurrent": true,
              "mode": "immediate",
              "transition": {
               "duration": 0,
               "easing": "linear"
              }
             }
            ],
            "label": "2001",
            "method": "animate"
           },
           {
            "args": [
             [
              "2002"
             ],
             {
              "frame": {
               "duration": 0,
               "redraw": false
              },
              "fromcurrent": true,
              "mode": "immediate",
              "transition": {
               "duration": 0,
               "easing": "linear"
              }
             }
            ],
            "label": "2002",
            "method": "animate"
           },
           {
            "args": [
             [
              "2003"
             ],
             {
              "frame": {
               "duration": 0,
               "redraw": false
              },
              "fromcurrent": true,
              "mode": "immediate",
              "transition": {
               "duration": 0,
               "easing": "linear"
              }
             }
            ],
            "label": "2003",
            "method": "animate"
           },
           {
            "args": [
             [
              "2004"
             ],
             {
              "frame": {
               "duration": 0,
               "redraw": false
              },
              "fromcurrent": true,
              "mode": "immediate",
              "transition": {
               "duration": 0,
               "easing": "linear"
              }
             }
            ],
            "label": "2004",
            "method": "animate"
           },
           {
            "args": [
             [
              "2005"
             ],
             {
              "frame": {
               "duration": 0,
               "redraw": false
              },
              "fromcurrent": true,
              "mode": "immediate",
              "transition": {
               "duration": 0,
               "easing": "linear"
              }
             }
            ],
            "label": "2005",
            "method": "animate"
           },
           {
            "args": [
             [
              "2006"
             ],
             {
              "frame": {
               "duration": 0,
               "redraw": false
              },
              "fromcurrent": true,
              "mode": "immediate",
              "transition": {
               "duration": 0,
               "easing": "linear"
              }
             }
            ],
            "label": "2006",
            "method": "animate"
           },
           {
            "args": [
             [
              "2007"
             ],
             {
              "frame": {
               "duration": 0,
               "redraw": false
              },
              "fromcurrent": true,
              "mode": "immediate",
              "transition": {
               "duration": 0,
               "easing": "linear"
              }
             }
            ],
            "label": "2007",
            "method": "animate"
           },
           {
            "args": [
             [
              "2008"
             ],
             {
              "frame": {
               "duration": 0,
               "redraw": false
              },
              "fromcurrent": true,
              "mode": "immediate",
              "transition": {
               "duration": 0,
               "easing": "linear"
              }
             }
            ],
            "label": "2008",
            "method": "animate"
           },
           {
            "args": [
             [
              "2009"
             ],
             {
              "frame": {
               "duration": 0,
               "redraw": false
              },
              "fromcurrent": true,
              "mode": "immediate",
              "transition": {
               "duration": 0,
               "easing": "linear"
              }
             }
            ],
            "label": "2009",
            "method": "animate"
           },
           {
            "args": [
             [
              "2010"
             ],
             {
              "frame": {
               "duration": 0,
               "redraw": false
              },
              "fromcurrent": true,
              "mode": "immediate",
              "transition": {
               "duration": 0,
               "easing": "linear"
              }
             }
            ],
            "label": "2010",
            "method": "animate"
           },
           {
            "args": [
             [
              "2011"
             ],
             {
              "frame": {
               "duration": 0,
               "redraw": false
              },
              "fromcurrent": true,
              "mode": "immediate",
              "transition": {
               "duration": 0,
               "easing": "linear"
              }
             }
            ],
            "label": "2011",
            "method": "animate"
           },
           {
            "args": [
             [
              "2012"
             ],
             {
              "frame": {
               "duration": 0,
               "redraw": false
              },
              "fromcurrent": true,
              "mode": "immediate",
              "transition": {
               "duration": 0,
               "easing": "linear"
              }
             }
            ],
            "label": "2012",
            "method": "animate"
           },
           {
            "args": [
             [
              "2013"
             ],
             {
              "frame": {
               "duration": 0,
               "redraw": false
              },
              "fromcurrent": true,
              "mode": "immediate",
              "transition": {
               "duration": 0,
               "easing": "linear"
              }
             }
            ],
            "label": "2013",
            "method": "animate"
           },
           {
            "args": [
             [
              "2014"
             ],
             {
              "frame": {
               "duration": 0,
               "redraw": false
              },
              "fromcurrent": true,
              "mode": "immediate",
              "transition": {
               "duration": 0,
               "easing": "linear"
              }
             }
            ],
            "label": "2014",
            "method": "animate"
           },
           {
            "args": [
             [
              "2015"
             ],
             {
              "frame": {
               "duration": 0,
               "redraw": false
              },
              "fromcurrent": true,
              "mode": "immediate",
              "transition": {
               "duration": 0,
               "easing": "linear"
              }
             }
            ],
            "label": "2015",
            "method": "animate"
           },
           {
            "args": [
             [
              "2016"
             ],
             {
              "frame": {
               "duration": 0,
               "redraw": false
              },
              "fromcurrent": true,
              "mode": "immediate",
              "transition": {
               "duration": 0,
               "easing": "linear"
              }
             }
            ],
            "label": "2016",
            "method": "animate"
           },
           {
            "args": [
             [
              "2017"
             ],
             {
              "frame": {
               "duration": 0,
               "redraw": false
              },
              "fromcurrent": true,
              "mode": "immediate",
              "transition": {
               "duration": 0,
               "easing": "linear"
              }
             }
            ],
            "label": "2017",
            "method": "animate"
           },
           {
            "args": [
             [
              "2018"
             ],
             {
              "frame": {
               "duration": 0,
               "redraw": false
              },
              "fromcurrent": true,
              "mode": "immediate",
              "transition": {
               "duration": 0,
               "easing": "linear"
              }
             }
            ],
            "label": "2018",
            "method": "animate"
           },
           {
            "args": [
             [
              "2019"
             ],
             {
              "frame": {
               "duration": 0,
               "redraw": false
              },
              "fromcurrent": true,
              "mode": "immediate",
              "transition": {
               "duration": 0,
               "easing": "linear"
              }
             }
            ],
            "label": "2019",
            "method": "animate"
           },
           {
            "args": [
             [
              "2020"
             ],
             {
              "frame": {
               "duration": 0,
               "redraw": false
              },
              "fromcurrent": true,
              "mode": "immediate",
              "transition": {
               "duration": 0,
               "easing": "linear"
              }
             }
            ],
            "label": "2020",
            "method": "animate"
           },
           {
            "args": [
             [
              "2021"
             ],
             {
              "frame": {
               "duration": 0,
               "redraw": false
              },
              "fromcurrent": true,
              "mode": "immediate",
              "transition": {
               "duration": 0,
               "easing": "linear"
              }
             }
            ],
            "label": "2021",
            "method": "animate"
           },
           {
            "args": [
             [
              "2022"
             ],
             {
              "frame": {
               "duration": 0,
               "redraw": false
              },
              "fromcurrent": true,
              "mode": "immediate",
              "transition": {
               "duration": 0,
               "easing": "linear"
              }
             }
            ],
            "label": "2022",
            "method": "animate"
           },
           {
            "args": [
             [
              "2023"
             ],
             {
              "frame": {
               "duration": 0,
               "redraw": false
              },
              "fromcurrent": true,
              "mode": "immediate",
              "transition": {
               "duration": 0,
               "easing": "linear"
              }
             }
            ],
            "label": "2023",
            "method": "animate"
           }
          ],
          "x": 0.1,
          "xanchor": "left",
          "y": 0,
          "yanchor": "top"
         }
        ],
        "template": {
         "data": {
          "bar": [
           {
            "error_x": {
             "color": "#2a3f5f"
            },
            "error_y": {
             "color": "#2a3f5f"
            },
            "marker": {
             "line": {
              "color": "#E5ECF6",
              "width": 0.5
             },
             "pattern": {
              "fillmode": "overlay",
              "size": 10,
              "solidity": 0.2
             }
            },
            "type": "bar"
           }
          ],
          "barpolar": [
           {
            "marker": {
             "line": {
              "color": "#E5ECF6",
              "width": 0.5
             },
             "pattern": {
              "fillmode": "overlay",
              "size": 10,
              "solidity": 0.2
             }
            },
            "type": "barpolar"
           }
          ],
          "carpet": [
           {
            "aaxis": {
             "endlinecolor": "#2a3f5f",
             "gridcolor": "white",
             "linecolor": "white",
             "minorgridcolor": "white",
             "startlinecolor": "#2a3f5f"
            },
            "baxis": {
             "endlinecolor": "#2a3f5f",
             "gridcolor": "white",
             "linecolor": "white",
             "minorgridcolor": "white",
             "startlinecolor": "#2a3f5f"
            },
            "type": "carpet"
           }
          ],
          "choropleth": [
           {
            "colorbar": {
             "outlinewidth": 0,
             "ticks": ""
            },
            "type": "choropleth"
           }
          ],
          "contour": [
           {
            "colorbar": {
             "outlinewidth": 0,
             "ticks": ""
            },
            "colorscale": [
             [
              0,
              "#0d0887"
             ],
             [
              0.1111111111111111,
              "#46039f"
             ],
             [
              0.2222222222222222,
              "#7201a8"
             ],
             [
              0.3333333333333333,
              "#9c179e"
             ],
             [
              0.4444444444444444,
              "#bd3786"
             ],
             [
              0.5555555555555556,
              "#d8576b"
             ],
             [
              0.6666666666666666,
              "#ed7953"
             ],
             [
              0.7777777777777778,
              "#fb9f3a"
             ],
             [
              0.8888888888888888,
              "#fdca26"
             ],
             [
              1,
              "#f0f921"
             ]
            ],
            "type": "contour"
           }
          ],
          "contourcarpet": [
           {
            "colorbar": {
             "outlinewidth": 0,
             "ticks": ""
            },
            "type": "contourcarpet"
           }
          ],
          "heatmap": [
           {
            "colorbar": {
             "outlinewidth": 0,
             "ticks": ""
            },
            "colorscale": [
             [
              0,
              "#0d0887"
             ],
             [
              0.1111111111111111,
              "#46039f"
             ],
             [
              0.2222222222222222,
              "#7201a8"
             ],
             [
              0.3333333333333333,
              "#9c179e"
             ],
             [
              0.4444444444444444,
              "#bd3786"
             ],
             [
              0.5555555555555556,
              "#d8576b"
             ],
             [
              0.6666666666666666,
              "#ed7953"
             ],
             [
              0.7777777777777778,
              "#fb9f3a"
             ],
             [
              0.8888888888888888,
              "#fdca26"
             ],
             [
              1,
              "#f0f921"
             ]
            ],
            "type": "heatmap"
           }
          ],
          "heatmapgl": [
           {
            "colorbar": {
             "outlinewidth": 0,
             "ticks": ""
            },
            "colorscale": [
             [
              0,
              "#0d0887"
             ],
             [
              0.1111111111111111,
              "#46039f"
             ],
             [
              0.2222222222222222,
              "#7201a8"
             ],
             [
              0.3333333333333333,
              "#9c179e"
             ],
             [
              0.4444444444444444,
              "#bd3786"
             ],
             [
              0.5555555555555556,
              "#d8576b"
             ],
             [
              0.6666666666666666,
              "#ed7953"
             ],
             [
              0.7777777777777778,
              "#fb9f3a"
             ],
             [
              0.8888888888888888,
              "#fdca26"
             ],
             [
              1,
              "#f0f921"
             ]
            ],
            "type": "heatmapgl"
           }
          ],
          "histogram": [
           {
            "marker": {
             "pattern": {
              "fillmode": "overlay",
              "size": 10,
              "solidity": 0.2
             }
            },
            "type": "histogram"
           }
          ],
          "histogram2d": [
           {
            "colorbar": {
             "outlinewidth": 0,
             "ticks": ""
            },
            "colorscale": [
             [
              0,
              "#0d0887"
             ],
             [
              0.1111111111111111,
              "#46039f"
             ],
             [
              0.2222222222222222,
              "#7201a8"
             ],
             [
              0.3333333333333333,
              "#9c179e"
             ],
             [
              0.4444444444444444,
              "#bd3786"
             ],
             [
              0.5555555555555556,
              "#d8576b"
             ],
             [
              0.6666666666666666,
              "#ed7953"
             ],
             [
              0.7777777777777778,
              "#fb9f3a"
             ],
             [
              0.8888888888888888,
              "#fdca26"
             ],
             [
              1,
              "#f0f921"
             ]
            ],
            "type": "histogram2d"
           }
          ],
          "histogram2dcontour": [
           {
            "colorbar": {
             "outlinewidth": 0,
             "ticks": ""
            },
            "colorscale": [
             [
              0,
              "#0d0887"
             ],
             [
              0.1111111111111111,
              "#46039f"
             ],
             [
              0.2222222222222222,
              "#7201a8"
             ],
             [
              0.3333333333333333,
              "#9c179e"
             ],
             [
              0.4444444444444444,
              "#bd3786"
             ],
             [
              0.5555555555555556,
              "#d8576b"
             ],
             [
              0.6666666666666666,
              "#ed7953"
             ],
             [
              0.7777777777777778,
              "#fb9f3a"
             ],
             [
              0.8888888888888888,
              "#fdca26"
             ],
             [
              1,
              "#f0f921"
             ]
            ],
            "type": "histogram2dcontour"
           }
          ],
          "mesh3d": [
           {
            "colorbar": {
             "outlinewidth": 0,
             "ticks": ""
            },
            "type": "mesh3d"
           }
          ],
          "parcoords": [
           {
            "line": {
             "colorbar": {
              "outlinewidth": 0,
              "ticks": ""
             }
            },
            "type": "parcoords"
           }
          ],
          "pie": [
           {
            "automargin": true,
            "type": "pie"
           }
          ],
          "scatter": [
           {
            "fillpattern": {
             "fillmode": "overlay",
             "size": 10,
             "solidity": 0.2
            },
            "type": "scatter"
           }
          ],
          "scatter3d": [
           {
            "line": {
             "colorbar": {
              "outlinewidth": 0,
              "ticks": ""
             }
            },
            "marker": {
             "colorbar": {
              "outlinewidth": 0,
              "ticks": ""
             }
            },
            "type": "scatter3d"
           }
          ],
          "scattercarpet": [
           {
            "marker": {
             "colorbar": {
              "outlinewidth": 0,
              "ticks": ""
             }
            },
            "type": "scattercarpet"
           }
          ],
          "scattergeo": [
           {
            "marker": {
             "colorbar": {
              "outlinewidth": 0,
              "ticks": ""
             }
            },
            "type": "scattergeo"
           }
          ],
          "scattergl": [
           {
            "marker": {
             "colorbar": {
              "outlinewidth": 0,
              "ticks": ""
             }
            },
            "type": "scattergl"
           }
          ],
          "scattermapbox": [
           {
            "marker": {
             "colorbar": {
              "outlinewidth": 0,
              "ticks": ""
             }
            },
            "type": "scattermapbox"
           }
          ],
          "scatterpolar": [
           {
            "marker": {
             "colorbar": {
              "outlinewidth": 0,
              "ticks": ""
             }
            },
            "type": "scatterpolar"
           }
          ],
          "scatterpolargl": [
           {
            "marker": {
             "colorbar": {
              "outlinewidth": 0,
              "ticks": ""
             }
            },
            "type": "scatterpolargl"
           }
          ],
          "scatterternary": [
           {
            "marker": {
             "colorbar": {
              "outlinewidth": 0,
              "ticks": ""
             }
            },
            "type": "scatterternary"
           }
          ],
          "surface": [
           {
            "colorbar": {
             "outlinewidth": 0,
             "ticks": ""
            },
            "colorscale": [
             [
              0,
              "#0d0887"
             ],
             [
              0.1111111111111111,
              "#46039f"
             ],
             [
              0.2222222222222222,
              "#7201a8"
             ],
             [
              0.3333333333333333,
              "#9c179e"
             ],
             [
              0.4444444444444444,
              "#bd3786"
             ],
             [
              0.5555555555555556,
              "#d8576b"
             ],
             [
              0.6666666666666666,
              "#ed7953"
             ],
             [
              0.7777777777777778,
              "#fb9f3a"
             ],
             [
              0.8888888888888888,
              "#fdca26"
             ],
             [
              1,
              "#f0f921"
             ]
            ],
            "type": "surface"
           }
          ],
          "table": [
           {
            "cells": {
             "fill": {
              "color": "#EBF0F8"
             },
             "line": {
              "color": "white"
             }
            },
            "header": {
             "fill": {
              "color": "#C8D4E3"
             },
             "line": {
              "color": "white"
             }
            },
            "type": "table"
           }
          ]
         },
         "layout": {
          "annotationdefaults": {
           "arrowcolor": "#2a3f5f",
           "arrowhead": 0,
           "arrowwidth": 1
          },
          "autotypenumbers": "strict",
          "coloraxis": {
           "colorbar": {
            "outlinewidth": 0,
            "ticks": ""
           }
          },
          "colorscale": {
           "diverging": [
            [
             0,
             "#8e0152"
            ],
            [
             0.1,
             "#c51b7d"
            ],
            [
             0.2,
             "#de77ae"
            ],
            [
             0.3,
             "#f1b6da"
            ],
            [
             0.4,
             "#fde0ef"
            ],
            [
             0.5,
             "#f7f7f7"
            ],
            [
             0.6,
             "#e6f5d0"
            ],
            [
             0.7,
             "#b8e186"
            ],
            [
             0.8,
             "#7fbc41"
            ],
            [
             0.9,
             "#4d9221"
            ],
            [
             1,
             "#276419"
            ]
           ],
           "sequential": [
            [
             0,
             "#0d0887"
            ],
            [
             0.1111111111111111,
             "#46039f"
            ],
            [
             0.2222222222222222,
             "#7201a8"
            ],
            [
             0.3333333333333333,
             "#9c179e"
            ],
            [
             0.4444444444444444,
             "#bd3786"
            ],
            [
             0.5555555555555556,
             "#d8576b"
            ],
            [
             0.6666666666666666,
             "#ed7953"
            ],
            [
             0.7777777777777778,
             "#fb9f3a"
            ],
            [
             0.8888888888888888,
             "#fdca26"
            ],
            [
             1,
             "#f0f921"
            ]
           ],
           "sequentialminus": [
            [
             0,
             "#0d0887"
            ],
            [
             0.1111111111111111,
             "#46039f"
            ],
            [
             0.2222222222222222,
             "#7201a8"
            ],
            [
             0.3333333333333333,
             "#9c179e"
            ],
            [
             0.4444444444444444,
             "#bd3786"
            ],
            [
             0.5555555555555556,
             "#d8576b"
            ],
            [
             0.6666666666666666,
             "#ed7953"
            ],
            [
             0.7777777777777778,
             "#fb9f3a"
            ],
            [
             0.8888888888888888,
             "#fdca26"
            ],
            [
             1,
             "#f0f921"
            ]
           ]
          },
          "colorway": [
           "#636efa",
           "#EF553B",
           "#00cc96",
           "#ab63fa",
           "#FFA15A",
           "#19d3f3",
           "#FF6692",
           "#B6E880",
           "#FF97FF",
           "#FECB52"
          ],
          "font": {
           "color": "#2a3f5f"
          },
          "geo": {
           "bgcolor": "white",
           "lakecolor": "white",
           "landcolor": "#E5ECF6",
           "showlakes": true,
           "showland": true,
           "subunitcolor": "white"
          },
          "hoverlabel": {
           "align": "left"
          },
          "hovermode": "closest",
          "mapbox": {
           "style": "light"
          },
          "paper_bgcolor": "white",
          "plot_bgcolor": "#E5ECF6",
          "polar": {
           "angularaxis": {
            "gridcolor": "white",
            "linecolor": "white",
            "ticks": ""
           },
           "bgcolor": "#E5ECF6",
           "radialaxis": {
            "gridcolor": "white",
            "linecolor": "white",
            "ticks": ""
           }
          },
          "scene": {
           "xaxis": {
            "backgroundcolor": "#E5ECF6",
            "gridcolor": "white",
            "gridwidth": 2,
            "linecolor": "white",
            "showbackground": true,
            "ticks": "",
            "zerolinecolor": "white"
           },
           "yaxis": {
            "backgroundcolor": "#E5ECF6",
            "gridcolor": "white",
            "gridwidth": 2,
            "linecolor": "white",
            "showbackground": true,
            "ticks": "",
            "zerolinecolor": "white"
           },
           "zaxis": {
            "backgroundcolor": "#E5ECF6",
            "gridcolor": "white",
            "gridwidth": 2,
            "linecolor": "white",
            "showbackground": true,
            "ticks": "",
            "zerolinecolor": "white"
           }
          },
          "shapedefaults": {
           "line": {
            "color": "#2a3f5f"
           }
          },
          "ternary": {
           "aaxis": {
            "gridcolor": "white",
            "linecolor": "white",
            "ticks": ""
           },
           "baxis": {
            "gridcolor": "white",
            "linecolor": "white",
            "ticks": ""
           },
           "bgcolor": "#E5ECF6",
           "caxis": {
            "gridcolor": "white",
            "linecolor": "white",
            "ticks": ""
           }
          },
          "title": {
           "x": 0.05
          },
          "xaxis": {
           "automargin": true,
           "gridcolor": "white",
           "linecolor": "white",
           "ticks": "",
           "title": {
            "standoff": 15
           },
           "zerolinecolor": "white",
           "zerolinewidth": 2
          },
          "yaxis": {
           "automargin": true,
           "gridcolor": "white",
           "linecolor": "white",
           "ticks": "",
           "title": {
            "standoff": 15
           },
           "zerolinecolor": "white",
           "zerolinewidth": 2
          }
         }
        },
        "title": {
         "text": "Life Expectancy, Under-5 Mortality, and Adolescent Fertility Rate Over Time"
        },
        "updatemenus": [
         {
          "buttons": [
           {
            "args": [
             null,
             {
              "frame": {
               "duration": 500,
               "redraw": false
              },
              "fromcurrent": true,
              "mode": "immediate",
              "transition": {
               "duration": 500,
               "easing": "linear"
              }
             }
            ],
            "label": "&#9654;",
            "method": "animate"
           },
           {
            "args": [
             [
              null
             ],
             {
              "frame": {
               "duration": 0,
               "redraw": false
              },
              "fromcurrent": true,
              "mode": "immediate",
              "transition": {
               "duration": 0,
               "easing": "linear"
              }
             }
            ],
            "label": "&#9724;",
            "method": "animate"
           }
          ],
          "direction": "left",
          "pad": {
           "r": 10,
           "t": 70
          },
          "showactive": false,
          "type": "buttons",
          "x": 0.1,
          "xanchor": "right",
          "y": 0,
          "yanchor": "top"
         }
        ],
        "xaxis": {
         "anchor": "y",
         "domain": [
          0,
          1
         ],
         "title": {
          "text": "Under-5 Mortality Rate"
         }
        },
        "yaxis": {
         "anchor": "x",
         "domain": [
          0,
          1
         ],
         "title": {
          "text": "Adolescent Fertility Rate"
         }
        }
       }
      }
     },
     "metadata": {},
     "output_type": "display_data"
    }
   ],
   "source": [
    "# Create an animated scatter plot/bubble chart\n",
    "\n",
    "fig = px.scatter(\n",
    "    df,\n",
    "    x = \"under5_mortality\",\n",
    "    y = \"adolescent_fertility\",\n",
    "    title = \"Life Expectancy, Under-5 Mortality, and Adolescent Fertility Rate Over Time\",\n",
    "    size = 'life_expectancy_norm',\n",
    "    color = 'country',\n",
    "    color_discrete_map = {\n",
    "        'Brazil': '#1f77b4',\n",
    "        'India': '#ff7f0e',\n",
    "        'Kenya': 'green',\n",
    "        'United Kingdom': 'red',\n",
    "        'United States': '#9467bd'\n",
    "    },\n",
    "    hover_name = 'country',\n",
    "    size_max = 60,\n",
    "    animation_frame = 'year',\n",
    "    animation_group ='country',\n",
    "    labels={\n",
    "        \"under5_mortality\": \"Under-5 Mortality Rate\",\n",
    "        \"adolescent_fertility\": \"Adolescent Fertility Rate\",\n",
    "        \"life_expectancy_norm\": \"Life Expectancy (Normalized)\"\n",
    "    }\n",
    ")\n",
    "\n",
    "fig.show()"
   ]
  }
 ],
 "metadata": {
  "kernelspec": {
   "display_name": "base",
   "language": "python",
   "name": "python3"
  },
  "language_info": {
   "codemirror_mode": {
    "name": "ipython",
    "version": 3
   },
   "file_extension": ".py",
   "mimetype": "text/x-python",
   "name": "python",
   "nbconvert_exporter": "python",
   "pygments_lexer": "ipython3",
   "version": "3.12.2"
  }
 },
 "nbformat": 4,
 "nbformat_minor": 5
}
