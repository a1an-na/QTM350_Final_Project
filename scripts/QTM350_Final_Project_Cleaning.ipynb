{
  "cells": [
    {
      "cell_type": "code",
      "execution_count": 2,
      "metadata": {
        "colab": {
          "base_uri": "https://localhost:8080/"
        },
        "id": "gmIkjnrEX-WS",
        "outputId": "26ef12e3-afbb-4576-eb3a-785ee02f0da9"
      },
      "outputs": [
        {
          "name": "stdout",
          "output_type": "stream",
          "text": [
            "Collecting wbdata\n",
            "  Downloading wbdata-1.0.0-py3-none-any.whl.metadata (2.6 kB)\n",
            "Collecting duckdb\n",
            "  Downloading duckdb-1.3.1-cp312-cp312-macosx_12_0_arm64.whl.metadata (7.0 kB)\n",
            "Requirement already satisfied: appdirs<2.0,>=1.4 in /opt/anaconda3/lib/python3.12/site-packages (from wbdata) (1.4.4)\n",
            "Collecting backoff<3.0.0,>=2.2.1 (from wbdata)\n",
            "  Downloading backoff-2.2.1-py3-none-any.whl.metadata (14 kB)\n",
            "Requirement already satisfied: cachetools<6.0.0,>=5.3.2 in /opt/anaconda3/lib/python3.12/site-packages (from wbdata) (5.3.3)\n",
            "Collecting dateparser<2.0.0,>=1.2.0 (from wbdata)\n",
            "  Downloading dateparser-1.2.1-py3-none-any.whl.metadata (29 kB)\n",
            "Requirement already satisfied: decorator<6.0.0,>=5.1.1 in /opt/anaconda3/lib/python3.12/site-packages (from wbdata) (5.1.1)\n",
            "Requirement already satisfied: requests<3.0,>=2.0 in /opt/anaconda3/lib/python3.12/site-packages (from wbdata) (2.32.3)\n",
            "Collecting shelved-cache<0.4.0,>=0.3.1 (from wbdata)\n",
            "  Downloading shelved_cache-0.3.1-py3-none-any.whl.metadata (4.7 kB)\n",
            "Collecting tabulate<0.9.0,>=0.8.5 (from wbdata)\n",
            "  Downloading tabulate-0.8.10-py3-none-any.whl.metadata (25 kB)\n",
            "Requirement already satisfied: python-dateutil>=2.7.0 in /opt/anaconda3/lib/python3.12/site-packages (from dateparser<2.0.0,>=1.2.0->wbdata) (2.9.0.post0)\n",
            "Collecting pytz>=2024.2 (from dateparser<2.0.0,>=1.2.0->wbdata)\n",
            "  Using cached pytz-2025.2-py2.py3-none-any.whl.metadata (22 kB)\n",
            "Requirement already satisfied: regex!=2019.02.19,!=2021.8.27,>=2015.06.24 in /opt/anaconda3/lib/python3.12/site-packages (from dateparser<2.0.0,>=1.2.0->wbdata) (2024.9.11)\n",
            "Requirement already satisfied: tzlocal>=0.2 in /opt/anaconda3/lib/python3.12/site-packages (from dateparser<2.0.0,>=1.2.0->wbdata) (5.3.1)\n",
            "Requirement already satisfied: charset-normalizer<4,>=2 in /opt/anaconda3/lib/python3.12/site-packages (from requests<3.0,>=2.0->wbdata) (3.3.2)\n",
            "Requirement already satisfied: idna<4,>=2.5 in /opt/anaconda3/lib/python3.12/site-packages (from requests<3.0,>=2.0->wbdata) (3.7)\n",
            "Requirement already satisfied: urllib3<3,>=1.21.1 in /opt/anaconda3/lib/python3.12/site-packages (from requests<3.0,>=2.0->wbdata) (2.2.3)\n",
            "Requirement already satisfied: certifi>=2017.4.17 in /opt/anaconda3/lib/python3.12/site-packages (from requests<3.0,>=2.0->wbdata) (2025.6.15)\n",
            "Requirement already satisfied: six>=1.5 in /opt/anaconda3/lib/python3.12/site-packages (from python-dateutil>=2.7.0->dateparser<2.0.0,>=1.2.0->wbdata) (1.16.0)\n",
            "Downloading wbdata-1.0.0-py3-none-any.whl (18 kB)\n",
            "Downloading duckdb-1.3.1-cp312-cp312-macosx_12_0_arm64.whl (15.5 MB)\n",
            "\u001b[2K   \u001b[90m━━━━━━━━━━━━━━━━━━━━━━━━━━━━━━━━━━━━━━━━\u001b[0m \u001b[32m15.5/15.5 MB\u001b[0m \u001b[31m14.7 MB/s\u001b[0m eta \u001b[36m0:00:00\u001b[0m00:01\u001b[0m00:01\u001b[0m\n",
            "\u001b[?25hDownloading backoff-2.2.1-py3-none-any.whl (15 kB)\n",
            "Downloading dateparser-1.2.1-py3-none-any.whl (295 kB)\n",
            "Downloading shelved_cache-0.3.1-py3-none-any.whl (7.8 kB)\n",
            "Downloading tabulate-0.8.10-py3-none-any.whl (29 kB)\n",
            "Using cached pytz-2025.2-py2.py3-none-any.whl (509 kB)\n",
            "Installing collected packages: pytz, tabulate, shelved-cache, duckdb, backoff, dateparser, wbdata\n",
            "  Attempting uninstall: pytz\n",
            "    Found existing installation: pytz 2024.1\n",
            "    Uninstalling pytz-2024.1:\n",
            "      Successfully uninstalled pytz-2024.1\n",
            "  Attempting uninstall: tabulate\n",
            "    Found existing installation: tabulate 0.9.0\n",
            "    Uninstalling tabulate-0.9.0:\n",
            "      Successfully uninstalled tabulate-0.9.0\n",
            "Successfully installed backoff-2.2.1 dateparser-1.2.1 duckdb-1.3.1 pytz-2025.2 shelved-cache-0.3.1 tabulate-0.8.10 wbdata-1.0.0\n"
          ]
        }
      ],
      "source": [
        "!pip install wbdata duckdb\n",
        "\n",
        "import wbdata\n",
        "import duckdb\n",
        "import pandas as pd\n",
        "import datetime\n",
        "countries = ['USA', 'GB', 'IN', 'KE', 'BR']\n",
        "\n",
        "indicators = {\n",
        "    'SP.DYN.LE00.IN': 'life_expectancy',\n",
        "    'SH.DYN.MORT': 'under5_mortality',\n",
        "    'SP.ADO.TFRT': 'adolescent_fertility',\n",
        "    'SE.SEC.ENRR': 'secondary_school_enrollment'\n",
        "}\n",
        "\n",
        "df = wbdata.get_dataframe(indicators, country=countries)\n",
        "df = df.reset_index()\n",
        "\n",
        "df['year'] = pd.to_datetime(df['date']).dt.year\n",
        "\n",
        "df = df[(df['year'] >= 2000) & (df['year'] <= 2023)]"
      ]
    },
    {
      "cell_type": "code",
      "execution_count": null,
      "metadata": {
        "colab": {
          "base_uri": "https://localhost:8080/",
          "height": 206
        },
        "id": "7RNmIbKbYOXd",
        "outputId": "d112bed9-8a39-4c49-962a-b6a51c4e1cf4"
      },
      "outputs": [
        {
          "data": {
            "application/vnd.microsoft.datawrangler.viewer.v0+json": {
              "columns": [
                {
                  "name": "index",
                  "rawType": "int64",
                  "type": "integer"
                },
                {
                  "name": "country",
                  "rawType": "object",
                  "type": "string"
                },
                {
                  "name": "year",
                  "rawType": "int32",
                  "type": "integer"
                },
                {
                  "name": "life_expectancy",
                  "rawType": "float64",
                  "type": "float"
                },
                {
                  "name": "under5_mortality",
                  "rawType": "float64",
                  "type": "float"
                },
                {
                  "name": "adolescent_fertility",
                  "rawType": "float64",
                  "type": "float"
                },
                {
                  "name": "secondary_school_enrollment",
                  "rawType": "float64",
                  "type": "float"
                }
              ],
              "ref": "749f3374-598b-45f3-bd16-16de58b9bf2e",
              "rows": [
                [
                  "0",
                  "Brazil",
                  "2000",
                  "69.584",
                  "34.5",
                  "85.611",
                  null
                ],
                [
                  "1",
                  "Brazil",
                  "2001",
                  "69.98",
                  "32.2",
                  "84.155",
                  null
                ],
                [
                  "2",
                  "Brazil",
                  "2002",
                  "70.396",
                  "30.1",
                  "81.131",
                  null
                ],
                [
                  "3",
                  "Brazil",
                  "2003",
                  "70.884",
                  "28.1",
                  "78.025",
                  null
                ],
                [
                  "4",
                  "Brazil",
                  "2004",
                  "71.361",
                  "26.3",
                  "76.9",
                  null
                ],
                [
                  "5",
                  "Brazil",
                  "2005",
                  "71.832",
                  "24.6",
                  "75.968",
                  null
                ],
                [
                  "6",
                  "Brazil",
                  "2006",
                  "72.296",
                  "23.1",
                  "73.845",
                  null
                ],
                [
                  "7",
                  "Brazil",
                  "2007",
                  "72.73",
                  "21.7",
                  "71.698",
                  null
                ],
                [
                  "8",
                  "Brazil",
                  "2008",
                  "73.111",
                  "20.5",
                  "69.141",
                  null
                ],
                [
                  "9",
                  "Brazil",
                  "2009",
                  "73.457",
                  "19.5",
                  "67.334",
                  null
                ],
                [
                  "10",
                  "Brazil",
                  "2010",
                  "73.779",
                  "18.6",
                  "65.474",
                  null
                ],
                [
                  "11",
                  "Brazil",
                  "2011",
                  "74.047",
                  "17.9",
                  "64.773",
                  null
                ],
                [
                  "12",
                  "Brazil",
                  "2012",
                  "74.335",
                  "17.2",
                  "64.285",
                  "94.3209762573242"
                ],
                [
                  "13",
                  "Brazil",
                  "2013",
                  "74.609",
                  "16.7",
                  "63.947",
                  "103.917678833008"
                ],
                [
                  "14",
                  "Brazil",
                  "2014",
                  "74.823",
                  "16.3",
                  "63.365",
                  "102.635528564453"
                ],
                [
                  "15",
                  "Brazil",
                  "2015",
                  "75.106",
                  "16.0",
                  "61.779",
                  "100.920516967773"
                ],
                [
                  "16",
                  "Brazil",
                  "2016",
                  "75.081",
                  "16.8",
                  "58.372",
                  "102.569511413574"
                ],
                [
                  "17",
                  "Brazil",
                  "2017",
                  "75.383",
                  "15.4",
                  "56.558",
                  "103.015960693359"
                ],
                [
                  "18",
                  "Brazil",
                  "2018",
                  "75.633",
                  "15.2",
                  "54.287",
                  "105.00707244873"
                ],
                [
                  "19",
                  "Brazil",
                  "2019",
                  "75.809",
                  "15.0",
                  "50.958",
                  "103.953277587891"
                ],
                [
                  "20",
                  "Brazil",
                  "2020",
                  "74.506",
                  "14.9",
                  "47.46",
                  "104.125999450684"
                ],
                [
                  "21",
                  "Brazil",
                  "2021",
                  "73.038",
                  "14.7",
                  "45.67",
                  "106.651901245117"
                ],
                [
                  "22",
                  "Brazil",
                  "2022",
                  "74.872",
                  "14.6",
                  "42.881",
                  "106.031188964844"
                ],
                [
                  "23",
                  "Brazil",
                  "2023",
                  "75.848",
                  "14.4",
                  "42.686",
                  null
                ],
                [
                  "24",
                  "India",
                  "2000",
                  "62.749",
                  "91.6",
                  "114.352",
                  "45.4210510253906"
                ],
                [
                  "25",
                  "India",
                  "2001",
                  "63.158",
                  "88.0",
                  "112.043",
                  "48.0781288146973"
                ],
                [
                  "26",
                  "India",
                  "2002",
                  "63.649",
                  "84.5",
                  "105.119",
                  "49.2973213195801"
                ],
                [
                  "27",
                  "India",
                  "2003",
                  "64.086",
                  "81.1",
                  "97.366",
                  "51.9028091430664"
                ],
                [
                  "28",
                  "India",
                  "2004",
                  "64.484",
                  "77.7",
                  "83.5",
                  "53.6583099365234"
                ],
                [
                  "29",
                  "India",
                  "2005",
                  "64.939",
                  "74.4",
                  "64.678",
                  "56.3279800415039"
                ],
                [
                  "30",
                  "India",
                  "2006",
                  "65.373",
                  "71.1",
                  "55.76",
                  "57.2240791320801"
                ],
                [
                  "31",
                  "India",
                  "2007",
                  "65.803",
                  "67.9",
                  "51.987",
                  "59.5899810791016"
                ],
                [
                  "32",
                  "India",
                  "2008",
                  "66.247",
                  "64.6",
                  "54.289",
                  "62.6794281005859"
                ],
                [
                  "33",
                  "India",
                  "2009",
                  "66.7",
                  "61.4",
                  "46.696",
                  "61.8002281188965"
                ],
                [
                  "34",
                  "India",
                  "2010",
                  "67.162",
                  "58.2",
                  "41.719",
                  "65.3513488769531"
                ],
                [
                  "35",
                  "India",
                  "2011",
                  "67.623",
                  "55.0",
                  "40.795",
                  "68.5910110473633"
                ],
                [
                  "36",
                  "India",
                  "2012",
                  "68.076",
                  "52.0",
                  "39.533",
                  "70.3243865966797"
                ],
                [
                  "37",
                  "India",
                  "2013",
                  "68.499",
                  "49.1",
                  "35.326",
                  "69.9568023681641"
                ],
                [
                  "38",
                  "India",
                  "2014",
                  "68.932",
                  "46.3",
                  "28.806",
                  "75.3183288574219"
                ],
                [
                  "39",
                  "India",
                  "2015",
                  "69.326",
                  "43.6",
                  "18.194",
                  "74.9483337402344"
                ],
                [
                  "40",
                  "India",
                  "2016",
                  "69.709",
                  "41.1",
                  "14.535",
                  "76.119987487793"
                ],
                [
                  "41",
                  "India",
                  "2017",
                  "70.068",
                  "38.7",
                  "15.166",
                  "74.5972671508789"
                ],
                [
                  "42",
                  "India",
                  "2018",
                  "70.415",
                  "36.4",
                  "15.133",
                  "75.7847900390625"
                ],
                [
                  "43",
                  "India",
                  "2019",
                  "70.746",
                  "34.3",
                  "14.796",
                  "75.5255813598633"
                ],
                [
                  "44",
                  "India",
                  "2020",
                  "70.156",
                  "32.4",
                  "14.423",
                  "77.6271551845716"
                ],
                [
                  "45",
                  "India",
                  "2021",
                  "67.282",
                  "30.6",
                  "14.289",
                  "80.6246396929286"
                ],
                [
                  "46",
                  "India",
                  "2022",
                  "71.698",
                  "29.1",
                  "14.185",
                  "81.1778611796872"
                ],
                [
                  "47",
                  "India",
                  "2023",
                  "72.003",
                  "27.7",
                  "14.06",
                  "78.863958593161"
                ],
                [
                  "48",
                  "Kenya",
                  "2000",
                  "56.084",
                  "96.3",
                  "121.104",
                  "40.3647918701172"
                ],
                [
                  "49",
                  "Kenya",
                  "2001",
                  "56.501",
                  "91.6",
                  "123.253",
                  "41.158561706543"
                ]
              ],
              "shape": {
                "columns": 6,
                "rows": 120
              }
            },
            "text/html": [
              "<div>\n",
              "<style scoped>\n",
              "    .dataframe tbody tr th:only-of-type {\n",
              "        vertical-align: middle;\n",
              "    }\n",
              "\n",
              "    .dataframe tbody tr th {\n",
              "        vertical-align: top;\n",
              "    }\n",
              "\n",
              "    .dataframe thead th {\n",
              "        text-align: right;\n",
              "    }\n",
              "</style>\n",
              "<table border=\"1\" class=\"dataframe\">\n",
              "  <thead>\n",
              "    <tr style=\"text-align: right;\">\n",
              "      <th></th>\n",
              "      <th>country</th>\n",
              "      <th>year</th>\n",
              "      <th>life_expectancy</th>\n",
              "      <th>under5_mortality</th>\n",
              "      <th>adolescent_fertility</th>\n",
              "      <th>secondary_school_enrollment</th>\n",
              "    </tr>\n",
              "  </thead>\n",
              "  <tbody>\n",
              "    <tr>\n",
              "      <th>0</th>\n",
              "      <td>Brazil</td>\n",
              "      <td>2000</td>\n",
              "      <td>69.584000</td>\n",
              "      <td>34.5</td>\n",
              "      <td>85.611</td>\n",
              "      <td>NaN</td>\n",
              "    </tr>\n",
              "    <tr>\n",
              "      <th>1</th>\n",
              "      <td>Brazil</td>\n",
              "      <td>2001</td>\n",
              "      <td>69.980000</td>\n",
              "      <td>32.2</td>\n",
              "      <td>84.155</td>\n",
              "      <td>NaN</td>\n",
              "    </tr>\n",
              "    <tr>\n",
              "      <th>2</th>\n",
              "      <td>Brazil</td>\n",
              "      <td>2002</td>\n",
              "      <td>70.396000</td>\n",
              "      <td>30.1</td>\n",
              "      <td>81.131</td>\n",
              "      <td>NaN</td>\n",
              "    </tr>\n",
              "    <tr>\n",
              "      <th>3</th>\n",
              "      <td>Brazil</td>\n",
              "      <td>2003</td>\n",
              "      <td>70.884000</td>\n",
              "      <td>28.1</td>\n",
              "      <td>78.025</td>\n",
              "      <td>NaN</td>\n",
              "    </tr>\n",
              "    <tr>\n",
              "      <th>4</th>\n",
              "      <td>Brazil</td>\n",
              "      <td>2004</td>\n",
              "      <td>71.361000</td>\n",
              "      <td>26.3</td>\n",
              "      <td>76.900</td>\n",
              "      <td>NaN</td>\n",
              "    </tr>\n",
              "    <tr>\n",
              "      <th>...</th>\n",
              "      <td>...</td>\n",
              "      <td>...</td>\n",
              "      <td>...</td>\n",
              "      <td>...</td>\n",
              "      <td>...</td>\n",
              "      <td>...</td>\n",
              "    </tr>\n",
              "    <tr>\n",
              "      <th>115</th>\n",
              "      <td>United States</td>\n",
              "      <td>2019</td>\n",
              "      <td>78.787805</td>\n",
              "      <td>6.5</td>\n",
              "      <td>16.202</td>\n",
              "      <td>100.063431</td>\n",
              "    </tr>\n",
              "    <tr>\n",
              "      <th>116</th>\n",
              "      <td>United States</td>\n",
              "      <td>2020</td>\n",
              "      <td>76.980488</td>\n",
              "      <td>6.5</td>\n",
              "      <td>14.719</td>\n",
              "      <td>100.509819</td>\n",
              "    </tr>\n",
              "    <tr>\n",
              "      <th>117</th>\n",
              "      <td>United States</td>\n",
              "      <td>2021</td>\n",
              "      <td>76.329268</td>\n",
              "      <td>6.5</td>\n",
              "      <td>13.724</td>\n",
              "      <td>101.192490</td>\n",
              "    </tr>\n",
              "    <tr>\n",
              "      <th>118</th>\n",
              "      <td>United States</td>\n",
              "      <td>2022</td>\n",
              "      <td>77.434146</td>\n",
              "      <td>6.5</td>\n",
              "      <td>13.628</td>\n",
              "      <td>97.473488</td>\n",
              "    </tr>\n",
              "    <tr>\n",
              "      <th>119</th>\n",
              "      <td>United States</td>\n",
              "      <td>2023</td>\n",
              "      <td>78.385366</td>\n",
              "      <td>6.5</td>\n",
              "      <td>13.145</td>\n",
              "      <td>NaN</td>\n",
              "    </tr>\n",
              "  </tbody>\n",
              "</table>\n",
              "<p>120 rows × 6 columns</p>\n",
              "</div>"
            ],
            "text/plain": [
              "           country  year  life_expectancy  under5_mortality  \\\n",
              "0           Brazil  2000        69.584000              34.5   \n",
              "1           Brazil  2001        69.980000              32.2   \n",
              "2           Brazil  2002        70.396000              30.1   \n",
              "3           Brazil  2003        70.884000              28.1   \n",
              "4           Brazil  2004        71.361000              26.3   \n",
              "..             ...   ...              ...               ...   \n",
              "115  United States  2019        78.787805               6.5   \n",
              "116  United States  2020        76.980488               6.5   \n",
              "117  United States  2021        76.329268               6.5   \n",
              "118  United States  2022        77.434146               6.5   \n",
              "119  United States  2023        78.385366               6.5   \n",
              "\n",
              "     adolescent_fertility  secondary_school_enrollment  \n",
              "0                  85.611                          NaN  \n",
              "1                  84.155                          NaN  \n",
              "2                  81.131                          NaN  \n",
              "3                  78.025                          NaN  \n",
              "4                  76.900                          NaN  \n",
              "..                    ...                          ...  \n",
              "115                16.202                   100.063431  \n",
              "116                14.719                   100.509819  \n",
              "117                13.724                   101.192490  \n",
              "118                13.628                    97.473488  \n",
              "119                13.145                          NaN  \n",
              "\n",
              "[120 rows x 6 columns]"
            ]
          },
          "execution_count": 6,
          "metadata": {},
          "output_type": "execute_result"
        }
      ],
      "source": [
        "duckdb.sql(\"CREATE OR REPLACE VIEW wdi_raw AS SELECT * FROM df\")\n",
        "\n",
        "df_clean = duckdb.sql(\"\"\"\n",
        "SELECT\n",
        "  country,\n",
        "  year,\n",
        "  MAX(life_expectancy) AS life_expectancy,\n",
        "  MAX(under5_mortality) AS under5_mortality,\n",
        "  MAX(adolescent_fertility) AS adolescent_fertility,\n",
        "  MAX(secondary_school_enrollment) AS secondary_school_enrollment\n",
        "FROM wdi_raw\n",
        "GROUP BY country, year\n",
        "ORDER BY country, year\n",
        "\"\"\").df()\n",
        "\n",
        "df_clean.head()"
      ]
    },
    {
      "cell_type": "code",
      "execution_count": 8,
      "metadata": {},
      "outputs": [],
      "source": [
        "df_clean.to_csv(\"population_dynamics_clean.csv\", index=False)"
      ]
    }
  ],
  "metadata": {
    "colab": {
      "provenance": []
    },
    "kernelspec": {
      "display_name": "base",
      "language": "python",
      "name": "python3"
    },
    "language_info": {
      "codemirror_mode": {
        "name": "ipython",
        "version": 3
      },
      "file_extension": ".py",
      "mimetype": "text/x-python",
      "name": "python",
      "nbconvert_exporter": "python",
      "pygments_lexer": "ipython3",
      "version": "3.12.2"
    }
  },
  "nbformat": 4,
  "nbformat_minor": 0
}
