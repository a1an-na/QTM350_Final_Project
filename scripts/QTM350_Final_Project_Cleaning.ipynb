{
  "cells": [
    {
      "cell_type": "code",
      "execution_count": 2,
      "metadata": {
        "colab": {
          "base_uri": "https://localhost:8080/"
        },
        "id": "gmIkjnrEX-WS",
        "outputId": "26ef12e3-afbb-4576-eb3a-785ee02f0da9"
      },
      "outputs": [
        {
          "name": "stdout",
          "output_type": "stream",
          "text": [
            "Requirement already satisfied: wbdata in /opt/anaconda3/lib/python3.12/site-packages (1.0.0)\n",
            "Requirement already satisfied: duckdb in /opt/anaconda3/lib/python3.12/site-packages (1.3.1)\n",
            "Requirement already satisfied: appdirs<2.0,>=1.4 in /opt/anaconda3/lib/python3.12/site-packages (from wbdata) (1.4.4)\n",
            "Requirement already satisfied: backoff<3.0.0,>=2.2.1 in /opt/anaconda3/lib/python3.12/site-packages (from wbdata) (2.2.1)\n",
            "Requirement already satisfied: cachetools<6.0.0,>=5.3.2 in /opt/anaconda3/lib/python3.12/site-packages (from wbdata) (5.3.3)\n",
            "Requirement already satisfied: dateparser<2.0.0,>=1.2.0 in /opt/anaconda3/lib/python3.12/site-packages (from wbdata) (1.2.1)\n",
            "Requirement already satisfied: decorator<6.0.0,>=5.1.1 in /opt/anaconda3/lib/python3.12/site-packages (from wbdata) (5.1.1)\n",
            "Requirement already satisfied: requests<3.0,>=2.0 in /opt/anaconda3/lib/python3.12/site-packages (from wbdata) (2.32.3)\n",
            "Requirement already satisfied: shelved-cache<0.4.0,>=0.3.1 in /opt/anaconda3/lib/python3.12/site-packages (from wbdata) (0.3.1)\n",
            "Requirement already satisfied: tabulate<0.9.0,>=0.8.5 in /opt/anaconda3/lib/python3.12/site-packages (from wbdata) (0.8.10)\n",
            "Requirement already satisfied: python-dateutil>=2.7.0 in /opt/anaconda3/lib/python3.12/site-packages (from dateparser<2.0.0,>=1.2.0->wbdata) (2.9.0.post0)\n",
            "Requirement already satisfied: pytz>=2024.2 in /opt/anaconda3/lib/python3.12/site-packages (from dateparser<2.0.0,>=1.2.0->wbdata) (2025.2)\n",
            "Requirement already satisfied: regex!=2019.02.19,!=2021.8.27,>=2015.06.24 in /opt/anaconda3/lib/python3.12/site-packages (from dateparser<2.0.0,>=1.2.0->wbdata) (2024.9.11)\n",
            "Requirement already satisfied: tzlocal>=0.2 in /opt/anaconda3/lib/python3.12/site-packages (from dateparser<2.0.0,>=1.2.0->wbdata) (5.3.1)\n",
            "Requirement already satisfied: charset-normalizer<4,>=2 in /opt/anaconda3/lib/python3.12/site-packages (from requests<3.0,>=2.0->wbdata) (3.3.2)\n",
            "Requirement already satisfied: idna<4,>=2.5 in /opt/anaconda3/lib/python3.12/site-packages (from requests<3.0,>=2.0->wbdata) (3.7)\n",
            "Requirement already satisfied: urllib3<3,>=1.21.1 in /opt/anaconda3/lib/python3.12/site-packages (from requests<3.0,>=2.0->wbdata) (2.2.3)\n",
            "Requirement already satisfied: certifi>=2017.4.17 in /opt/anaconda3/lib/python3.12/site-packages (from requests<3.0,>=2.0->wbdata) (2025.6.15)\n",
            "Requirement already satisfied: six>=1.5 in /opt/anaconda3/lib/python3.12/site-packages (from python-dateutil>=2.7.0->dateparser<2.0.0,>=1.2.0->wbdata) (1.16.0)\n"
          ]
        }
      ],
      "source": [
        "!pip install wbdata duckdb\n",
        "\n",
        "import wbdata\n",
        "import duckdb\n",
        "import pandas as pd\n",
        "import datetime\n",
        "countries = ['AF', 'GB', 'IN', 'KE', 'BR']\n",
        "\n",
        "indicators = {\n",
        "    'SP.DYN.LE00.IN': 'life_expectancy',\n",
        "    'SH.DYN.MORT': 'under5_mortality',\n",
        "    'SP.ADO.TFRT': 'adolescent_fertility',\n",
        "    'SE.SEC.ENRR': 'secondary_school_enrollment'\n",
        "}\n",
        "\n",
        "df = wbdata.get_dataframe(indicators, country=countries)\n",
        "df = df.reset_index()\n",
        "\n",
        "df['year'] = pd.to_datetime(df['date']).dt.year\n",
        "\n",
        "df = df[(df['year'] >= 2000) & (df['year'] <= 2023)]"
      ]
    },
    {
      "cell_type": "code",
      "execution_count": 3,
      "metadata": {
        "colab": {
          "base_uri": "https://localhost:8080/",
          "height": 206
        },
        "id": "7RNmIbKbYOXd",
        "outputId": "d112bed9-8a39-4c49-962a-b6a51c4e1cf4"
      },
      "outputs": [
        {
          "data": {
            "application/vnd.microsoft.datawrangler.viewer.v0+json": {
              "columns": [
                {
                  "name": "index",
                  "rawType": "int64",
                  "type": "integer"
                },
                {
                  "name": "country",
                  "rawType": "object",
                  "type": "string"
                },
                {
                  "name": "year",
                  "rawType": "int32",
                  "type": "integer"
                },
                {
                  "name": "life_expectancy",
                  "rawType": "float64",
                  "type": "float"
                },
                {
                  "name": "under5_mortality",
                  "rawType": "float64",
                  "type": "float"
                },
                {
                  "name": "adolescent_fertility",
                  "rawType": "float64",
                  "type": "float"
                },
                {
                  "name": "secondary_school_enrollment",
                  "rawType": "float64",
                  "type": "float"
                }
              ],
              "ref": "faa06b23-d864-4cb6-85b1-c9c40ef4382e",
              "rows": [
                [
                  "0",
                  "Afghanistan",
                  "2000",
                  "55.005",
                  "131.7",
                  "154.31",
                  null
                ],
                [
                  "1",
                  "Afghanistan",
                  "2001",
                  "55.511",
                  "127.4",
                  "152.471",
                  "14.4715099334717"
                ],
                [
                  "2",
                  "Afghanistan",
                  "2002",
                  "56.225",
                  "123.1",
                  "150.161",
                  null
                ],
                [
                  "3",
                  "Afghanistan",
                  "2003",
                  "57.171",
                  "118.7",
                  "143.75",
                  "14.078049659729"
                ],
                [
                  "4",
                  "Afghanistan",
                  "2004",
                  "57.81",
                  "114.2",
                  "136.93",
                  "19.2631397247314"
                ],
                [
                  "5",
                  "Afghanistan",
                  "2005",
                  "58.247",
                  "109.7",
                  "130.838",
                  "20.3119602203369"
                ],
                [
                  "6",
                  "Afghanistan",
                  "2006",
                  "58.553",
                  "105.1",
                  "121.635",
                  "29.6913509368896"
                ],
                [
                  "7",
                  "Afghanistan",
                  "2007",
                  "58.956",
                  "100.7",
                  "117.754",
                  "29.0891704559326"
                ],
                [
                  "8",
                  "Afghanistan",
                  "2008",
                  "59.708",
                  "96.3",
                  "118.979",
                  "39.090030670166"
                ],
                [
                  "9",
                  "Afghanistan",
                  "2009",
                  "60.248",
                  "92.2",
                  "109.655",
                  "44.3971710205078"
                ],
                [
                  "10",
                  "Afghanistan",
                  "2010",
                  "60.702",
                  "88.3",
                  "105.648",
                  "50.413688659668"
                ],
                [
                  "11",
                  "Afghanistan",
                  "2011",
                  "61.25",
                  "84.6",
                  "101.659",
                  "52.198429107666"
                ],
                [
                  "12",
                  "Afghanistan",
                  "2012",
                  "61.735",
                  "81.2",
                  "95.245",
                  "54.2063903808594"
                ],
                [
                  "13",
                  "Afghanistan",
                  "2013",
                  "62.188",
                  "78.0",
                  "89.337",
                  "54.7542190551758"
                ],
                [
                  "14",
                  "Afghanistan",
                  "2014",
                  "62.26",
                  "75.1",
                  "84.069",
                  "54.235481262207"
                ],
                [
                  "15",
                  "Afghanistan",
                  "2015",
                  "62.27",
                  "72.4",
                  "81.043",
                  "53.2851409912109"
                ],
                [
                  "16",
                  "Afghanistan",
                  "2016",
                  "62.646",
                  "70.0",
                  "78.13",
                  "53.5063400268555"
                ],
                [
                  "17",
                  "Afghanistan",
                  "2017",
                  "62.406",
                  "67.6",
                  "75.3",
                  "55.4021492004395"
                ],
                [
                  "18",
                  "Afghanistan",
                  "2018",
                  "62.443",
                  "65.4",
                  "73.021",
                  "57.0392990112305"
                ],
                [
                  "19",
                  "Afghanistan",
                  "2019",
                  "62.941",
                  "63.3",
                  "70.967",
                  null
                ],
                [
                  "20",
                  "Afghanistan",
                  "2020",
                  "61.454",
                  "61.3",
                  "68.877",
                  null
                ],
                [
                  "21",
                  "Afghanistan",
                  "2021",
                  "60.417",
                  "59.3",
                  "66.599",
                  null
                ],
                [
                  "22",
                  "Afghanistan",
                  "2022",
                  "65.617",
                  "57.4",
                  "65.339",
                  null
                ],
                [
                  "23",
                  "Afghanistan",
                  "2023",
                  "66.035",
                  "55.5",
                  "64.068",
                  null
                ],
                [
                  "24",
                  "Brazil",
                  "2000",
                  "69.584",
                  "34.5",
                  "85.611",
                  null
                ],
                [
                  "25",
                  "Brazil",
                  "2001",
                  "69.98",
                  "32.2",
                  "84.155",
                  null
                ],
                [
                  "26",
                  "Brazil",
                  "2002",
                  "70.396",
                  "30.1",
                  "81.131",
                  null
                ],
                [
                  "27",
                  "Brazil",
                  "2003",
                  "70.884",
                  "28.1",
                  "78.025",
                  null
                ],
                [
                  "28",
                  "Brazil",
                  "2004",
                  "71.361",
                  "26.3",
                  "76.9",
                  null
                ],
                [
                  "29",
                  "Brazil",
                  "2005",
                  "71.832",
                  "24.6",
                  "75.968",
                  null
                ],
                [
                  "30",
                  "Brazil",
                  "2006",
                  "72.296",
                  "23.1",
                  "73.845",
                  null
                ],
                [
                  "31",
                  "Brazil",
                  "2007",
                  "72.73",
                  "21.7",
                  "71.698",
                  null
                ],
                [
                  "32",
                  "Brazil",
                  "2008",
                  "73.111",
                  "20.5",
                  "69.141",
                  null
                ],
                [
                  "33",
                  "Brazil",
                  "2009",
                  "73.457",
                  "19.5",
                  "67.334",
                  null
                ],
                [
                  "34",
                  "Brazil",
                  "2010",
                  "73.779",
                  "18.6",
                  "65.474",
                  null
                ],
                [
                  "35",
                  "Brazil",
                  "2011",
                  "74.047",
                  "17.9",
                  "64.773",
                  null
                ],
                [
                  "36",
                  "Brazil",
                  "2012",
                  "74.335",
                  "17.2",
                  "64.285",
                  "94.3209762573242"
                ],
                [
                  "37",
                  "Brazil",
                  "2013",
                  "74.609",
                  "16.7",
                  "63.947",
                  "103.917678833008"
                ],
                [
                  "38",
                  "Brazil",
                  "2014",
                  "74.823",
                  "16.3",
                  "63.365",
                  "102.635528564453"
                ],
                [
                  "39",
                  "Brazil",
                  "2015",
                  "75.106",
                  "16.0",
                  "61.779",
                  "100.920516967773"
                ],
                [
                  "40",
                  "Brazil",
                  "2016",
                  "75.081",
                  "16.8",
                  "58.372",
                  "102.569511413574"
                ],
                [
                  "41",
                  "Brazil",
                  "2017",
                  "75.383",
                  "15.4",
                  "56.558",
                  "103.015960693359"
                ],
                [
                  "42",
                  "Brazil",
                  "2018",
                  "75.633",
                  "15.2",
                  "54.287",
                  "105.00707244873"
                ],
                [
                  "43",
                  "Brazil",
                  "2019",
                  "75.809",
                  "15.0",
                  "50.958",
                  "103.953277587891"
                ],
                [
                  "44",
                  "Brazil",
                  "2020",
                  "74.506",
                  "14.9",
                  "47.46",
                  "104.125999450684"
                ],
                [
                  "45",
                  "Brazil",
                  "2021",
                  "73.038",
                  "14.7",
                  "45.67",
                  "106.651901245117"
                ],
                [
                  "46",
                  "Brazil",
                  "2022",
                  "74.872",
                  "14.6",
                  "42.881",
                  "106.031188964844"
                ],
                [
                  "47",
                  "Brazil",
                  "2023",
                  "75.848",
                  "14.4",
                  "42.686",
                  null
                ],
                [
                  "48",
                  "India",
                  "2000",
                  "62.749",
                  "91.6",
                  "114.352",
                  "45.4210510253906"
                ],
                [
                  "49",
                  "India",
                  "2001",
                  "63.158",
                  "88.0",
                  "112.043",
                  "48.0781288146973"
                ]
              ],
              "shape": {
                "columns": 6,
                "rows": 120
              }
            },
            "text/html": [
              "<div>\n",
              "<style scoped>\n",
              "    .dataframe tbody tr th:only-of-type {\n",
              "        vertical-align: middle;\n",
              "    }\n",
              "\n",
              "    .dataframe tbody tr th {\n",
              "        vertical-align: top;\n",
              "    }\n",
              "\n",
              "    .dataframe thead th {\n",
              "        text-align: right;\n",
              "    }\n",
              "</style>\n",
              "<table border=\"1\" class=\"dataframe\">\n",
              "  <thead>\n",
              "    <tr style=\"text-align: right;\">\n",
              "      <th></th>\n",
              "      <th>country</th>\n",
              "      <th>year</th>\n",
              "      <th>life_expectancy</th>\n",
              "      <th>under5_mortality</th>\n",
              "      <th>adolescent_fertility</th>\n",
              "      <th>secondary_school_enrollment</th>\n",
              "    </tr>\n",
              "  </thead>\n",
              "  <tbody>\n",
              "    <tr>\n",
              "      <th>0</th>\n",
              "      <td>Afghanistan</td>\n",
              "      <td>2000</td>\n",
              "      <td>55.005000</td>\n",
              "      <td>131.7</td>\n",
              "      <td>154.310</td>\n",
              "      <td>NaN</td>\n",
              "    </tr>\n",
              "    <tr>\n",
              "      <th>1</th>\n",
              "      <td>Afghanistan</td>\n",
              "      <td>2001</td>\n",
              "      <td>55.511000</td>\n",
              "      <td>127.4</td>\n",
              "      <td>152.471</td>\n",
              "      <td>14.471510</td>\n",
              "    </tr>\n",
              "    <tr>\n",
              "      <th>2</th>\n",
              "      <td>Afghanistan</td>\n",
              "      <td>2002</td>\n",
              "      <td>56.225000</td>\n",
              "      <td>123.1</td>\n",
              "      <td>150.161</td>\n",
              "      <td>NaN</td>\n",
              "    </tr>\n",
              "    <tr>\n",
              "      <th>3</th>\n",
              "      <td>Afghanistan</td>\n",
              "      <td>2003</td>\n",
              "      <td>57.171000</td>\n",
              "      <td>118.7</td>\n",
              "      <td>143.750</td>\n",
              "      <td>14.078050</td>\n",
              "    </tr>\n",
              "    <tr>\n",
              "      <th>4</th>\n",
              "      <td>Afghanistan</td>\n",
              "      <td>2004</td>\n",
              "      <td>57.810000</td>\n",
              "      <td>114.2</td>\n",
              "      <td>136.930</td>\n",
              "      <td>19.263140</td>\n",
              "    </tr>\n",
              "    <tr>\n",
              "      <th>...</th>\n",
              "      <td>...</td>\n",
              "      <td>...</td>\n",
              "      <td>...</td>\n",
              "      <td>...</td>\n",
              "      <td>...</td>\n",
              "      <td>...</td>\n",
              "    </tr>\n",
              "    <tr>\n",
              "      <th>115</th>\n",
              "      <td>United Kingdom</td>\n",
              "      <td>2019</td>\n",
              "      <td>81.369122</td>\n",
              "      <td>4.4</td>\n",
              "      <td>11.064</td>\n",
              "      <td>117.233337</td>\n",
              "    </tr>\n",
              "    <tr>\n",
              "      <th>116</th>\n",
              "      <td>United Kingdom</td>\n",
              "      <td>2020</td>\n",
              "      <td>80.331756</td>\n",
              "      <td>4.4</td>\n",
              "      <td>9.701</td>\n",
              "      <td>114.651649</td>\n",
              "    </tr>\n",
              "    <tr>\n",
              "      <th>117</th>\n",
              "      <td>United Kingdom</td>\n",
              "      <td>2021</td>\n",
              "      <td>80.647317</td>\n",
              "      <td>4.4</td>\n",
              "      <td>8.578</td>\n",
              "      <td>113.683823</td>\n",
              "    </tr>\n",
              "    <tr>\n",
              "      <th>118</th>\n",
              "      <td>United Kingdom</td>\n",
              "      <td>2022</td>\n",
              "      <td>81.011220</td>\n",
              "      <td>4.5</td>\n",
              "      <td>8.379</td>\n",
              "      <td>113.228363</td>\n",
              "    </tr>\n",
              "    <tr>\n",
              "      <th>119</th>\n",
              "      <td>United Kingdom</td>\n",
              "      <td>2023</td>\n",
              "      <td>81.238098</td>\n",
              "      <td>4.5</td>\n",
              "      <td>8.359</td>\n",
              "      <td>NaN</td>\n",
              "    </tr>\n",
              "  </tbody>\n",
              "</table>\n",
              "<p>120 rows × 6 columns</p>\n",
              "</div>"
            ],
            "text/plain": [
              "            country  year  life_expectancy  under5_mortality  \\\n",
              "0       Afghanistan  2000        55.005000             131.7   \n",
              "1       Afghanistan  2001        55.511000             127.4   \n",
              "2       Afghanistan  2002        56.225000             123.1   \n",
              "3       Afghanistan  2003        57.171000             118.7   \n",
              "4       Afghanistan  2004        57.810000             114.2   \n",
              "..              ...   ...              ...               ...   \n",
              "115  United Kingdom  2019        81.369122               4.4   \n",
              "116  United Kingdom  2020        80.331756               4.4   \n",
              "117  United Kingdom  2021        80.647317               4.4   \n",
              "118  United Kingdom  2022        81.011220               4.5   \n",
              "119  United Kingdom  2023        81.238098               4.5   \n",
              "\n",
              "     adolescent_fertility  secondary_school_enrollment  \n",
              "0                 154.310                          NaN  \n",
              "1                 152.471                    14.471510  \n",
              "2                 150.161                          NaN  \n",
              "3                 143.750                    14.078050  \n",
              "4                 136.930                    19.263140  \n",
              "..                    ...                          ...  \n",
              "115                11.064                   117.233337  \n",
              "116                 9.701                   114.651649  \n",
              "117                 8.578                   113.683823  \n",
              "118                 8.379                   113.228363  \n",
              "119                 8.359                          NaN  \n",
              "\n",
              "[120 rows x 6 columns]"
            ]
          },
          "execution_count": 3,
          "metadata": {},
          "output_type": "execute_result"
        }
      ],
      "source": [
        "\n",
        "duckdb.sql(\"CREATE OR REPLACE VIEW wdi_raw AS SELECT * FROM df\")\n",
        "\n",
        "df_clean = duckdb.sql(\"\"\"\n",
        "SELECT\n",
        "  country,\n",
        "  year,\n",
        "  MAX(life_expectancy) AS life_expectancy,\n",
        "  MAX(under5_mortality) AS under5_mortality,\n",
        "  MAX(adolescent_fertility) AS adolescent_fertility,\n",
        "  MAX(secondary_school_enrollment) AS secondary_school_enrollment\n",
        "FROM wdi_raw\n",
        "GROUP BY country, year\n",
        "ORDER BY country, year\n",
        "\"\"\").df()\n",
        "\n",
        "df_clean"
      ]
    },
    {
      "cell_type": "code",
      "execution_count": 5,
      "metadata": {},
      "outputs": [],
      "source": [
        "df_clean.to_csv(\"../data/population_dynamics_clean.csv\", index=False)"
      ]
    }
  ],
  "metadata": {
    "colab": {
      "provenance": []
    },
    "kernelspec": {
      "display_name": "base",
      "language": "python",
      "name": "python3"
    },
    "language_info": {
      "codemirror_mode": {
        "name": "ipython",
        "version": 3
      },
      "file_extension": ".py",
      "mimetype": "text/x-python",
      "name": "python",
      "nbconvert_exporter": "python",
      "pygments_lexer": "ipython3",
      "version": "3.12.2"
    }
  },
  "nbformat": 4,
  "nbformat_minor": 0
}
